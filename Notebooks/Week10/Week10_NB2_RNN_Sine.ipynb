{
 "cells": [
  {
   "cell_type": "markdown",
   "id": "c3822cd4-3d23-4242-8424-6bf72376413f",
   "metadata": {
    "colab_type": "text"
   },
   "source": [
    "# Deep learning for timeseries with Recurrent Neural Networks\n",
    "\n",
    "To start, we are going to look at a very simple case: predicting values along a sine curve."
   ]
  },
  {
   "cell_type": "code",
   "execution_count": null,
   "id": "04cdec29-32b8-431f-a6e8-18e5eb7716ad",
   "metadata": {
    "tags": []
   },
   "outputs": [],
   "source": [
    "import numpy as np\n",
    "import matplotlib.pyplot as plt\n",
    "from sklearn.metrics import mean_squared_error\n",
    "\n",
    "import tensorflow as tf\n",
    "from tensorflow.keras.models import Sequential\n",
    "from tensorflow.keras.layers import SimpleRNN, Dense, LSTM, Dropout\n",
    "\n",
    "tf.get_logger().setLevel('ERROR')"
   ]
  },
  {
   "cell_type": "markdown",
   "id": "c132516f-595d-41fc-b191-2b2b996e223b",
   "metadata": {
    "tags": []
   },
   "source": [
    "Our time series will consist simply of a sine wave:"
   ]
  },
  {
   "cell_type": "code",
   "execution_count": null,
   "id": "29d4c876-9381-4c5f-8918-99b9e67423c1",
   "metadata": {
    "tags": []
   },
   "outputs": [],
   "source": [
    "n_steps = 150\n",
    "time_steps = np.linspace(0, 30, n_steps)\n",
    "sine_wave = np.sin(time_steps)"
   ]
  },
  {
   "cell_type": "code",
   "execution_count": null,
   "id": "a4b458ea-b2a2-4893-910e-32ca011d65ba",
   "metadata": {
    "tags": []
   },
   "outputs": [],
   "source": [
    "plt.plot(sine_wave, label='Original Sequence')\n",
    "plt.xlabel('Time Step')\n",
    "plt.ylabel('Value')\n",
    "plt.title('Original Sequence')\n",
    "plt.show()"
   ]
  },
  {
   "cell_type": "markdown",
   "id": "f6ffacda-5744-42f2-9cc1-46a07faddc78",
   "metadata": {},
   "source": [
    "We'll manually split this up into a training and a test set, where the test set consists of points in the future after the \"times\" of our training data."
   ]
  },
  {
   "cell_type": "code",
   "execution_count": null,
   "id": "f5e0eb2d-955d-4c27-9d98-9be3673d6a92",
   "metadata": {
    "tags": []
   },
   "outputs": [],
   "source": [
    "train_size = int(n_steps * 0.75)\n",
    "train = sine_wave[:train_size]\n",
    "test = sine_wave[train_size:]"
   ]
  },
  {
   "cell_type": "markdown",
   "id": "a998bec0-021a-4bdf-a6af-98ef02a82761",
   "metadata": {},
   "source": [
    "Our samples for doing time series prediction are time series.  We have one total time series in our data so far, but we can break that up into individual samples of shorter time series."
   ]
  },
  {
   "cell_type": "code",
   "execution_count": null,
   "id": "01b915ec-d629-4c5c-ba15-9c01f463b71f",
   "metadata": {
    "tags": []
   },
   "outputs": [],
   "source": [
    "def create_dataset(dataset, look_back=1):\n",
    "    X, Y = [], []\n",
    "    for i in range(len(dataset) - look_back):\n",
    "        a = dataset[i:(i + look_back)]\n",
    "        X.append(a)\n",
    "        Y.append(dataset[i + look_back])\n",
    "    return np.array(X), np.array(Y)\n",
    "\n",
    "look_back = 2  # Number of previous time steps to use as input features\n",
    "X_train, y_train = create_dataset(train, look_back)\n",
    "X_test, y_test = create_dataset(test, look_back)\n",
    "\n",
    "# Not strictly necessary here since we only have 1 feature\n",
    "# but reshape into [samples, time steps, features]\n",
    "X_train = X_train.reshape(X_train.shape[0],X_train.shape[1],1)\n",
    "X_test = X_test.reshape(X_test.shape[0],X_test.shape[1],1)"
   ]
  },
  {
   "cell_type": "code",
   "execution_count": null,
   "id": "edc92b52-24c7-464e-bc8a-09580bf1c039",
   "metadata": {
    "tags": []
   },
   "outputs": [],
   "source": [
    "X_train.shape"
   ]
  },
  {
   "cell_type": "code",
   "execution_count": null,
   "id": "78e0eb39-23dd-4228-a54e-a63a5f9b22a7",
   "metadata": {
    "tags": []
   },
   "outputs": [],
   "source": [
    "y_train.shape"
   ]
  },
  {
   "cell_type": "code",
   "execution_count": null,
   "id": "5eb2e5d7-3e9a-4696-8267-c8147f4ee9f7",
   "metadata": {
    "tags": []
   },
   "outputs": [],
   "source": [
    "for i in range(4):\n",
    "    print(X_train[i], y_train[i])"
   ]
  },
  {
   "cell_type": "markdown",
   "id": "4d1fa549-5236-462d-962d-007fb60d5a2a",
   "metadata": {},
   "source": [
    "Using a simple RNN model:"
   ]
  },
  {
   "cell_type": "code",
   "execution_count": null,
   "id": "d74a4314-33cb-4e27-b0a5-94b7227256a4",
   "metadata": {
    "tags": []
   },
   "outputs": [],
   "source": [
    "network = Sequential([\n",
    "    SimpleRNN(units=10, activation='relu', return_sequences=True, input_shape=(2, 1)),\n",
    "    SimpleRNN(units=10, activation='relu'),\n",
    "    Dense(units=1)\n",
    "])"
   ]
  },
  {
   "cell_type": "code",
   "execution_count": null,
   "id": "7805e807-d69c-4ffc-884d-43926461a490",
   "metadata": {
    "tags": []
   },
   "outputs": [],
   "source": [
    "network.summary()"
   ]
  },
  {
   "cell_type": "markdown",
   "id": "168d2dda-f394-4604-b0ae-d9f8c2900866",
   "metadata": {},
   "source": [
    "Compile the model with an appropriate optimizer, loss function, and metric.  This is a regression problem, since the predictions are continuously valued."
   ]
  },
  {
   "cell_type": "code",
   "execution_count": null,
   "id": "92329af9-3887-4be4-9c23-c55b4a8356be",
   "metadata": {
    "tags": []
   },
   "outputs": [],
   "source": [
    "network.compile(optimizer='adam', loss='mse', metrics=['mae'])"
   ]
  },
  {
   "cell_type": "markdown",
   "id": "4aae6c57-5dba-406f-8a0b-60bf717432b3",
   "metadata": {},
   "source": [
    "Train the model:"
   ]
  },
  {
   "cell_type": "code",
   "execution_count": null,
   "id": "604a9a41-3b5a-486a-8c31-6a0778f0af79",
   "metadata": {
    "tags": []
   },
   "outputs": [],
   "source": [
    "model = network.fit(X_train, y_train, \n",
    "                    epochs=100, \n",
    "                    verbose=0)"
   ]
  },
  {
   "cell_type": "code",
   "execution_count": null,
   "id": "357c8231-82e3-413c-88a8-a8faa914e94e",
   "metadata": {
    "tags": []
   },
   "outputs": [],
   "source": [
    "import matplotlib.pyplot as plt\n",
    "\n",
    "history_dict = model.history\n",
    "loss_values = history_dict['loss']\n",
    "mae_values = history_dict['mae']\n",
    "\n",
    "epochs = range(1, len(mae_values) + 1)\n",
    "\n",
    "plt.plot(epochs, loss_values, 'bo', label='Training Loss')\n",
    "plt.plot(epochs, mae_values, 'b', label='Training MAE')\n",
    "plt.title('Training Loss and MAE')\n",
    "plt.xlabel('Epochs')\n",
    "plt.ylabel('Loss/MAE')\n",
    "plt.legend()\n",
    "plt.show()"
   ]
  },
  {
   "cell_type": "markdown",
   "id": "228bff1f-3650-431c-b999-2232e70d5f11",
   "metadata": {},
   "source": [
    "Assessing the model's predictions on the training data:"
   ]
  },
  {
   "cell_type": "code",
   "execution_count": null,
   "id": "6b7a74c4-57eb-4dfa-b6e0-262500d341b5",
   "metadata": {
    "tags": []
   },
   "outputs": [],
   "source": [
    "X_train.shape"
   ]
  },
  {
   "cell_type": "code",
   "execution_count": null,
   "id": "3c92e4fe-ee94-443d-9871-aa7cd56df453",
   "metadata": {
    "tags": []
   },
   "outputs": [],
   "source": [
    "# Generate predictions\n",
    "predicted_sequence = network.predict(X_train)\n",
    "\n",
    "predicted_sequence.shape"
   ]
  },
  {
   "cell_type": "code",
   "execution_count": null,
   "id": "3c8c3bbc-4a33-4978-a9b0-131d35050e30",
   "metadata": {
    "tags": []
   },
   "outputs": [],
   "source": [
    "# Plot the original and predicted sequences\n",
    "plt.plot(y_train, label='Original Sequence')\n",
    "plt.plot(predicted_sequence, label='Predicted Sequence')\n",
    "plt.xlabel('Time Step')\n",
    "plt.ylabel('Value')\n",
    "plt.title('Original vs. Predicted Sequence')\n",
    "plt.legend()\n",
    "plt.show()"
   ]
  },
  {
   "cell_type": "code",
   "execution_count": null,
   "id": "fd18c386-a7b9-47de-a35b-f57d87e84782",
   "metadata": {
    "tags": []
   },
   "outputs": [],
   "source": [
    "X_test[0]"
   ]
  },
  {
   "cell_type": "code",
   "execution_count": null,
   "id": "05a6a66b-0a65-42ec-9adf-e445dc9e9714",
   "metadata": {
    "tags": []
   },
   "outputs": [],
   "source": [
    "network.predict(X_test[0].reshape(-1,2,1))"
   ]
  },
  {
   "cell_type": "code",
   "execution_count": null,
   "id": "9385eadd-0940-4bd8-8440-aa15b2287685",
   "metadata": {
    "tags": []
   },
   "outputs": [],
   "source": [
    "network.evaluate(X_test, y_test)"
   ]
  },
  {
   "cell_type": "code",
   "execution_count": null,
   "id": "92a08082-81bb-4b52-a67a-be2df3edcc45",
   "metadata": {
    "tags": []
   },
   "outputs": [],
   "source": [
    "y_predict = network.predict(X_test)"
   ]
  },
  {
   "cell_type": "code",
   "execution_count": null,
   "id": "17022c71-74a3-4e90-99b8-66239186f259",
   "metadata": {
    "tags": []
   },
   "outputs": [],
   "source": [
    "mean_squared_error(y_test, y_predict)"
   ]
  },
  {
   "cell_type": "markdown",
   "id": "849c4a8a-7368-4251-96a3-379ebad5f724",
   "metadata": {},
   "source": [
    "# Improving the predictions\n",
    "\n",
    "There are a couple easy ways to try to tweak this model:\n",
    "* change the length of the time series\n",
    "  * try going from 2 to 5, and note the places you need to change\n",
    "* increase the amount of data sampled within a given time range (may not be possible for real data)\n",
    "  * try using 750 data points total instead of 150 (but keeping the sample time series length at 2 points)\n",
    "* increase the number of layers\n",
    "  * what happens with more? what happens with less??\n",
    "* use hyperparameters and/or regularization constraints\n",
    "  * do you think the model is overfitting?  and how would you assess that?"
   ]
  },
  {
   "cell_type": "markdown",
   "id": "c2fcbff6-1800-4238-89fc-290558e74d1b",
   "metadata": {},
   "source": [
    "# LSTM"
   ]
  },
  {
   "cell_type": "markdown",
   "id": "2ab9e1df-e4f2-4314-a82c-b9fd1e8e121c",
   "metadata": {},
   "source": [
    "LSTMs are another way of using RNN.  They can be better suited for capturing long-range dependencies in sequences. The rest of the code remains largely the same, including preprocessing, data preparation, model building, training, and evaluation."
   ]
  },
  {
   "cell_type": "code",
   "execution_count": null,
   "id": "693f4403-62e1-42e1-9ed3-6a1194286f60",
   "metadata": {
    "tags": []
   },
   "outputs": [],
   "source": [
    "# Build the RNN model using LSTM\n",
    "network = Sequential([\n",
    "    LSTM(units=10, activation='relu', input_shape=(2, 1)),\n",
    "    Dense(units=1)\n",
    "])"
   ]
  },
  {
   "cell_type": "code",
   "execution_count": null,
   "id": "b5406810-5cc1-48cc-a2a6-625f3784ca86",
   "metadata": {
    "tags": []
   },
   "outputs": [],
   "source": [
    "network.summary()"
   ]
  },
  {
   "cell_type": "code",
   "execution_count": null,
   "id": "afdc7562-e8aa-4dc8-a48e-a113514e5110",
   "metadata": {
    "tags": []
   },
   "outputs": [],
   "source": [
    "# Compile the model\n",
    "network.compile(optimizer='adam', loss='mse', metrics=['mae'])"
   ]
  },
  {
   "cell_type": "code",
   "execution_count": null,
   "id": "b51c8725-981c-45c9-bd06-21a0fe50a9d2",
   "metadata": {
    "tags": []
   },
   "outputs": [],
   "source": [
    "# Train the model\n",
    "model = network.fit(X_train, y_train, epochs=100, verbose=0)"
   ]
  },
  {
   "cell_type": "code",
   "execution_count": null,
   "id": "33e1556d-ba8a-4c71-9f46-79aeca4b211e",
   "metadata": {
    "tags": []
   },
   "outputs": [],
   "source": [
    "import matplotlib.pyplot as plt\n",
    "\n",
    "history_dict = model.history\n",
    "loss_values = history_dict['loss']\n",
    "mae_values = history_dict['mae']\n",
    "\n",
    "epochs = range(1, len(mae_values) + 1)\n",
    "\n",
    "plt.plot(epochs, loss_values, 'bo', label='Training Loss')\n",
    "plt.plot(epochs, mae_values, 'b', label='Training MAE')\n",
    "plt.title('Training Loss and MAE')\n",
    "plt.xlabel('Epochs')\n",
    "plt.ylabel('Loss/MAE')\n",
    "plt.legend()\n",
    "plt.show()"
   ]
  },
  {
   "cell_type": "code",
   "execution_count": null,
   "id": "60cd5e5d-504c-49f9-a432-d4abe956b4a0",
   "metadata": {
    "tags": []
   },
   "outputs": [],
   "source": [
    "# Generate predictions\n",
    "predicted_sequence = network.predict(X_train)\n",
    "\n",
    "# Plot the original and predicted sequences\n",
    "plt.plot(y_train, label='Original Sequence')\n",
    "plt.plot(predicted_sequence, label='Predicted Sequence')\n",
    "plt.xlabel('Time Step')\n",
    "plt.ylabel('Value')\n",
    "plt.title('Original vs. Predicted Sequence')\n",
    "plt.legend()\n",
    "plt.show()"
   ]
  },
  {
   "cell_type": "code",
   "execution_count": null,
   "id": "83acce9c-6314-45f2-a2c6-d40d25d855d1",
   "metadata": {
    "tags": []
   },
   "outputs": [],
   "source": [
    "X_test[0]"
   ]
  },
  {
   "cell_type": "code",
   "execution_count": null,
   "id": "c702fb13-15a8-4d6f-bb82-1e48e80ad7c4",
   "metadata": {
    "tags": []
   },
   "outputs": [],
   "source": [
    "network.predict(X_test[0].reshape(-1,2,1))"
   ]
  },
  {
   "cell_type": "code",
   "execution_count": null,
   "id": "ba392e76-8307-4d95-a1de-e2edd31da6bf",
   "metadata": {
    "tags": []
   },
   "outputs": [],
   "source": [
    "network.evaluate(X_test, y_test)"
   ]
  },
  {
   "cell_type": "code",
   "execution_count": null,
   "id": "e565e5a3-459a-4bd1-a3ac-6451e11e2931",
   "metadata": {
    "tags": []
   },
   "outputs": [],
   "source": [
    "y_predict = network.predict(X_test)"
   ]
  },
  {
   "cell_type": "code",
   "execution_count": null,
   "id": "f7500502-5fba-49f3-9c09-7662e90d865a",
   "metadata": {
    "tags": []
   },
   "outputs": [],
   "source": [
    "mean_squared_error(y_test, y_predict)"
   ]
  },
  {
   "cell_type": "markdown",
   "id": "c4ef4222-2763-4a62-b8f7-37eb2da291c6",
   "metadata": {},
   "source": [
    "What happens if we increase the number of units and toss in another layer?"
   ]
  },
  {
   "cell_type": "code",
   "execution_count": null,
   "id": "4e5510ac-d24e-49ee-8c81-a9b3bc93cb63",
   "metadata": {
    "tags": []
   },
   "outputs": [],
   "source": [
    "# Build the RNN model using LSTM\n",
    "network = Sequential([\n",
    "    LSTM(units=32, activation='relu', return_sequences=True, input_shape=(2, 1)),\n",
    "    LSTM(units=32, activation='relu'),\n",
    "    Dense(units=1)\n",
    "])"
   ]
  },
  {
   "cell_type": "code",
   "execution_count": null,
   "id": "80475954-34fe-452b-8265-2fc604b7ca80",
   "metadata": {
    "tags": []
   },
   "outputs": [],
   "source": [
    "network.summary()"
   ]
  },
  {
   "cell_type": "code",
   "execution_count": null,
   "id": "a67b6f48-9487-4a9d-a489-4d3970f125a7",
   "metadata": {
    "tags": []
   },
   "outputs": [],
   "source": [
    "# Compile the model\n",
    "network.compile(optimizer='adam', loss='mse', metrics=['mae'])"
   ]
  },
  {
   "cell_type": "code",
   "execution_count": null,
   "id": "142ef156-f6b2-4324-9c88-f22eea92024d",
   "metadata": {
    "tags": []
   },
   "outputs": [],
   "source": [
    "# Train the model\n",
    "model = network.fit(X_train, y_train, epochs=100, verbose=0)"
   ]
  },
  {
   "cell_type": "code",
   "execution_count": null,
   "id": "5b355d0d-b43b-428d-9836-de5fe218783d",
   "metadata": {
    "tags": []
   },
   "outputs": [],
   "source": [
    "import matplotlib.pyplot as plt\n",
    "\n",
    "history_dict = model.history\n",
    "loss_values = history_dict['loss']\n",
    "mae_values = history_dict['mae']\n",
    "\n",
    "epochs = range(1, len(mae_values) + 1)\n",
    "\n",
    "plt.plot(epochs, loss_values, 'bo', label='Training Loss')\n",
    "plt.plot(epochs, mae_values, 'b', label='Training MAE')\n",
    "plt.title('Training Loss and MAE')\n",
    "plt.xlabel('Epochs')\n",
    "plt.ylabel('Loss/MAE')\n",
    "plt.legend()\n",
    "plt.show()"
   ]
  },
  {
   "cell_type": "code",
   "execution_count": null,
   "id": "98684825-93f7-4eb9-a058-a6a245d731dc",
   "metadata": {
    "tags": []
   },
   "outputs": [],
   "source": [
    "# Generate predictions\n",
    "predicted_sequence = network.predict(X_train)\n",
    "\n",
    "# Plot the original and predicted sequences\n",
    "plt.plot(y_train, label='Original Sequence')\n",
    "plt.plot(predicted_sequence, label='Predicted Sequence')\n",
    "plt.xlabel('Time Step')\n",
    "plt.ylabel('Value')\n",
    "plt.title('Original vs. Predicted Sequence')\n",
    "plt.legend()\n",
    "plt.show()"
   ]
  },
  {
   "cell_type": "code",
   "execution_count": null,
   "id": "299f4b18-7b0e-4e2d-bb62-4749e518d6d2",
   "metadata": {
    "tags": []
   },
   "outputs": [],
   "source": [
    "X_test[0]"
   ]
  },
  {
   "cell_type": "code",
   "execution_count": null,
   "id": "33a294fa-2364-42ef-a5e2-b1777567ba40",
   "metadata": {
    "tags": []
   },
   "outputs": [],
   "source": [
    "network.predict(X_test[0].reshape(-1,2,1))"
   ]
  },
  {
   "cell_type": "code",
   "execution_count": null,
   "id": "3f155982-f9a8-4909-b889-9c2aac5d67ba",
   "metadata": {
    "tags": []
   },
   "outputs": [],
   "source": [
    "network.evaluate(X_test, y_test)"
   ]
  },
  {
   "cell_type": "code",
   "execution_count": null,
   "id": "e5dcf6fd-c613-44f9-8aed-1ee8ba44cac7",
   "metadata": {
    "tags": []
   },
   "outputs": [],
   "source": [
    "y_predict = network.predict(X_test)"
   ]
  },
  {
   "cell_type": "code",
   "execution_count": null,
   "id": "c5d92a13-707c-42f8-baa8-efd0930fca85",
   "metadata": {
    "tags": []
   },
   "outputs": [],
   "source": [
    "mean_squared_error(y_test, y_predict)"
   ]
  },
  {
   "cell_type": "markdown",
   "id": "783a1c33-ca35-44f5-8214-f5973ced26d9",
   "metadata": {
    "tags": []
   },
   "source": [
    "But perhaps we're overfitting?"
   ]
  },
  {
   "cell_type": "code",
   "execution_count": null,
   "id": "0136bfa5-aee9-4630-9033-f920b7c9ffc3",
   "metadata": {
    "tags": []
   },
   "outputs": [],
   "source": [
    "# Split into train and test set\n",
    "train_size = int(n_steps * 0.5)\n",
    "val_size = int(n_steps * 0.25)\n",
    "train = sine_wave[:train_size]\n",
    "val = sine_wave[train_size:train_size+val_size]\n",
    "test = sine_wave[train_size+val_size:]"
   ]
  },
  {
   "cell_type": "code",
   "execution_count": null,
   "id": "3434304a-4a9d-41f9-b5a9-5aaa1d73522e",
   "metadata": {
    "tags": []
   },
   "outputs": [],
   "source": [
    "# Create our \"samples\", i.e., our sets of time series\n",
    "\n",
    "def create_dataset(dataset, look_back=1):\n",
    "    X, Y = [], []\n",
    "    for i in range(len(dataset) - look_back):\n",
    "        a = dataset[i:(i + look_back)]\n",
    "        X.append(a)\n",
    "        Y.append(dataset[i + look_back])\n",
    "    return np.array(X), np.array(Y)\n",
    "\n",
    "look_back = 2  # Number of previous time steps to use as input features\n",
    "X_train, y_train = create_dataset(train, look_back)\n",
    "X_val, y_val = create_dataset(val, look_back)\n",
    "X_test, y_test = create_dataset(test, look_back)\n",
    "\n",
    "# Not strictly necessary here since we only have 1 feature\n",
    "# but reshape into [samples, time steps, features]\n",
    "X_train = X_train.reshape(X_train.shape[0],X_train.shape[1],1)\n",
    "X_val = X_val.reshape(X_val.shape[0],X_val.shape[1],1)\n",
    "X_test = X_test.reshape(X_test.shape[0],X_test.shape[1],1)"
   ]
  },
  {
   "cell_type": "code",
   "execution_count": null,
   "id": "d6e3d905-2ce1-407a-b8c5-b72892dd6fcf",
   "metadata": {
    "tags": []
   },
   "outputs": [],
   "source": [
    "# Build the RNN model using LSTM\n",
    "network = Sequential([\n",
    "    LSTM(units=32, activation='relu', return_sequences=True, input_shape=(2, 1)),\n",
    "    LSTM(units=32, activation='relu'),\n",
    "    Dense(units=1)\n",
    "])"
   ]
  },
  {
   "cell_type": "code",
   "execution_count": null,
   "id": "07f817fc-8fd6-47e1-9a8e-af73f90b9ce6",
   "metadata": {
    "tags": []
   },
   "outputs": [],
   "source": [
    "network.summary()"
   ]
  },
  {
   "cell_type": "code",
   "execution_count": null,
   "id": "ee895594-e3ef-485b-b1bd-e855d158dd2d",
   "metadata": {
    "tags": []
   },
   "outputs": [],
   "source": [
    "# Compile the model\n",
    "network.compile(optimizer='adam', loss='mse', metrics=['mae'])"
   ]
  },
  {
   "cell_type": "code",
   "execution_count": null,
   "id": "daa3b6c7-985c-46aa-9c69-0404173095f1",
   "metadata": {
    "tags": []
   },
   "outputs": [],
   "source": [
    "# Train the model\n",
    "model = network.fit(X_train, y_train, \n",
    "                    validation_data = (X_val, y_val),\n",
    "                    epochs=100, \n",
    "                    verbose=0)"
   ]
  },
  {
   "cell_type": "code",
   "execution_count": null,
   "id": "e8267bce-f1fb-4a1f-aee6-b49e16e89ff3",
   "metadata": {
    "tags": []
   },
   "outputs": [],
   "source": [
    "mae = model.history[\"mae\"]\n",
    "val_mae = model.history[\"val_mae\"]\n",
    "loss = model.history[\"loss\"]\n",
    "val_loss = model.history[\"val_loss\"]\n",
    "epochs = range(1, len(mae) + 1)\n",
    "plt.plot(epochs, mae, \"bo\", label=\"Training mae\")\n",
    "plt.plot(epochs, val_mae, \"b\", label=\"Validation mae\")\n",
    "plt.title(\"Training and validation mae\")\n",
    "plt.legend()\n",
    "plt.figure()\n",
    "plt.plot(epochs, loss, \"bo\", label=\"Training loss\")\n",
    "plt.plot(epochs, val_loss, \"b\", label=\"Validation loss\")\n",
    "plt.title(\"Training and validation loss\")\n",
    "plt.legend()\n",
    "plt.show()"
   ]
  },
  {
   "cell_type": "code",
   "execution_count": null,
   "id": "a6decddc-549f-4446-8f8f-e449ef3d43d8",
   "metadata": {
    "tags": []
   },
   "outputs": [],
   "source": [
    "# Generate predictions\n",
    "predicted_sequence = network.predict(X_train)\n",
    "\n",
    "# Plot the original and predicted sequences\n",
    "plt.plot(y_train, label='Original Sequence')\n",
    "plt.plot(predicted_sequence, label='Predicted Sequence')\n",
    "plt.xlabel('Time Step')\n",
    "plt.ylabel('Value')\n",
    "plt.title('Original vs. Predicted Sequence')\n",
    "plt.legend()\n",
    "plt.show()"
   ]
  },
  {
   "cell_type": "code",
   "execution_count": null,
   "id": "8d71c7a9-5d83-4316-b850-65eadb51b4e2",
   "metadata": {
    "tags": []
   },
   "outputs": [],
   "source": [
    "X_test[0]"
   ]
  },
  {
   "cell_type": "code",
   "execution_count": null,
   "id": "7ebccc65-2006-41df-8ec0-34c599e031e6",
   "metadata": {
    "tags": []
   },
   "outputs": [],
   "source": [
    "network.predict(X_test[0].reshape(-1,2,1))"
   ]
  },
  {
   "cell_type": "code",
   "execution_count": null,
   "id": "0ac68943-ec6a-4227-a00c-d1e28f660037",
   "metadata": {
    "tags": []
   },
   "outputs": [],
   "source": [
    "network.evaluate(X_test, y_test)"
   ]
  },
  {
   "cell_type": "code",
   "execution_count": null,
   "id": "9e829a8f-5d0f-4452-9bb7-f0904d6975ab",
   "metadata": {
    "tags": []
   },
   "outputs": [],
   "source": [
    "y_predict = network.predict(X_test)"
   ]
  },
  {
   "cell_type": "code",
   "execution_count": null,
   "id": "494c5154-e941-42a4-9dc1-d518344bcf1b",
   "metadata": {
    "tags": []
   },
   "outputs": [],
   "source": [
    "mean_squared_error(y_test, y_predict)"
   ]
  },
  {
   "cell_type": "markdown",
   "id": "1fc71a2e-debf-4956-ba14-c13e126069af",
   "metadata": {},
   "source": [
    "To demonstrate adding some regularization, here we introduce a Dropout layer too:"
   ]
  },
  {
   "cell_type": "code",
   "execution_count": null,
   "id": "e8dc15a5-4ac0-4650-ba97-e30429588d7e",
   "metadata": {
    "tags": []
   },
   "outputs": [],
   "source": [
    "# Build the RNN model using LSTM\n",
    "network = Sequential([\n",
    "    LSTM(units=32, activation='relu', return_sequences=True, input_shape=(2, 1)),\n",
    "    Dropout(0.2),\n",
    "    LSTM(units=32, activation='relu'),\n",
    "    Dense(units=1)\n",
    "])"
   ]
  },
  {
   "cell_type": "code",
   "execution_count": null,
   "id": "96378f4f-033b-46d0-a7bd-d79e54b712c0",
   "metadata": {
    "tags": []
   },
   "outputs": [],
   "source": [
    "network.summary()"
   ]
  },
  {
   "cell_type": "code",
   "execution_count": null,
   "id": "26e141b7-99bd-4ff7-ac1c-f17d4385eb91",
   "metadata": {
    "tags": []
   },
   "outputs": [],
   "source": [
    "# Compile the model\n",
    "network.compile(optimizer='adam', loss='mse', metrics=['mae'])"
   ]
  },
  {
   "cell_type": "code",
   "execution_count": null,
   "id": "78fd6318-0646-4ade-9a0d-7e8cc1a28e24",
   "metadata": {
    "tags": []
   },
   "outputs": [],
   "source": [
    "# Train the model\n",
    "model = network.fit(X_train, y_train, \n",
    "                    validation_data = (X_val, y_val),\n",
    "                    epochs=100,\n",
    "                    verbose=0)"
   ]
  },
  {
   "cell_type": "code",
   "execution_count": null,
   "id": "faa629a7-3323-48eb-a79d-da802a4e27b2",
   "metadata": {
    "tags": []
   },
   "outputs": [],
   "source": [
    "mae = model.history[\"mae\"]\n",
    "val_mae = model.history[\"val_mae\"]\n",
    "loss = model.history[\"loss\"]\n",
    "val_loss = model.history[\"val_loss\"]\n",
    "epochs = range(1, len(mae) + 1)\n",
    "plt.plot(epochs, mae, \"bo\", label=\"Training mae\")\n",
    "plt.plot(epochs, val_mae, \"b\", label=\"Validation mae\")\n",
    "plt.title(\"Training and validation mae\")\n",
    "plt.legend()\n",
    "plt.figure()\n",
    "plt.plot(epochs, loss, \"bo\", label=\"Training loss\")\n",
    "plt.plot(epochs, val_loss, \"b\", label=\"Validation loss\")\n",
    "plt.title(\"Training and validation loss\")\n",
    "plt.legend()\n",
    "plt.show()"
   ]
  },
  {
   "cell_type": "code",
   "execution_count": null,
   "id": "df7b3eba-0e38-4260-89d5-fbda05a881cd",
   "metadata": {
    "tags": []
   },
   "outputs": [],
   "source": [
    "# Generate predictions\n",
    "predicted_sequence = network.predict(X_train)\n",
    "\n",
    "# Plot the original and predicted sequences\n",
    "plt.plot(y_train, label='Original Sequence')\n",
    "plt.plot(predicted_sequence, label='Predicted Sequence')\n",
    "plt.xlabel('Time Step')\n",
    "plt.ylabel('Value')\n",
    "plt.title('Original vs. Predicted Sequence')\n",
    "plt.legend()\n",
    "plt.show()"
   ]
  },
  {
   "cell_type": "code",
   "execution_count": null,
   "id": "711bc024-1770-4aa8-b9c8-187f7a3a4575",
   "metadata": {
    "tags": []
   },
   "outputs": [],
   "source": [
    "X_test[0]"
   ]
  },
  {
   "cell_type": "code",
   "execution_count": null,
   "id": "65db4747-75f4-4354-a39f-2c6a63134683",
   "metadata": {
    "tags": []
   },
   "outputs": [],
   "source": [
    "network.predict(X_test[0].reshape(-1,2,1))"
   ]
  },
  {
   "cell_type": "code",
   "execution_count": null,
   "id": "1d0e56e2-f4d2-4c71-b97f-b114b78b7f2b",
   "metadata": {
    "tags": []
   },
   "outputs": [],
   "source": [
    "network.evaluate(X_test, y_test)"
   ]
  },
  {
   "cell_type": "code",
   "execution_count": null,
   "id": "08eb2d7a-544e-40d2-89d1-cc3e436bc04d",
   "metadata": {
    "tags": []
   },
   "outputs": [],
   "source": [
    "y_predict = network.predict(X_test)"
   ]
  },
  {
   "cell_type": "code",
   "execution_count": null,
   "id": "a0599a1c-9bdc-458b-94f7-b0db9fe4ca85",
   "metadata": {
    "tags": []
   },
   "outputs": [],
   "source": [
    "mean_squared_error(y_test, y_predict)"
   ]
  },
  {
   "cell_type": "markdown",
   "id": "6e9c9fd9-fd39-4e08-ad49-c0261376a2e0",
   "metadata": {},
   "source": [
    "# New Time Series:  Airline Passenger Dataset"
   ]
  },
  {
   "cell_type": "code",
   "execution_count": null,
   "id": "a0b49cf1-ad66-4db1-b062-780647048581",
   "metadata": {
    "tags": []
   },
   "outputs": [],
   "source": [
    "import pandas as pd\n",
    "from sklearn.preprocessing import MinMaxScaler"
   ]
  },
  {
   "cell_type": "code",
   "execution_count": null,
   "id": "81b70087-cf0e-46e5-9ba9-d899fe9e7357",
   "metadata": {
    "tags": []
   },
   "outputs": [],
   "source": [
    "# Load the dataset\n",
    "url = \"https://raw.githubusercontent.com/jbrownlee/Datasets/master/airline-passengers.csv\"\n",
    "data = pd.read_csv(url)\n",
    "passengers = data['Passengers'].values.astype(float)"
   ]
  },
  {
   "cell_type": "code",
   "execution_count": null,
   "id": "4699a669-9ca5-4d4e-bdd5-c21b61424980",
   "metadata": {
    "tags": []
   },
   "outputs": [],
   "source": [
    "data"
   ]
  },
  {
   "cell_type": "code",
   "execution_count": null,
   "id": "2b115223-f590-4ad8-b60f-42a75063457d",
   "metadata": {
    "tags": []
   },
   "outputs": [],
   "source": [
    "# Normalize the data\n",
    "scaler = MinMaxScaler(feature_range=(0, 1))\n",
    "passengers = scaler.fit_transform(passengers.reshape(-1, 1))"
   ]
  },
  {
   "cell_type": "code",
   "execution_count": null,
   "id": "1f52a93f-49e1-4172-9ed8-0c67a9f293b9",
   "metadata": {
    "tags": []
   },
   "outputs": [],
   "source": [
    "# Prepare the data\n",
    "train_size = int(len(passengers) * 0.75)\n",
    "train = passengers[:train_size]\n",
    "test = passengers[train_size:]"
   ]
  },
  {
   "cell_type": "code",
   "execution_count": null,
   "id": "de4c37f8-2d31-4bcc-a9be-78354567e295",
   "metadata": {
    "tags": []
   },
   "outputs": [],
   "source": [
    "plt.figure(figsize=(10, 6))\n",
    "plt.plot(scaler.inverse_transform(passengers))\n",
    "plt.xlabel('Time')\n",
    "plt.ylabel('Number of Passengers')\n",
    "plt.title('Original Data for Air Passenger Forecasting using RNN')\n",
    "plt.show()"
   ]
  },
  {
   "cell_type": "code",
   "execution_count": null,
   "id": "caaf0346-eb2b-42c2-80db-910bde02591d",
   "metadata": {
    "tags": []
   },
   "outputs": [],
   "source": [
    "def create_dataset(dataset, look_back=1):\n",
    "    X, Y = [], []\n",
    "    for i in range(len(dataset) - look_back):\n",
    "        a = dataset[i:(i + look_back), 0]\n",
    "        X.append(a)\n",
    "        Y.append(dataset[i + look_back, 0])\n",
    "    return np.array(X), np.array(Y)\n",
    "\n",
    "look_back = 12  # Number of previous time steps to use as input features\n",
    "X_train, y_train = create_dataset(train, look_back)\n",
    "X_test, y_test = create_dataset(test, look_back)\n",
    "\n",
    "# Reshape the input to [samples, time steps, features]\n",
    "# though here again we only have 1 feature\n",
    "X_train = np.reshape(X_train, (X_train.shape[0], X_train.shape[1], 1))\n",
    "X_test = np.reshape(X_test, (X_test.shape[0], X_test.shape[1], 1))"
   ]
  },
  {
   "cell_type": "code",
   "execution_count": null,
   "id": "db5c9fef-6ca5-4f59-beac-5b9afb32a3a0",
   "metadata": {
    "tags": []
   },
   "outputs": [],
   "source": [
    "X_train.shape"
   ]
  },
  {
   "cell_type": "code",
   "execution_count": null,
   "id": "47d00846-04cf-4d12-8272-4aeb988b401e",
   "metadata": {
    "tags": []
   },
   "outputs": [],
   "source": [
    "# Build the RNN model\n",
    "network = Sequential([\n",
    "    SimpleRNN(units=4, activation='relu', input_shape=(look_back, 1)),\n",
    "    Dense(units=1)\n",
    "])"
   ]
  },
  {
   "cell_type": "code",
   "execution_count": null,
   "id": "8bdb5533-a864-4e1b-875d-3b0c6567a87a",
   "metadata": {
    "tags": []
   },
   "outputs": [],
   "source": [
    "# Compile the model\n",
    "network.compile(optimizer='adam', loss='mse', metrics=['mae'])"
   ]
  },
  {
   "cell_type": "code",
   "execution_count": null,
   "id": "f60cb4fd-9327-4ed5-b5db-48d76595dff8",
   "metadata": {
    "tags": []
   },
   "outputs": [],
   "source": [
    "# Train the model\n",
    "network.fit(X_train, y_train, \n",
    "            epochs=100, \n",
    "            verbose=0)"
   ]
  },
  {
   "cell_type": "code",
   "execution_count": null,
   "id": "71a3503f-83d6-4d12-b527-0d69927a199e",
   "metadata": {
    "tags": []
   },
   "outputs": [],
   "source": [
    "# Make predictions\n",
    "train_predict = network.predict(X_train)\n",
    "test_predict = network.predict(X_test)"
   ]
  },
  {
   "cell_type": "code",
   "execution_count": null,
   "id": "a3256418-7a64-4374-8efb-fd532a699376",
   "metadata": {
    "tags": []
   },
   "outputs": [],
   "source": [
    "# Inverse transform predictions to original scale\n",
    "train_predict = scaler.inverse_transform(train_predict)\n",
    "y_train = scaler.inverse_transform([y_train])\n",
    "test_predict = scaler.inverse_transform(test_predict)\n",
    "y_test = scaler.inverse_transform([y_test])"
   ]
  },
  {
   "cell_type": "code",
   "execution_count": null,
   "id": "5a514426-d96e-49b6-aeec-d579a74a0023",
   "metadata": {
    "tags": []
   },
   "outputs": [],
   "source": [
    "# Calculate RMSE (Root Mean Squared Error)\n",
    "train_rmse = np.sqrt(mean_squared_error(y_train[0], train_predict[:,0]))\n",
    "test_rmse = np.sqrt(mean_squared_error(y_test[0], test_predict[:,0]))\n",
    "print(f'Train RMSE: {train_rmse:.2f}')\n",
    "print(f'Test RMSE: {test_rmse:.2f}')"
   ]
  },
  {
   "cell_type": "code",
   "execution_count": null,
   "id": "8f38e75f-6bbe-4d44-87fc-ac24ae50e887",
   "metadata": {
    "tags": []
   },
   "outputs": [],
   "source": [
    "# Plot the predicted vs. actual values\n",
    "train_plot = np.empty_like(passengers)\n",
    "train_plot[:,:] = np.nan\n",
    "train_plot[look_back:len(train_predict)+look_back, :] = train_predict\n",
    "\n",
    "test_plot = np.empty_like(passengers)\n",
    "test_plot[:,:] = np.nan\n",
    "test_plot[len(train_predict)+(look_back*2):len(passengers), :] = test_predict\n",
    "\n",
    "plt.figure(figsize=(10, 6))\n",
    "plt.plot(scaler.inverse_transform(passengers), label='Original Data')\n",
    "plt.plot(train_plot, label='Training Predictions')\n",
    "plt.plot(test_plot, label='Test Predictions')\n",
    "plt.xlabel('Time')\n",
    "plt.ylabel('Number of Passengers')\n",
    "plt.title('Air Passenger Forecasting using RNN')\n",
    "plt.legend()\n",
    "plt.show()"
   ]
  },
  {
   "cell_type": "markdown",
   "id": "f53e361f-9caa-4b6f-bd1a-bfc6d2c3f60b",
   "metadata": {},
   "source": [
    "## Trying with an LSTM version"
   ]
  },
  {
   "cell_type": "markdown",
   "id": "0813e357-96b7-48a7-9068-bd81c164c3b0",
   "metadata": {},
   "source": [
    "Restarting with the original data again to be sure the processing steps are the same."
   ]
  },
  {
   "cell_type": "code",
   "execution_count": null,
   "id": "5ca2f529-7740-4002-981c-88f8c8fb7063",
   "metadata": {
    "tags": []
   },
   "outputs": [],
   "source": [
    "# Load the dataset\n",
    "url = \"https://raw.githubusercontent.com/jbrownlee/Datasets/master/airline-passengers.csv\"\n",
    "data = pd.read_csv(url)\n",
    "passengers = data['Passengers'].values.astype(float)"
   ]
  },
  {
   "cell_type": "code",
   "execution_count": null,
   "id": "8231b802-9b1f-4c5c-91b5-3d045c922438",
   "metadata": {
    "tags": []
   },
   "outputs": [],
   "source": [
    "# Normalize the data\n",
    "scaler = MinMaxScaler(feature_range=(0, 1))\n",
    "passengers = scaler.fit_transform(passengers.reshape(-1, 1))"
   ]
  },
  {
   "cell_type": "code",
   "execution_count": null,
   "id": "2d9eb320-d00a-4d9e-832b-567fe6dd2f3a",
   "metadata": {
    "tags": []
   },
   "outputs": [],
   "source": [
    "# Prepare the data\n",
    "train_size = int(len(passengers) * 0.75)\n",
    "train = passengers[:train_size]\n",
    "test = passengers[train_size:]"
   ]
  },
  {
   "cell_type": "code",
   "execution_count": null,
   "id": "057cc47c-bba9-4b30-88e2-4e067d028275",
   "metadata": {
    "tags": []
   },
   "outputs": [],
   "source": [
    "plt.figure(figsize=(10, 6))\n",
    "plt.plot(scaler.inverse_transform(passengers))\n",
    "plt.xlabel('Time')\n",
    "plt.ylabel('Number of Passengers')\n",
    "plt.title('Original Data for Air Passenger Forecasting using RNN')\n",
    "plt.show()"
   ]
  },
  {
   "cell_type": "code",
   "execution_count": null,
   "id": "a707b104-05d7-43bd-bb4b-0c66d6e1b7e6",
   "metadata": {
    "tags": []
   },
   "outputs": [],
   "source": [
    "def create_dataset(dataset, look_back=1):\n",
    "    X, Y = [], []\n",
    "    for i in range(len(dataset) - look_back):\n",
    "        a = dataset[i:(i + look_back), 0]\n",
    "        X.append(a)\n",
    "        Y.append(dataset[i + look_back, 0])\n",
    "    return np.array(X), np.array(Y)\n",
    "\n",
    "look_back = 12  # Number of previous time steps to use as input features\n",
    "X_train, y_train = create_dataset(train, look_back)\n",
    "X_test, y_test = create_dataset(test, look_back)\n",
    "\n",
    "# Reshape the input to [samples, time steps, features]\n",
    "# though here again we only have 1 feature\n",
    "X_train = np.reshape(X_train, (X_train.shape[0], X_train.shape[1], 1))\n",
    "X_test = np.reshape(X_test, (X_test.shape[0], X_test.shape[1], 1))"
   ]
  },
  {
   "cell_type": "code",
   "execution_count": null,
   "id": "61a022b6-83c8-4bd5-9f6d-ef1dcfe68e1e",
   "metadata": {
    "tags": []
   },
   "outputs": [],
   "source": [
    "# Build the RNN model\n",
    "network = Sequential([\n",
    "    LSTM(units=50, activation='relu', input_shape=(look_back, 1)),\n",
    "    Dense(units=1)\n",
    "])"
   ]
  },
  {
   "cell_type": "code",
   "execution_count": null,
   "id": "1c70d164-7056-40f1-9fd3-3f71cf3d9079",
   "metadata": {
    "tags": []
   },
   "outputs": [],
   "source": [
    "# Compile the model\n",
    "network.compile(optimizer='adam', loss='mse', metrics=['mae'])"
   ]
  },
  {
   "cell_type": "code",
   "execution_count": null,
   "id": "7ff7190f-2983-47c2-a11a-96c23e8314a1",
   "metadata": {
    "tags": []
   },
   "outputs": [],
   "source": [
    "# Train the model\n",
    "network.fit(X_train, y_train, \n",
    "            epochs=100, \n",
    "            verbose=0)"
   ]
  },
  {
   "cell_type": "code",
   "execution_count": null,
   "id": "6145f134-8ce9-4a7c-9f0b-fe4cd9e6e478",
   "metadata": {
    "tags": []
   },
   "outputs": [],
   "source": [
    "# Make predictions\n",
    "train_predict = network.predict(X_train)\n",
    "test_predict = network.predict(X_test)"
   ]
  },
  {
   "cell_type": "code",
   "execution_count": null,
   "id": "340ed05f-fbae-4c87-8df7-29730d0a4a9b",
   "metadata": {
    "tags": []
   },
   "outputs": [],
   "source": [
    "# Inverse transform predictions to original scale\n",
    "train_predict = scaler.inverse_transform(train_predict)\n",
    "y_train = scaler.inverse_transform([y_train])\n",
    "test_predict = scaler.inverse_transform(test_predict)\n",
    "y_test = scaler.inverse_transform([y_test])"
   ]
  },
  {
   "cell_type": "code",
   "execution_count": null,
   "id": "a859b927-b126-486b-91fb-c104d0f33505",
   "metadata": {
    "tags": []
   },
   "outputs": [],
   "source": [
    "# Calculate RMSE (Root Mean Squared Error)\n",
    "train_rmse = np.sqrt(mean_squared_error(y_train[0], train_predict[:,0]))\n",
    "test_rmse = np.sqrt(mean_squared_error(y_test[0], test_predict[:,0]))\n",
    "print(f'Train RMSE: {train_rmse:.2f}')\n",
    "print(f'Test RMSE: {test_rmse:.2f}')"
   ]
  },
  {
   "cell_type": "code",
   "execution_count": null,
   "id": "c97399ff-4903-427c-825a-d93aefa347ee",
   "metadata": {
    "tags": []
   },
   "outputs": [],
   "source": [
    "# Plot the predicted vs. actual values\n",
    "train_plot = np.empty_like(passengers)\n",
    "train_plot[:,:] = np.nan\n",
    "train_plot[look_back:len(train_predict)+look_back, :] = train_predict\n",
    "\n",
    "test_plot = np.empty_like(passengers)\n",
    "test_plot[:,:] = np.nan\n",
    "test_plot[len(train_predict)+(look_back*2):len(passengers), :] = test_predict\n",
    "\n",
    "plt.figure(figsize=(10, 6))\n",
    "plt.plot(scaler.inverse_transform(passengers), label='Original Data')\n",
    "plt.plot(train_plot, label='Training Predictions')\n",
    "plt.plot(test_plot, label='Test Predictions')\n",
    "plt.xlabel('Time')\n",
    "plt.ylabel('Number of Passengers')\n",
    "plt.title('Air Passenger Forecasting using RNN')\n",
    "plt.legend()\n",
    "plt.show()"
   ]
  },
  {
   "cell_type": "markdown",
   "id": "52f253d2-2a02-44ac-a75f-123588d77dc9",
   "metadata": {},
   "source": [
    "## One more time, with a multi-layered LSTM version"
   ]
  },
  {
   "cell_type": "markdown",
   "id": "72ebd272-225b-4e43-8b45-9038c7ffded8",
   "metadata": {},
   "source": [
    "Restarting with the original data again to be sure the processing steps are the same."
   ]
  },
  {
   "cell_type": "code",
   "execution_count": null,
   "id": "1a8e94ff-ea93-4d35-94aa-1344b26de790",
   "metadata": {
    "tags": []
   },
   "outputs": [],
   "source": [
    "# Load the dataset\n",
    "url = \"https://raw.githubusercontent.com/jbrownlee/Datasets/master/airline-passengers.csv\"\n",
    "data = pd.read_csv(url)\n",
    "passengers = data['Passengers'].values.astype(float)"
   ]
  },
  {
   "cell_type": "code",
   "execution_count": null,
   "id": "609d02c9-3985-4626-87b3-0deaab82bc90",
   "metadata": {
    "tags": []
   },
   "outputs": [],
   "source": [
    "# Normalize the data\n",
    "scaler = MinMaxScaler(feature_range=(0, 1))\n",
    "passengers = scaler.fit_transform(passengers.reshape(-1, 1))"
   ]
  },
  {
   "cell_type": "code",
   "execution_count": null,
   "id": "853cb7d0-51ff-4e1a-99de-db5e7220c7c0",
   "metadata": {
    "tags": []
   },
   "outputs": [],
   "source": [
    "# Prepare the data\n",
    "train_size = int(len(passengers) * 0.75)\n",
    "train = passengers[:train_size]\n",
    "test = passengers[train_size:]"
   ]
  },
  {
   "cell_type": "code",
   "execution_count": null,
   "id": "32dcfbcb-75ab-4560-8ae6-811d40e39142",
   "metadata": {
    "tags": []
   },
   "outputs": [],
   "source": [
    "plt.figure(figsize=(10, 6))\n",
    "plt.plot(scaler.inverse_transform(passengers))\n",
    "plt.xlabel('Time')\n",
    "plt.ylabel('Number of Passengers')\n",
    "plt.title('Original Data for Air Passenger Forecasting using RNN')\n",
    "plt.show()"
   ]
  },
  {
   "cell_type": "code",
   "execution_count": null,
   "id": "5d412345-3431-4489-87a5-31783362dc68",
   "metadata": {
    "tags": []
   },
   "outputs": [],
   "source": [
    "def create_dataset(dataset, look_back=1):\n",
    "    X, Y = [], []\n",
    "    for i in range(len(dataset) - look_back):\n",
    "        a = dataset[i:(i + look_back), 0]\n",
    "        X.append(a)\n",
    "        Y.append(dataset[i + look_back, 0])\n",
    "    return np.array(X), np.array(Y)\n",
    "\n",
    "look_back = 12  # Number of previous time steps to use as input features\n",
    "X_train, y_train = create_dataset(train, look_back)\n",
    "X_test, y_test = create_dataset(test, look_back)\n",
    "\n",
    "# Reshape the input to [samples, time steps, features]\n",
    "# though here again we only have 1 feature\n",
    "X_train = np.reshape(X_train, (X_train.shape[0], X_train.shape[1], 1))\n",
    "X_test = np.reshape(X_test, (X_test.shape[0], X_test.shape[1], 1))"
   ]
  },
  {
   "cell_type": "code",
   "execution_count": null,
   "id": "b4ecfb72-efc6-4429-a3b4-c2951de5dcbf",
   "metadata": {
    "tags": []
   },
   "outputs": [],
   "source": [
    "# Build the multi-layer LSTM model with dropout\n",
    "network = Sequential([\n",
    "    LSTM(units=50, activation='relu', return_sequences=True, input_shape=(look_back, 1)),\n",
    "    Dropout(0.2),\n",
    "    LSTM(units=50, activation='relu', return_sequences=True),\n",
    "    Dropout(0.2),\n",
    "    LSTM(units=50, activation='relu'),\n",
    "    Dropout(0.2),\n",
    "    Dense(units=1)\n",
    "])"
   ]
  },
  {
   "cell_type": "code",
   "execution_count": null,
   "id": "db1a80b5-4322-4007-bd53-a094a3374a09",
   "metadata": {
    "tags": []
   },
   "outputs": [],
   "source": [
    "# Compile the model\n",
    "network.compile(optimizer='adam', loss='mse', metrics=['mae'])"
   ]
  },
  {
   "cell_type": "code",
   "execution_count": null,
   "id": "006d2dec-20ef-403f-b994-3271e53128ab",
   "metadata": {
    "tags": []
   },
   "outputs": [],
   "source": [
    "# Train the model\n",
    "network.fit(X_train, y_train, \n",
    "            epochs=100,\n",
    "            verbose=0)"
   ]
  },
  {
   "cell_type": "code",
   "execution_count": null,
   "id": "04fc5fbe-630f-4ae7-b504-9dfad7130851",
   "metadata": {
    "tags": []
   },
   "outputs": [],
   "source": [
    "# Make predictions\n",
    "train_predict = network.predict(X_train)\n",
    "test_predict = network.predict(X_test)"
   ]
  },
  {
   "cell_type": "code",
   "execution_count": null,
   "id": "c70f70de-4915-4687-93e1-d947c2d63304",
   "metadata": {
    "tags": []
   },
   "outputs": [],
   "source": [
    "# Inverse transform predictions to original scale\n",
    "train_predict = scaler.inverse_transform(train_predict)\n",
    "y_train = scaler.inverse_transform([y_train])\n",
    "test_predict = scaler.inverse_transform(test_predict)\n",
    "y_test = scaler.inverse_transform([y_test])"
   ]
  },
  {
   "cell_type": "code",
   "execution_count": null,
   "id": "92a6abb2-a794-4913-8df7-b3a50d8dd4d3",
   "metadata": {
    "tags": []
   },
   "outputs": [],
   "source": [
    "# Calculate RMSE (Root Mean Squared Error)\n",
    "train_rmse = np.sqrt(mean_squared_error(y_train[0], train_predict[:,0]))\n",
    "test_rmse = np.sqrt(mean_squared_error(y_test[0], test_predict[:,0]))\n",
    "print(f'Train RMSE: {train_rmse:.2f}')\n",
    "print(f'Test RMSE: {test_rmse:.2f}')"
   ]
  },
  {
   "cell_type": "code",
   "execution_count": null,
   "id": "5e159acf-d276-460f-aa4e-970632a8f5a0",
   "metadata": {
    "tags": []
   },
   "outputs": [],
   "source": [
    "# Plot the predicted vs. actual values\n",
    "train_plot = np.empty_like(passengers)\n",
    "train_plot[:,:] = np.nan\n",
    "train_plot[look_back:len(train_predict)+look_back, :] = train_predict\n",
    "\n",
    "test_plot = np.empty_like(passengers)\n",
    "test_plot[:,:] = np.nan\n",
    "test_plot[len(train_predict)+(look_back*2):len(passengers), :] = test_predict\n",
    "\n",
    "plt.figure(figsize=(10, 6))\n",
    "plt.plot(scaler.inverse_transform(passengers), label='Original Data')\n",
    "plt.plot(train_plot, label='Training Predictions')\n",
    "plt.plot(test_plot, label='Test Predictions')\n",
    "plt.xlabel('Time')\n",
    "plt.ylabel('Number of Passengers')\n",
    "plt.title('Air Passenger Forecasting using RNN')\n",
    "plt.legend()\n",
    "plt.show()"
   ]
  }
 ],
 "metadata": {
  "kernelspec": {
   "display_name": "Python 3 (ipykernel)",
   "language": "python",
   "name": "python3"
  },
  "language_info": {
   "codemirror_mode": {
    "name": "ipython",
    "version": 3
   },
   "file_extension": ".py",
   "mimetype": "text/x-python",
   "name": "python",
   "nbconvert_exporter": "python",
   "pygments_lexer": "ipython3",
   "version": "3.10.13"
  }
 },
 "nbformat": 4,
 "nbformat_minor": 5
}
