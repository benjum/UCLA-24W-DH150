{
  "cells": [
    {
      "cell_type": "markdown",
      "id": "4edc1037-9b05-44c6-8c07-219f69328b77",
      "metadata": {},
      "source": "# Topic modeling\n\nWe are going to look at data from the [20 Newsgroups](http://qwone.com/~jason/20Newsgroups/) dataset.  These are postings to newsgroups in 20 different categories.\n\nScikit-learn has a function for downloading the data.  See: https://scikit-learn.org/stable/modules/generated/sklearn.datasets.fetch_20newsgroups.html\n\n## Supervised Learning with Naive Bayes\n\nWe are going to start out using Naive Bayes for supervised ML."
    },
    {
      "cell_type": "code",
      "execution_count": null,
      "id": "011b5d42-d37e-4e71-ab13-d99e91048d41",
      "metadata": {
        "trusted": true
      },
      "outputs": [],
      "source": "from sklearn.datasets import fetch_20newsgroups"
    },
    {
      "cell_type": "code",
      "execution_count": null,
      "id": "f7fe4dd1",
      "metadata": {
        "trusted": true
      },
      "outputs": [],
      "source": "ntrain = fetch_20newsgroups(subset='train')"
    },
    {
      "cell_type": "markdown",
      "id": "c5b5656c",
      "metadata": {},
      "source": "Here is the description of the dataset, along with an interesting example and tidbits of advice: "
    },
    {
      "cell_type": "code",
      "execution_count": null,
      "id": "59427235",
      "metadata": {
        "trusted": true
      },
      "outputs": [],
      "source": "print(ntrain.DESCR)"
    },
    {
      "cell_type": "markdown",
      "id": "5b56a644",
      "metadata": {},
      "source": "An example of the first five newsgroup posts:"
    },
    {
      "cell_type": "code",
      "execution_count": null,
      "id": "0411f672",
      "metadata": {
        "trusted": true
      },
      "outputs": [],
      "source": "ntrain.data[:5]"
    },
    {
      "cell_type": "markdown",
      "id": "99e8eb40",
      "metadata": {},
      "source": "We have 11314 newsgroup postings, with 20 classes."
    },
    {
      "cell_type": "code",
      "execution_count": null,
      "id": "80e24e49",
      "metadata": {
        "trusted": true
      },
      "outputs": [],
      "source": "ntrain.target.shape"
    },
    {
      "cell_type": "code",
      "execution_count": null,
      "id": "d327bd49",
      "metadata": {
        "trusted": true
      },
      "outputs": [],
      "source": "ntrain.target[:10]"
    },
    {
      "cell_type": "code",
      "execution_count": null,
      "id": "f153a9d7",
      "metadata": {
        "trusted": true
      },
      "outputs": [],
      "source": "[ntrain.target_names[i] for i in ntrain.target[:10]]"
    },
    {
      "cell_type": "markdown",
      "id": "012bc791",
      "metadata": {},
      "source": "We'll keep it a bit simpler for the moment and only consider two of the categories:"
    },
    {
      "cell_type": "code",
      "execution_count": null,
      "id": "d0b3c1ec",
      "metadata": {
        "trusted": true
      },
      "outputs": [],
      "source": "cats = ['sci.space', 'comp.graphics']"
    },
    {
      "cell_type": "markdown",
      "id": "9a70e617",
      "metadata": {},
      "source": "Re-import the training data for just these two categories, along with test data too."
    },
    {
      "cell_type": "code",
      "execution_count": null,
      "id": "dca5fb02",
      "metadata": {
        "trusted": true
      },
      "outputs": [],
      "source": "ntrain = fetch_20newsgroups(subset='train', categories=cats)\nntest = fetch_20newsgroups(subset='test',categories=cats)"
    },
    {
      "cell_type": "code",
      "execution_count": null,
      "id": "65d69617",
      "metadata": {
        "trusted": true
      },
      "outputs": [],
      "source": "print(ntrain.data[0])"
    },
    {
      "cell_type": "markdown",
      "id": "cffbb210",
      "metadata": {},
      "source": "How does this compare with what I showed on the slide?  And does it matter that it's different?"
    },
    {
      "cell_type": "code",
      "execution_count": null,
      "id": "cdde4ccd",
      "metadata": {
        "trusted": true
      },
      "outputs": [],
      "source": "ntrain.target_names"
    },
    {
      "cell_type": "code",
      "execution_count": null,
      "id": "1f293027",
      "metadata": {
        "trusted": true
      },
      "outputs": [],
      "source": "ntrain.target.shape"
    },
    {
      "cell_type": "code",
      "execution_count": null,
      "id": "b32c21a1",
      "metadata": {
        "trusted": true
      },
      "outputs": [],
      "source": "ntrain.target[:10]"
    },
    {
      "cell_type": "code",
      "execution_count": null,
      "id": "713d7020",
      "metadata": {
        "trusted": true
      },
      "outputs": [],
      "source": "ntest.target.shape"
    },
    {
      "cell_type": "markdown",
      "id": "47542821",
      "metadata": {},
      "source": "We can choose how to convert our posts and words into a document-term matrix.  Let's use TF-IDF:"
    },
    {
      "cell_type": "code",
      "execution_count": null,
      "id": "44f76fc4",
      "metadata": {
        "trusted": true
      },
      "outputs": [],
      "source": "from sklearn.feature_extraction.text import TfidfVectorizer"
    },
    {
      "cell_type": "code",
      "execution_count": null,
      "id": "e559aabd",
      "metadata": {
        "trusted": true
      },
      "outputs": [],
      "source": "vectorizer = TfidfVectorizer()\nvectors_train = vectorizer.fit_transform(ntrain.data)\nvectors_test = vectorizer.transform(ntest.data)"
    },
    {
      "cell_type": "code",
      "execution_count": null,
      "id": "7a92d50d",
      "metadata": {
        "trusted": true
      },
      "outputs": [],
      "source": "import pandas as pd"
    },
    {
      "cell_type": "code",
      "execution_count": null,
      "id": "6668f3bf",
      "metadata": {
        "trusted": true
      },
      "outputs": [],
      "source": "df = pd.DataFrame(vectors_train.toarray(),\n                  columns=vectorizer.get_feature_names_out())"
    },
    {
      "cell_type": "code",
      "execution_count": null,
      "id": "9cc6702f",
      "metadata": {
        "trusted": true
      },
      "outputs": [],
      "source": "df"
    },
    {
      "cell_type": "markdown",
      "id": "54ce2186",
      "metadata": {},
      "source": "What do the number of rows and columns in the dataframe represent?"
    },
    {
      "cell_type": "code",
      "execution_count": null,
      "id": "958a01cf",
      "metadata": {
        "trusted": true
      },
      "outputs": [],
      "source": "df[['earth','graphics','image','nasa','algorithms','astronomy']]"
    },
    {
      "cell_type": "code",
      "execution_count": null,
      "id": "a97fc034",
      "metadata": {
        "trusted": true
      },
      "outputs": [],
      "source": "from sklearn.naive_bayes import MultinomialNB\nfrom sklearn import metrics"
    },
    {
      "cell_type": "code",
      "execution_count": null,
      "id": "73caaccc",
      "metadata": {
        "trusted": true
      },
      "outputs": [],
      "source": "clf = MultinomialNB()\nclf.fit(vectors_train, ntrain.target)"
    },
    {
      "cell_type": "code",
      "execution_count": null,
      "id": "426d3ceb",
      "metadata": {
        "trusted": true
      },
      "outputs": [],
      "source": "pred = clf.predict(vectors_test)"
    },
    {
      "cell_type": "code",
      "execution_count": null,
      "id": "947fb773",
      "metadata": {
        "trusted": true
      },
      "outputs": [],
      "source": "from sklearn.metrics import classification_report"
    },
    {
      "cell_type": "code",
      "execution_count": null,
      "id": "1e23da64",
      "metadata": {
        "trusted": true
      },
      "outputs": [],
      "source": "metrics.accuracy_score(ntest.target, pred)"
    },
    {
      "cell_type": "code",
      "execution_count": null,
      "id": "546c9856",
      "metadata": {
        "trusted": true
      },
      "outputs": [],
      "source": "print(classification_report(ntest.target, pred))"
    },
    {
      "cell_type": "markdown",
      "id": "8c0b57f5",
      "metadata": {},
      "source": "So good!\n\nToo good??"
    },
    {
      "cell_type": "markdown",
      "id": "16774a45",
      "metadata": {},
      "source": "Let's look at the words that have the highest probability for each of these two classes.\n\nWe can get the feature names with:"
    },
    {
      "cell_type": "code",
      "execution_count": null,
      "id": "a6d7c6ab",
      "metadata": {
        "trusted": true
      },
      "outputs": [],
      "source": "vectorizer.get_feature_names_out()"
    },
    {
      "cell_type": "markdown",
      "id": "cdee9008",
      "metadata": {},
      "source": "And we can get the probabilities (actually log of probabilities because they're so small) with:"
    },
    {
      "cell_type": "code",
      "execution_count": null,
      "id": "a209ff34",
      "metadata": {
        "trusted": true
      },
      "outputs": [],
      "source": "clf.feature_log_prob_"
    },
    {
      "cell_type": "code",
      "execution_count": null,
      "id": "06f37ebe",
      "metadata": {
        "trusted": true
      },
      "outputs": [],
      "source": "clf.feature_log_prob_.shape"
    },
    {
      "cell_type": "markdown",
      "id": "5122dbaf",
      "metadata": {},
      "source": "There are two rows and 23882 columns because this shows *P(class | word)* for each class and each word."
    },
    {
      "cell_type": "code",
      "execution_count": null,
      "id": "afe11424",
      "metadata": {
        "trusted": true
      },
      "outputs": [],
      "source": "import numpy as np"
    },
    {
      "cell_type": "code",
      "execution_count": null,
      "id": "f75cc5d9",
      "metadata": {
        "trusted": true
      },
      "outputs": [],
      "source": "def show_top10(classifier, vectorizer, categories):\n    feature_names = vectorizer.get_feature_names_out()\n    for i,category in enumerate(categories):\n        top10 = np.argsort(-classifier.feature_log_prob_[i])[:10]\n        print('%s:' % (category))\n        for j in top10:\n            print(\"%s: %.2f\" % (feature_names[j], classifier.feature_log_prob_[i][j]))\n        print('\\n')"
    },
    {
      "cell_type": "code",
      "execution_count": null,
      "id": "70935ab9",
      "metadata": {
        "trusted": true
      },
      "outputs": [],
      "source": "show_top10(clf, vectorizer, ntrain.target_names)"
    },
    {
      "cell_type": "markdown",
      "id": "7b0b27dc",
      "metadata": {},
      "source": "We could stand to do more data processing.\n\nFirst, remove all the meta-data in the headers and footers, along with quotes."
    },
    {
      "cell_type": "code",
      "execution_count": null,
      "id": "d5465d1e",
      "metadata": {
        "trusted": true
      },
      "outputs": [],
      "source": "ntrain = fetch_20newsgroups(subset='train',categories=cats,remove=('headers','footers','quotes'))\nntest = fetch_20newsgroups(subset='test',categories=cats,remove=('headers','footers','quotes'))"
    },
    {
      "cell_type": "code",
      "execution_count": null,
      "id": "640404b2",
      "metadata": {
        "trusted": true
      },
      "outputs": [],
      "source": "vectors = vectorizer.fit_transform(ntrain.data)\nvectors_test = vectorizer.transform(ntest.data)"
    },
    {
      "cell_type": "code",
      "execution_count": null,
      "id": "0ddac0a0",
      "metadata": {
        "trusted": true
      },
      "outputs": [],
      "source": "clf = MultinomialNB()\nclf.fit(vectors, ntrain.target)\npred = clf.predict(vectors_test)"
    },
    {
      "cell_type": "code",
      "execution_count": null,
      "id": "23907c66",
      "metadata": {
        "trusted": true
      },
      "outputs": [],
      "source": "print(classification_report(ntest.target, pred))"
    },
    {
      "cell_type": "markdown",
      "id": "d47087b3",
      "metadata": {},
      "source": "The performance dropped a little, but likely because we aren't overfitting to words in the parts of the post that aren't as relevant to our meaningful newsgroup content.\n\nHow do the word probabilities change?"
    },
    {
      "cell_type": "code",
      "execution_count": null,
      "id": "5b691af1",
      "metadata": {
        "trusted": true
      },
      "outputs": [],
      "source": "show_top10(clf, vectorizer, ntrain.target_names)"
    },
    {
      "cell_type": "markdown",
      "id": "3eb23794",
      "metadata": {},
      "source": "Still have a lot of fluff.\n\nWe can remove stopwords.  The TfidfVectorizer will also allow us to remove words that are really really common, as well as requiring words to occur at least a certain minimum number of times:"
    },
    {
      "cell_type": "code",
      "execution_count": null,
      "id": "5f963421",
      "metadata": {
        "trusted": true
      },
      "outputs": [],
      "source": "vectorizer = TfidfVectorizer(stop_words='english', max_df=0.5, min_df=2)"
    },
    {
      "cell_type": "code",
      "execution_count": null,
      "id": "c4b985ac",
      "metadata": {
        "trusted": true
      },
      "outputs": [],
      "source": "vectors = vectorizer.fit_transform(ntrain.data)\nvectors_test = vectorizer.transform(ntest.data)"
    },
    {
      "cell_type": "code",
      "execution_count": null,
      "id": "ae6896d5",
      "metadata": {
        "trusted": true
      },
      "outputs": [],
      "source": "clf = MultinomialNB()\nclf.fit(vectors, ntrain.target)\npred = clf.predict(vectors_test)"
    },
    {
      "cell_type": "code",
      "execution_count": null,
      "id": "28f4367f",
      "metadata": {
        "trusted": true
      },
      "outputs": [],
      "source": "print(classification_report(ntest.target, pred))"
    },
    {
      "cell_type": "markdown",
      "id": "a601f693",
      "metadata": {},
      "source": "The performance did not drop; it may even have slightly improved."
    },
    {
      "cell_type": "code",
      "execution_count": null,
      "id": "9a09dcc3",
      "metadata": {
        "trusted": true
      },
      "outputs": [],
      "source": "show_top10(clf, vectorizer, ntrain.target_names)"
    },
    {
      "cell_type": "markdown",
      "id": "08daed1c",
      "metadata": {},
      "source": "That is looking like a much more meaningful set of words."
    },
    {
      "cell_type": "markdown",
      "id": "53104167",
      "metadata": {},
      "source": "Let me try to make a prediction on a new (hypothetical) newsgroup post."
    },
    {
      "cell_type": "code",
      "execution_count": null,
      "id": "86eac829",
      "metadata": {
        "trusted": true
      },
      "outputs": [],
      "source": "mypost = '''\nI was sitting outside with my cat, looking up at the sky through our telescope, \nwhen lo and behold, to my little set of eyes I spied an anomalous signal emanating \nfrom a distant galaxy.  I've scoured my astronomy books and can't find any \ndescription of what I saw.  Is this a new type of celestial phenomenon? or, \ndare I say it, something extraterrestrial in origin?\n\nPlease let me know if you're up for sharing insights on my dataset.\n'''"
    },
    {
      "cell_type": "markdown",
      "id": "b1856a87",
      "metadata": {},
      "source": "Do remember that if you want to make a prediction on a new data point, you'll need to transform it in the same way that you transformed your training data."
    },
    {
      "cell_type": "code",
      "execution_count": null,
      "id": "dc866d2b",
      "metadata": {
        "trusted": true
      },
      "outputs": [],
      "source": "vectorizer.transform([mypost])"
    },
    {
      "cell_type": "code",
      "execution_count": null,
      "id": "a508fc33",
      "metadata": {
        "trusted": true
      },
      "outputs": [],
      "source": "vectorizer.transform([mypost]).toarray()"
    },
    {
      "cell_type": "markdown",
      "id": "941ff840",
      "metadata": {},
      "source": "So many zeroes, we can't really see much in looking at our vector representation."
    },
    {
      "cell_type": "code",
      "execution_count": null,
      "id": "fb2f9908",
      "metadata": {
        "trusted": true
      },
      "outputs": [],
      "source": "clf.predict(vectorizer.transform([mypost]))"
    },
    {
      "cell_type": "code",
      "execution_count": null,
      "id": "528c467f",
      "metadata": {
        "trusted": true
      },
      "outputs": [],
      "source": "ntrain.target_names[1]"
    },
    {
      "cell_type": "markdown",
      "id": "56d2d954",
      "metadata": {},
      "source": "After all the transforming, predictions, and decoding, indeed we find that the approach correctly classifies mypost as belonging to sci.space.\n\n.... though with a certain probability:"
    },
    {
      "cell_type": "code",
      "execution_count": null,
      "id": "5e2b5219",
      "metadata": {
        "trusted": true
      },
      "outputs": [],
      "source": "clf.predict_proba(vectorizer.transform([mypost]))"
    }
  ],
  "metadata": {
    "kernelspec": {
      "display_name": "Python 3 (ipykernel)",
      "language": "python",
      "name": "python3"
    },
    "language_info": {
      "codemirror_mode": {
        "name": "ipython",
        "version": 3
      },
      "file_extension": ".py",
      "mimetype": "text/x-python",
      "name": "python",
      "nbconvert_exporter": "python",
      "pygments_lexer": "ipython3",
      "version": "3.11.6"
    }
  },
  "nbformat": 4,
  "nbformat_minor": 5
}