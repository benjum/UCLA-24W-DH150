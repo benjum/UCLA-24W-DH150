{
  "cells": [
    {
      "cell_type": "markdown",
      "id": "b7f10d3d-4ed4-490e-8e1d-cababfe91a71",
      "metadata": {},
      "source": "# Clustering with K-Means"
    },
    {
      "cell_type": "code",
      "execution_count": null,
      "id": "f0f9493b-7120-4789-b1c7-03a28083c9c0",
      "metadata": {
        "trusted": true
      },
      "outputs": [],
      "source": "import pandas as pd"
    },
    {
      "cell_type": "markdown",
      "id": "2d95e272-9213-48b2-985b-9633d6526624",
      "metadata": {},
      "source": "First we make our fictional dataset."
    },
    {
      "cell_type": "code",
      "execution_count": null,
      "id": "b59d530b-3331-4d21-a34f-4075b1fbe64b",
      "metadata": {
        "trusted": true
      },
      "outputs": [],
      "source": "from sklearn.datasets import make_blobs"
    },
    {
      "cell_type": "code",
      "execution_count": null,
      "id": "af6ba11c-d3d0-4ccd-8e65-5da2f65d72b9",
      "metadata": {
        "trusted": true
      },
      "outputs": [],
      "source": "x, y = make_blobs(n_samples=300, centers=4, cluster_std=0.60, random_state=0)"
    },
    {
      "cell_type": "code",
      "execution_count": null,
      "id": "d6820fd5-67eb-4a75-af46-01a082b6ffa0",
      "metadata": {
        "trusted": true
      },
      "outputs": [],
      "source": "x[:10]"
    },
    {
      "cell_type": "code",
      "execution_count": null,
      "id": "d5e6fffe-eec1-40d7-91a4-6e9248c8c4fc",
      "metadata": {
        "trusted": true
      },
      "outputs": [],
      "source": "y"
    },
    {
      "cell_type": "code",
      "execution_count": null,
      "id": "94a301b9-872c-4d0b-9a20-5e44627abe01",
      "metadata": {
        "trusted": true
      },
      "outputs": [],
      "source": "import matplotlib.pyplot as plt"
    },
    {
      "cell_type": "code",
      "execution_count": null,
      "id": "78403b3b-8009-43b6-8507-0be371e1e642",
      "metadata": {
        "trusted": true
      },
      "outputs": [],
      "source": "ourcolors = ['red','blue','black','green','yellow','magenta','orange','brown','grey','aqua']"
    },
    {
      "cell_type": "code",
      "execution_count": null,
      "id": "113e26f7-0257-42fa-8c70-99f90a3573f3",
      "metadata": {
        "trusted": true
      },
      "outputs": [],
      "source": "plt.scatter(x[:,0],\n            x[:,1],\n            color=[ourcolors[i] for i in y])\nplt.xlabel('x0')\nplt.ylabel('x1')"
    },
    {
      "cell_type": "code",
      "execution_count": null,
      "id": "cbb1ee34-87bd-48a5-87f2-bf17476c177c",
      "metadata": {
        "trusted": true
      },
      "outputs": [],
      "source": "plt.scatter(x[:,0],\n            x[:,1])\nplt.xlabel('x0')\nplt.ylabel('x1')"
    },
    {
      "cell_type": "code",
      "execution_count": null,
      "id": "5ab2735e-e8ed-4b61-996b-03f1ea957161",
      "metadata": {
        "trusted": true
      },
      "outputs": [],
      "source": "from sklearn.cluster import KMeans"
    },
    {
      "cell_type": "markdown",
      "id": "bcf0f7ae-eefe-472d-b2af-437c2ef35322",
      "metadata": {},
      "source": "We create an object for our model by calling \"KMeans\" with the number of clusters we want to look for"
    },
    {
      "cell_type": "code",
      "execution_count": null,
      "id": "9dd8bfb8-315c-4886-8c1e-347aaa75a152",
      "metadata": {
        "trusted": true
      },
      "outputs": [],
      "source": "kmeans = KMeans(n_clusters=4, n_init=10)"
    },
    {
      "cell_type": "markdown",
      "id": "e7eb5008-8353-4f3c-989d-4e849099c9fb",
      "metadata": {},
      "source": "We then call the fit method, and pass in the data in which we want to search for clusters"
    },
    {
      "cell_type": "code",
      "execution_count": null,
      "id": "5e0530bf-9286-4cfa-b2a8-bd87b01557f2",
      "metadata": {
        "trusted": true
      },
      "outputs": [],
      "source": "kmeans.fit(x)"
    },
    {
      "cell_type": "code",
      "execution_count": null,
      "id": "a1c702a0-a6ae-4af1-9418-17917db91766",
      "metadata": {
        "trusted": true
      },
      "outputs": [],
      "source": "x[[0]]"
    },
    {
      "cell_type": "code",
      "execution_count": null,
      "id": "731d5517-a3f1-4597-b3c7-6d9dde86593d",
      "metadata": {
        "trusted": true
      },
      "outputs": [],
      "source": "kmeans.predict(x[[0]])"
    },
    {
      "cell_type": "code",
      "execution_count": null,
      "id": "947c7c6b-73d8-4f53-8271-8c6bf374f153",
      "metadata": {
        "trusted": true
      },
      "outputs": [],
      "source": "plt.scatter(x[:,0],\n            x[:,1],\n            color=[ourcolors[i] for i in kmeans.labels_])"
    },
    {
      "cell_type": "code",
      "execution_count": null,
      "id": "0faaaf10-a84c-488a-a3b3-f249fd042eb9",
      "metadata": {
        "trusted": true
      },
      "outputs": [],
      "source": "kmeans.labels_"
    },
    {
      "cell_type": "code",
      "execution_count": null,
      "id": "a10551d7-f0d5-4d91-b963-08c94cbcd03b",
      "metadata": {
        "trusted": true
      },
      "outputs": [],
      "source": "kmeans.cluster_centers_"
    },
    {
      "cell_type": "code",
      "execution_count": null,
      "id": "6043da35-4de2-4349-a9f9-878a49719b59",
      "metadata": {
        "trusted": true
      },
      "outputs": [],
      "source": "import ipywidgets"
    },
    {
      "cell_type": "code",
      "execution_count": null,
      "id": "e89f7cf5-86c5-4aad-b77c-d396e8e856ce",
      "metadata": {
        "trusted": true
      },
      "outputs": [],
      "source": "def plotblobs(n):\n    kmeans = KMeans(n_clusters=n, n_init=10)\n    kmeans.fit(x)\n    plt.scatter(x[:,0], x[:,1], color=[ourcolors[i] for i in kmeans.labels_])\n    \nipywidgets.interact(plotblobs,n=(1,10));"
    },
    {
      "cell_type": "markdown",
      "id": "b39ffe78-cda4-4974-9c14-a2dd4b9452d6",
      "metadata": {},
      "source": "# Basic approach"
    },
    {
      "cell_type": "code",
      "execution_count": null,
      "id": "1bdf024e-37c1-4910-8fb9-7ab1d97efd6a",
      "metadata": {
        "trusted": true
      },
      "outputs": [],
      "source": "import numpy as np"
    },
    {
      "cell_type": "code",
      "execution_count": null,
      "id": "d8c19886-1b20-4b1c-8100-7cd5811188a2",
      "metadata": {
        "trusted": true
      },
      "outputs": [],
      "source": "np.random.seed(0)\nnclusters = 4"
    },
    {
      "cell_type": "code",
      "execution_count": null,
      "id": "e4c91aa5-6eab-4e19-a5a1-5ca5e7a2feab",
      "metadata": {
        "trusted": true
      },
      "outputs": [],
      "source": "centers_x0 = []\ncenters_x1 = []\nfor i in range(nclusters):\n    centers_x0.append(np.random.randint(-3,4))\n    centers_x1.append(np.random.randint(-1,10))"
    },
    {
      "cell_type": "code",
      "execution_count": null,
      "id": "f7c091a7-8217-4c1b-ad39-063a109908e5",
      "metadata": {
        "trusted": true
      },
      "outputs": [],
      "source": "centers_x0"
    },
    {
      "cell_type": "code",
      "execution_count": null,
      "id": "d390e6b4-8bed-4f7d-ae60-c2066b6f4dd8",
      "metadata": {
        "trusted": true
      },
      "outputs": [],
      "source": "plt.scatter(x[:,0],\n            x[:,1])\nplt.plot(centers_x0, centers_x1, 'yo', markersize=10)\nplt.xlabel('x0')\nplt.ylabel('x1')"
    },
    {
      "cell_type": "code",
      "execution_count": null,
      "id": "e2cbff07-da01-4738-a8ca-8cd8a39bc3f8",
      "metadata": {
        "trusted": true
      },
      "outputs": [],
      "source": "def d(a,b):\n    return np.sqrt(a**2 + b**2)"
    },
    {
      "cell_type": "code",
      "execution_count": null,
      "id": "800272c4-5569-4629-998a-f41a8431202c",
      "metadata": {
        "trusted": true
      },
      "outputs": [],
      "source": "np.argmin([d(x[0,0] - centers_x0[i], x[0,1] - centers_x1[i]) for i in range(nclusters)])"
    },
    {
      "cell_type": "code",
      "execution_count": null,
      "id": "91c37008-7e13-458a-a03d-650d38655f33",
      "metadata": {
        "trusted": true
      },
      "outputs": [],
      "source": "x.shape"
    },
    {
      "cell_type": "code",
      "execution_count": null,
      "id": "311e5b1c-2213-497e-a219-d3a8da0970b6",
      "metadata": {
        "trusted": true
      },
      "outputs": [],
      "source": "cluster = []\nfor point in range(x.shape[0]):\n    cluster.append(np.argmin([d(x[point,0] - centers_x0[i], x[point,1] - centers_x1[i]) for i in range(nclusters)]))"
    },
    {
      "cell_type": "code",
      "execution_count": null,
      "id": "575f97fe-2455-47ec-8fac-dfd0babfdd2a",
      "metadata": {
        "trusted": true
      },
      "outputs": [],
      "source": "plt.scatter(x[:,0],\n            x[:,1],\n            color=[ourcolors[i] for i in cluster])\nplt.plot(centers_x0, centers_x1, 'yo', markersize=10)\nplt.xlabel('x0')\nplt.ylabel('x1')"
    },
    {
      "cell_type": "code",
      "execution_count": null,
      "id": "ff2cd687-9d57-4c62-8f0e-881a60a41067",
      "metadata": {
        "trusted": true
      },
      "outputs": [],
      "source": "df = pd.DataFrame({'x0':x[:,0],'x1':x[:,1],'cluster':cluster})"
    },
    {
      "cell_type": "code",
      "execution_count": null,
      "id": "0b69a10f-998e-4b35-8b57-138ed9d8f8c4",
      "metadata": {
        "trusted": true
      },
      "outputs": [],
      "source": "df"
    },
    {
      "cell_type": "code",
      "execution_count": null,
      "id": "40012388-5233-4396-8ec0-6d54b01f3762",
      "metadata": {
        "trusted": true
      },
      "outputs": [],
      "source": "for i in range(nclusters):\n    centers_x0[i] = df.loc[df['cluster']==i, 'x0'].mean()\n    centers_x1[i] = df.loc[df['cluster']==i, 'x1'].mean()"
    },
    {
      "cell_type": "code",
      "execution_count": null,
      "id": "cc8f2d7b-d242-4e6a-9678-170caceab366",
      "metadata": {
        "trusted": true
      },
      "outputs": [],
      "source": "plt.scatter(df['x0'],\n            df['x1'],\n            color=[ourcolors[i] for i in df['cluster']])\nplt.plot(centers_x0, centers_x1, 'yo', markersize=10)\nplt.xlabel('x0')\nplt.ylabel('x1')"
    },
    {
      "cell_type": "code",
      "execution_count": null,
      "id": "814bf3f8-f264-4467-9c48-b8e221e9f021",
      "metadata": {
        "tags": [],
        "trusted": true
      },
      "outputs": [],
      "source": "for i,row in df.iterrows():\n    df.loc[i,'cluster'] = np.argmin([d(row['x0'] - centers_x0[i], row['x1'] - centers_x1[i]) for i in range(nclusters)])"
    },
    {
      "cell_type": "code",
      "execution_count": null,
      "id": "f82b1d3d-aad3-43b2-82f1-91303eee40f4",
      "metadata": {
        "trusted": true
      },
      "outputs": [],
      "source": "plt.scatter(df['x0'],\n            df['x1'],\n            color=[ourcolors[i] for i in df['cluster']])\nplt.plot(centers_x0, centers_x1, 'yo', markersize=10)\nplt.xlabel('x0')\nplt.ylabel('x1')"
    },
    {
      "cell_type": "code",
      "execution_count": null,
      "id": "a00be5a9-ed23-42ff-ba0e-31f1da5c2e4d",
      "metadata": {
        "trusted": true
      },
      "outputs": [],
      "source": "for i in range(nclusters):\n    centers_x0[i] = df.loc[df['cluster']==i, 'x0'].mean()\n    centers_x1[i] = df.loc[df['cluster']==i, 'x1'].mean()"
    },
    {
      "cell_type": "code",
      "execution_count": null,
      "id": "4611dc83-8f45-4673-ac57-35b958d1a874",
      "metadata": {
        "trusted": true
      },
      "outputs": [],
      "source": "plt.scatter(df['x0'],\n            df['x1'],\n            color=[ourcolors[i] for i in df['cluster']])\nplt.plot(centers_x0, centers_x1, 'yo', markersize=10)\nplt.xlabel('x0')\nplt.ylabel('x1')"
    },
    {
      "cell_type": "code",
      "execution_count": null,
      "id": "a2b525a2-baa1-4a9a-8549-b57337589b5b",
      "metadata": {
        "tags": [],
        "trusted": true
      },
      "outputs": [],
      "source": "for i,row in df.iterrows():\n    df.loc[i,'cluster'] = np.argmin([d(row['x0'] - centers_x0[i], row['x1'] - centers_x1[i]) for i in range(nclusters)])"
    },
    {
      "cell_type": "code",
      "execution_count": null,
      "id": "16ebfeb0-0a60-476f-b43b-52ac9fd0fba9",
      "metadata": {
        "trusted": true
      },
      "outputs": [],
      "source": "plt.scatter(df['x0'],\n            df['x1'],\n            color=[ourcolors[i] for i in df['cluster']])\nplt.plot(centers_x0, centers_x1, 'yo', markersize=10)\nplt.xlabel('x0')\nplt.ylabel('x1')"
    },
    {
      "cell_type": "code",
      "execution_count": null,
      "id": "1e7ee04d-019b-4b02-9adf-98b366fc30ba",
      "metadata": {
        "trusted": true
      },
      "outputs": [],
      "source": "for i in range(nclusters):\n    centers_x0[i] = df.loc[df['cluster']==i, 'x0'].mean()\n    centers_x1[i] = df.loc[df['cluster']==i, 'x1'].mean()"
    },
    {
      "cell_type": "code",
      "execution_count": null,
      "id": "6f15c70f-054e-49d2-9c83-92e7c7353202",
      "metadata": {
        "trusted": true
      },
      "outputs": [],
      "source": "plt.scatter(df['x0'],\n            df['x1'],\n            color=[ourcolors[i] for i in df['cluster']])\nplt.plot(centers_x0, centers_x1, 'yo', markersize=10)\nplt.xlabel('x0')\nplt.ylabel('x1')"
    },
    {
      "cell_type": "code",
      "execution_count": null,
      "id": "601e3e28-d7d8-4906-92a3-beba1039e5e7",
      "metadata": {
        "tags": [],
        "trusted": true
      },
      "outputs": [],
      "source": "for i,row in df.iterrows():\n    df.loc[i,'cluster'] = np.argmin([d(row['x0'] - centers_x0[i], row['x1'] - centers_x1[i]) for i in range(nclusters)])"
    },
    {
      "cell_type": "code",
      "execution_count": null,
      "id": "9baff611-fe69-4e00-9c32-34fab4112296",
      "metadata": {
        "trusted": true
      },
      "outputs": [],
      "source": "plt.scatter(df['x0'],\n            df['x1'],\n            color=[ourcolors[i] for i in df['cluster']])\nplt.plot(centers_x0, centers_x1, 'yo', markersize=10)\nplt.xlabel('x0')\nplt.ylabel('x1')"
    },
    {
      "cell_type": "code",
      "execution_count": null,
      "id": "737df513-2579-4152-afa6-333ccb55b0c3",
      "metadata": {
        "trusted": true
      },
      "outputs": [],
      "source": "for i in range(nclusters):\n    centers_x0[i] = df.loc[df['cluster']==i, 'x0'].mean()\n    centers_x1[i] = df.loc[df['cluster']==i, 'x1'].mean()"
    },
    {
      "cell_type": "code",
      "execution_count": null,
      "id": "fe2e8600-8218-40b2-9715-823f01de11b9",
      "metadata": {
        "trusted": true
      },
      "outputs": [],
      "source": "plt.scatter(df['x0'],\n            df['x1'],\n            color=[ourcolors[i] for i in df['cluster']])\nplt.plot(centers_x0, centers_x1, 'yo', markersize=10)\nplt.xlabel('x0')\nplt.ylabel('x1')"
    },
    {
      "cell_type": "code",
      "execution_count": null,
      "id": "c8e53417-6acc-43cf-ab25-496d3a9b618b",
      "metadata": {
        "tags": [],
        "trusted": true
      },
      "outputs": [],
      "source": "for i,row in df.iterrows():\n    df.loc[i,'cluster'] = np.argmin([d(row['x0'] - centers_x0[i], row['x1'] - centers_x1[i]) for i in range(nclusters)])"
    },
    {
      "cell_type": "code",
      "execution_count": null,
      "id": "89e6b37a-9af0-40fd-b2fb-4fa959c7cb6f",
      "metadata": {
        "trusted": true
      },
      "outputs": [],
      "source": "plt.scatter(df['x0'],\n            df['x1'],\n            color=[ourcolors[i] for i in df['cluster']])\nplt.plot(centers_x0, centers_x1, 'yo', markersize=10)\nplt.xlabel('x0')\nplt.ylabel('x1')"
    },
    {
      "cell_type": "code",
      "execution_count": null,
      "id": "5ebba620-d2f0-49db-8d29-8ec011a47583",
      "metadata": {
        "trusted": true
      },
      "outputs": [],
      "source": "for i in range(nclusters):\n    centers_x0[i] = df.loc[df['cluster']==i, 'x0'].mean()\n    centers_x1[i] = df.loc[df['cluster']==i, 'x1'].mean()"
    },
    {
      "cell_type": "code",
      "execution_count": null,
      "id": "6ec71352-f1b2-4a0b-a7f1-dfa36c80c420",
      "metadata": {
        "trusted": true
      },
      "outputs": [],
      "source": "plt.scatter(df['x0'],\n            df['x1'],\n            color=[ourcolors[i] for i in df['cluster']])\nplt.plot(centers_x0, centers_x1, 'yo', markersize=10)\nplt.xlabel('x0')\nplt.ylabel('x1')"
    },
    {
      "cell_type": "code",
      "execution_count": null,
      "id": "029c5373-2ede-4fef-b511-969abc67ec84",
      "metadata": {
        "tags": [],
        "trusted": true
      },
      "outputs": [],
      "source": "for i,row in df.iterrows():\n    df.loc[i,'cluster'] = np.argmin([d(row['x0'] - centers_x0[i], row['x1'] - centers_x1[i]) for i in range(nclusters)])"
    },
    {
      "cell_type": "code",
      "execution_count": null,
      "id": "af837530-7d07-4685-ac9b-9d40b9690de8",
      "metadata": {
        "trusted": true
      },
      "outputs": [],
      "source": "plt.scatter(df['x0'],\n            df['x1'],\n            color=[ourcolors[i] for i in df['cluster']])\nplt.plot(centers_x0, centers_x1, 'yo', markersize=10)\nplt.xlabel('x0')\nplt.ylabel('x1')"
    },
    {
      "cell_type": "code",
      "execution_count": null,
      "id": "33afc4fd-b86c-47ec-a708-597aa7a5e3bd",
      "metadata": {
        "trusted": true
      },
      "outputs": [],
      "source": "for i in range(nclusters):\n    centers_x0[i] = df.loc[df['cluster']==i, 'x0'].mean()\n    centers_x1[i] = df.loc[df['cluster']==i, 'x1'].mean()"
    },
    {
      "cell_type": "code",
      "execution_count": null,
      "id": "b8ad2a79-64c2-4497-a896-ad5395c4733e",
      "metadata": {
        "trusted": true
      },
      "outputs": [],
      "source": "plt.scatter(df['x0'],\n            df['x1'],\n            color=[ourcolors[i] for i in df['cluster']])\nplt.plot(centers_x0, centers_x1, 'yo', markersize=10)\nplt.xlabel('x0')\nplt.ylabel('x1')"
    },
    {
      "cell_type": "code",
      "execution_count": null,
      "id": "3754399d-123a-4851-84ea-ca2f2fccc250",
      "metadata": {
        "tags": [],
        "trusted": true
      },
      "outputs": [],
      "source": "for i,row in df.iterrows():\n    df.loc[i,'cluster'] = np.argmin([d(row['x0'] - centers_x0[i], row['x1'] - centers_x1[i]) for i in range(nclusters)])"
    },
    {
      "cell_type": "code",
      "execution_count": null,
      "id": "e4557035-135a-4577-91a3-210929bdc5f5",
      "metadata": {
        "trusted": true
      },
      "outputs": [],
      "source": "plt.scatter(df['x0'],\n            df['x1'],\n            color=[ourcolors[i] for i in df['cluster']])\nplt.plot(centers_x0, centers_x1, 'yo', markersize=10)\nplt.xlabel('x0')\nplt.ylabel('x1')"
    },
    {
      "cell_type": "markdown",
      "id": "482b7e80-8414-431b-8f72-04b1c537586a",
      "metadata": {},
      "source": "# Ascertaining clusters"
    },
    {
      "cell_type": "code",
      "execution_count": null,
      "id": "9f7c4417-84e0-4c5c-9835-c9aa41a4ad15",
      "metadata": {
        "trusted": true
      },
      "outputs": [],
      "source": "x, y = make_blobs(n_samples=300, centers=4, cluster_std=0.60, random_state=0)"
    },
    {
      "cell_type": "code",
      "execution_count": null,
      "id": "52d70f86-67a0-4159-b1b8-a37a074aa93e",
      "metadata": {
        "trusted": true
      },
      "outputs": [],
      "source": "plt.scatter(x[:,0],\n            x[:,1])\nplt.xlabel('x0')\nplt.ylabel('x1')"
    },
    {
      "cell_type": "code",
      "execution_count": null,
      "id": "cce4ac8c-ff4e-41f0-924a-683d1dae086f",
      "metadata": {
        "trusted": true
      },
      "outputs": [],
      "source": "kmeans = KMeans(n_clusters=4, n_init=10)"
    },
    {
      "cell_type": "code",
      "execution_count": null,
      "id": "231970ce-8fe2-41bf-9a2f-7fb456e5f7e6",
      "metadata": {
        "trusted": true
      },
      "outputs": [],
      "source": "kmeans.fit(x)"
    },
    {
      "cell_type": "code",
      "execution_count": null,
      "id": "eaad71ae-d946-400c-90db-e75efe4b727a",
      "metadata": {
        "trusted": true
      },
      "outputs": [],
      "source": "plt.scatter(x[:,0],\n            x[:,1],\n            color=[ourcolors[i] for i in kmeans.labels_])"
    },
    {
      "cell_type": "code",
      "execution_count": null,
      "id": "b2a40985-70d3-401a-b9e7-b032dc6a636d",
      "metadata": {
        "trusted": true
      },
      "outputs": [],
      "source": "kmeans.labels_"
    },
    {
      "cell_type": "code",
      "execution_count": null,
      "id": "96920646-3265-44f0-b225-30341ef5b057",
      "metadata": {
        "trusted": true
      },
      "outputs": [],
      "source": "kmeans.cluster_centers_"
    },
    {
      "cell_type": "code",
      "execution_count": null,
      "id": "86fdf6d4-3aa2-449b-bb14-89f23774d38c",
      "metadata": {
        "trusted": true
      },
      "outputs": [],
      "source": "def plotblobs(n):\n    kmeans = KMeans(n_clusters=n, n_init=10)\n    kmeans.fit(x)\n    plt.scatter(x[:,0], x[:,1], color=[ourcolors[i] for i in kmeans.labels_])\n    \nipywidgets.interact(plotblobs,n=(1,10));"
    },
    {
      "cell_type": "markdown",
      "id": "2cad8cf8-4c14-44e4-b811-e1c5229899fb",
      "metadata": {},
      "source": "There is no means by which to evaluate the performance of clustering.  This is unsupervised learning, so there are no test values against which we can measure metrics.\n\nInertia is one metric that is used to evaluate clustering.  Inertia measures the sum of the distances between each training instance and the cluster centroid with which it is identified."
    },
    {
      "cell_type": "code",
      "execution_count": null,
      "id": "17291fa7-2cf2-44af-adc9-3bd27c7eff8c",
      "metadata": {
        "trusted": true
      },
      "outputs": [],
      "source": "kmeans.inertia_"
    },
    {
      "cell_type": "markdown",
      "id": "5ffd9b19-88c4-415d-8395-7f1bcc4b761a",
      "metadata": {},
      "source": "For k-means clustering, the `score` method returns this inertia score (or rather the negative of the inertia, since score is meant to be optimized and higher values, rather than lower values, are meant for such optimization)."
    },
    {
      "cell_type": "code",
      "execution_count": null,
      "id": "eda9f193-bb3c-42a9-a82e-6b6cbaf4fced",
      "metadata": {
        "trusted": true
      },
      "outputs": [],
      "source": "kmeans.score(x)"
    },
    {
      "cell_type": "code",
      "execution_count": null,
      "id": "2f1bb09a-c0a6-4ef1-8e2c-fe6b608a9fcb",
      "metadata": {
        "trusted": true
      },
      "outputs": [],
      "source": "nclusters = []\ninertia_scores = []\nfor i in range(1,15):\n    nclusters.append(i)\n    inertia_scores.append(KMeans(n_clusters=i, n_init=10).fit(x).inertia_)"
    },
    {
      "cell_type": "code",
      "execution_count": null,
      "id": "df7cf2a3-ba76-4b95-a18a-9f0843f96981",
      "metadata": {
        "trusted": true
      },
      "outputs": [],
      "source": "plt.plot(nclusters, inertia_scores, 'ko')"
    },
    {
      "cell_type": "markdown",
      "id": "798ed888-ebfc-4d8a-b130-49d3af320bea",
      "metadata": {},
      "source": "Another approach is to look at the silhouette score.  For any given point, the silhouette coefficient equals $(b-a)/\\text{max}(a,b)$, where a is the average distance to other points in the same cluster and b is the average distance to points in the next closest cluster.  +1 means the point is well within its own cluster, and -1 means the point is likely in the next closest cluster.\n\nThe silhouette score is the average silhouette coefficient over all points."
    },
    {
      "cell_type": "code",
      "execution_count": null,
      "id": "3cd43ddf-d846-40cf-a2c9-e96748b70c87",
      "metadata": {
        "trusted": true
      },
      "outputs": [],
      "source": "from sklearn.metrics import silhouette_score"
    },
    {
      "cell_type": "markdown",
      "id": "b8a6a779-9dc5-4a28-81bb-c6f0c953adf2",
      "metadata": {},
      "source": "For just one training, we pass in the points and labels."
    },
    {
      "cell_type": "code",
      "execution_count": null,
      "id": "f9d054b1-9577-4131-8c86-14e3f1e517ad",
      "metadata": {
        "trusted": true
      },
      "outputs": [],
      "source": "kmeans = KMeans(n_clusters=4, n_init=10)\nkmeans.fit(x)\nsilhouette_score(x, kmeans.labels_)"
    },
    {
      "cell_type": "markdown",
      "id": "b32b338d-997b-49e2-86b8-66860be1bb5b",
      "metadata": {},
      "source": "We can again look at how this varies when identifying different numbers of clusters."
    },
    {
      "cell_type": "code",
      "execution_count": null,
      "id": "1a2fa7df-22a5-4ba6-ab10-dc31f9eeee46",
      "metadata": {
        "trusted": true
      },
      "outputs": [],
      "source": "nclusters = []\nsilhouette_scores = []\n# Note: doesn't work for just 1 cluster because then there isn't a next-closest cluster\nfor i in range(2,15):\n    nclusters.append(i)\n    silhouette_scores.append(silhouette_score(x, KMeans(n_clusters=i, n_init=10).fit(x).labels_))"
    },
    {
      "cell_type": "code",
      "execution_count": null,
      "id": "b93c7c0d-cd85-4da2-9ad8-8f717cb064e8",
      "metadata": {
        "trusted": true
      },
      "outputs": [],
      "source": "plt.plot(nclusters, silhouette_scores, 'ko')"
    },
    {
      "cell_type": "markdown",
      "id": "00c3c64f-21e3-4528-b25f-3d8269c38bb3",
      "metadata": {},
      "source": "# Using KMeans Clustering for Preprocessing"
    },
    {
      "cell_type": "markdown",
      "id": "1e8e8647-7525-4482-81fe-a84fa0c95873",
      "metadata": {},
      "source": "Acknowledgements to our course text by A. Geron."
    },
    {
      "cell_type": "code",
      "execution_count": null,
      "id": "47f39c28-382f-46ae-839b-627b31f56bcd",
      "metadata": {
        "trusted": true
      },
      "outputs": [],
      "source": "from sklearn.datasets import load_digits\nfrom sklearn.model_selection import train_test_split\nfrom sklearn.linear_model import LogisticRegression"
    },
    {
      "cell_type": "code",
      "execution_count": null,
      "id": "fb436c03-6d08-43bb-8426-77e925d45aef",
      "metadata": {
        "trusted": true
      },
      "outputs": [],
      "source": "X_digits, y_digits = load_digits(return_X_y=True)"
    },
    {
      "cell_type": "code",
      "execution_count": null,
      "id": "27273739-8edb-49c7-903b-5a523046c995",
      "metadata": {
        "trusted": true
      },
      "outputs": [],
      "source": "X_train, X_test, y_train, y_test = train_test_split(X_digits, y_digits, random_state=42)"
    },
    {
      "cell_type": "markdown",
      "id": "981f684a-02fc-4058-ad66-ae34f947fa52",
      "metadata": {},
      "source": "We'll use Logistic Regression to do multi-class classification:\n* https://scikit-learn.org/stable/modules/generated/sklearn.linear_model.LogisticRegression.html"
    },
    {
      "cell_type": "code",
      "execution_count": null,
      "id": "28cc65c6-1cae-49dd-a264-27b7d8fa5268",
      "metadata": {
        "trusted": true
      },
      "outputs": [],
      "source": "log_reg = LogisticRegression(multi_class=\"ovr\", \n                             solver=\"lbfgs\", \n                             max_iter=5000, \n                             random_state=42)\nlog_reg.fit(X_train, y_train)"
    },
    {
      "cell_type": "code",
      "execution_count": null,
      "id": "8d0e5784-e245-47bf-b1db-87217fa2ccca",
      "metadata": {
        "trusted": true
      },
      "outputs": [],
      "source": "log_reg_score = log_reg.score(X_test, y_test)\nlog_reg_score"
    },
    {
      "cell_type": "code",
      "execution_count": null,
      "id": "65a9fd43-304f-4052-9334-64b4a86a56d7",
      "metadata": {
        "trusted": true
      },
      "outputs": [],
      "source": "X_digits[1]"
    },
    {
      "cell_type": "markdown",
      "id": "285bdd89-c102-4a20-b8f2-f1e39a3e60e7",
      "metadata": {},
      "source": "Now comes a nifty little preprocessing step: identify 50 clusters for this image data, and replace the 8x8 feature space (64 features) with the 50x1 feature space corresponding to distances of points from the 50 identified clusters."
    },
    {
      "cell_type": "code",
      "execution_count": null,
      "id": "bda9eba5-9fae-409a-ae09-e263ed785b8d",
      "metadata": {
        "trusted": true
      },
      "outputs": [],
      "source": "from sklearn.pipeline import Pipeline"
    },
    {
      "cell_type": "code",
      "execution_count": null,
      "id": "2be23e91-79b5-4fe0-8519-1af3400bedbf",
      "metadata": {
        "trusted": true
      },
      "outputs": [],
      "source": "pipeline = Pipeline([\n    (\"kmeans\", KMeans(n_clusters=50, random_state=42, n_init=10)),\n    (\"log_reg\", LogisticRegression(multi_class=\"ovr\", solver=\"lbfgs\", max_iter=5000, random_state=42)),\n])\npipeline.fit(X_train, y_train)"
    },
    {
      "cell_type": "code",
      "execution_count": null,
      "id": "c8c91834-08ae-4385-afc0-97b8e27e7296",
      "metadata": {
        "trusted": true
      },
      "outputs": [],
      "source": "pipeline_score = pipeline.score(X_test, y_test)\npipeline_score"
    },
    {
      "cell_type": "markdown",
      "id": "230462a3-5141-4be2-9a9a-41c288813b29",
      "metadata": {},
      "source": "We could stop and try to use inertia or silhouette score to identify an ideal number of clusters, but no!  Just use grid search cross-validation to identify the number of clusters (our hyperparameter) that performs the best.\n\nThis will take awhile and I'm not going to run it now.  I invite you to try on your own later.  For now I'll just show another value that gives good results."
    },
    {
      "cell_type": "code",
      "execution_count": null,
      "id": "50994203-fe9e-43a6-a98b-186be45a4d91",
      "metadata": {
        "trusted": true
      },
      "outputs": [],
      "source": "pipeline = Pipeline([\n    (\"kmeans\", KMeans(n_clusters=53, random_state=42, n_init=10)),\n    (\"log_reg\", LogisticRegression(multi_class=\"ovr\", solver=\"lbfgs\", max_iter=5000, random_state=42)),\n])\npipeline.fit(X_train, y_train)"
    },
    {
      "cell_type": "code",
      "execution_count": null,
      "id": "217804bf-d127-4f1e-a4c0-326269f517e5",
      "metadata": {
        "trusted": true
      },
      "outputs": [],
      "source": "pipeline_score = pipeline.score(X_test, y_test)\npipeline_score"
    }
  ],
  "metadata": {
    "kernelspec": {
      "display_name": "Python 3 (ipykernel)",
      "language": "python",
      "name": "python3"
    },
    "language_info": {
      "codemirror_mode": {
        "name": "ipython",
        "version": 3
      },
      "file_extension": ".py",
      "mimetype": "text/x-python",
      "name": "python",
      "nbconvert_exporter": "python",
      "pygments_lexer": "ipython3",
      "version": "3.11.6"
    }
  },
  "nbformat": 4,
  "nbformat_minor": 5
}