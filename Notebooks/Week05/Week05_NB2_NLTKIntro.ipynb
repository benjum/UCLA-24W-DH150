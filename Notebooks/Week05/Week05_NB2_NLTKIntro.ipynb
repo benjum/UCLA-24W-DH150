{
  "cells": [
    {
      "cell_type": "markdown",
      "id": "a057f008-5f33-4766-8690-4b4127ab1871",
      "metadata": {},
      "source": "# Introduction to NLP with Python's NLTK\n\n* \"NLTK is a leading platform for building Python programs to work with human language data.\" -- NLTK website\n* https://www.nltk.org/"
    },
    {
      "cell_type": "code",
      "execution_count": null,
      "id": "4aab6efc-a9e7-457b-80e5-1d1ec7417f4a",
      "metadata": {
        "trusted": true
      },
      "outputs": [],
      "source": "import nltk"
    },
    {
      "cell_type": "code",
      "execution_count": null,
      "id": "72ba0cbe-0fc6-4bff-8626-5dd38d3e8583",
      "metadata": {
        "trusted": true
      },
      "outputs": [],
      "source": "text = '''\nCall me Ishmael. Some years ago—never mind how long precisely—having little\nor no money in my purse, and nothing particular to interest me on shore, \nI thought I would sail about a little and see the watery part of the world.\n'''"
    },
    {
      "cell_type": "code",
      "execution_count": null,
      "id": "56e6cf54-9661-4952-9b43-c82ebd294b3f",
      "metadata": {
        "trusted": true
      },
      "outputs": [],
      "source": "print(text)"
    },
    {
      "cell_type": "markdown",
      "id": "e375e97c-d22b-43c9-9b2c-6352d7bd5ca6",
      "metadata": {},
      "source": "## Tokenization"
    },
    {
      "cell_type": "code",
      "execution_count": null,
      "id": "712aa087-41c0-45f3-8738-5a98b2e6747d",
      "metadata": {
        "trusted": true
      },
      "outputs": [],
      "source": "from nltk.tokenize import word_tokenize, sent_tokenize"
    },
    {
      "cell_type": "code",
      "execution_count": null,
      "id": "dab9cdcc-5403-4106-b53b-d3c229d2c02c",
      "metadata": {
        "trusted": true
      },
      "outputs": [],
      "source": "# you'll see an error if you have not downloaded some relevent resources from nltk\nsent = sent_tokenize(text)\nprint(sent)"
    },
    {
      "cell_type": "markdown",
      "id": "4322a866-90c8-4943-b1bc-57e3d8f52c71",
      "metadata": {},
      "source": "NLTK will require that you download corpora and other information."
    },
    {
      "cell_type": "code",
      "execution_count": null,
      "id": "d12f01b6-dfa4-40ac-9c87-a5672bc20138",
      "metadata": {
        "trusted": true
      },
      "outputs": [],
      "source": "# I found that I needed the following for this notebook\nnltk.download('punkt')\nnltk.download('averaged_perceptron_tagger')\nnltk.download('wordnet')\nnltk.download('stopwords')"
    },
    {
      "cell_type": "code",
      "execution_count": null,
      "id": "876ba9f8-5509-4d16-8002-1054f561fa2e",
      "metadata": {
        "trusted": true
      },
      "outputs": [],
      "source": "sent = sent_tokenize(text)\nprint(sent)"
    },
    {
      "cell_type": "code",
      "execution_count": null,
      "id": "c5b34b48-d148-4e3a-acf4-19fb90214320",
      "metadata": {
        "trusted": true
      },
      "outputs": [],
      "source": "print(word_tokenize(sent[1]))"
    },
    {
      "cell_type": "code",
      "execution_count": null,
      "id": "42a19cc1-faa5-44e7-a7a9-5bed514aafa3",
      "metadata": {
        "trusted": true
      },
      "outputs": [],
      "source": "words = []\nfor s in sent:\n    for w in word_tokenize(s):\n        words.append(w)"
    },
    {
      "cell_type": "code",
      "execution_count": null,
      "id": "e4cb1f17-3313-4b5f-a86a-a0e4b74ad346",
      "metadata": {
        "trusted": true
      },
      "outputs": [],
      "source": "print(words)"
    },
    {
      "cell_type": "markdown",
      "id": "01707337-6707-404f-bd64-407d1e977032",
      "metadata": {},
      "source": "## Stopword removal"
    },
    {
      "cell_type": "code",
      "execution_count": null,
      "id": "06b0ad7f-4558-468d-a6b9-32baa4249904",
      "metadata": {
        "trusted": true
      },
      "outputs": [],
      "source": "from nltk.corpus import stopwords\nfrom string import punctuation"
    },
    {
      "cell_type": "code",
      "execution_count": null,
      "id": "1c12e961-caae-4bf5-96a9-70c22473fbc1",
      "metadata": {
        "trusted": true
      },
      "outputs": [],
      "source": "print(punctuation)"
    },
    {
      "cell_type": "code",
      "execution_count": null,
      "id": "8b123620-daf7-488a-b261-d40f13e48222",
      "metadata": {
        "trusted": true
      },
      "outputs": [],
      "source": "print(stopwords.words('english'))"
    },
    {
      "cell_type": "code",
      "execution_count": null,
      "id": "55bd6df1-18e9-4fb7-b021-b20557e8574d",
      "metadata": {
        "trusted": true
      },
      "outputs": [],
      "source": "print(list(punctuation))"
    },
    {
      "cell_type": "code",
      "execution_count": null,
      "id": "8b6d073e-4281-4e0b-9d0c-17d370b2bcf6",
      "metadata": {
        "trusted": true
      },
      "outputs": [],
      "source": "myStopWords = list(punctuation) + stopwords.words('english')"
    },
    {
      "cell_type": "code",
      "execution_count": null,
      "id": "27a18da5-936d-4d92-84c3-8713f7b8c846",
      "metadata": {
        "trusted": true
      },
      "outputs": [],
      "source": "print(words)"
    },
    {
      "cell_type": "code",
      "execution_count": null,
      "id": "86bbe153-6e7e-45d3-82c5-8bf2aec79829",
      "metadata": {
        "trusted": true
      },
      "outputs": [],
      "source": "wordsNoStop = []\nfor i in words:\n    if i not in myStopWords:\n        wordsNoStop.append(i)\nprint(words)\nprint(wordsNoStop)"
    },
    {
      "cell_type": "markdown",
      "id": "9cc7d195-7bf2-466a-826f-bc09c1f16258",
      "metadata": {},
      "source": "We'll use list comprehension to streamline this process."
    },
    {
      "cell_type": "code",
      "execution_count": null,
      "id": "c6ec9ffb-8a70-49bc-94b8-141550c3c67f",
      "metadata": {
        "trusted": true
      },
      "outputs": [],
      "source": "# Example list comprehension\n[i for i in [1,2,3,4]]"
    },
    {
      "cell_type": "code",
      "execution_count": null,
      "id": "5ccbd133-b9dd-4c0d-8590-dc1f42f07543",
      "metadata": {
        "trusted": true
      },
      "outputs": [],
      "source": "[a for a in range(5)]"
    },
    {
      "cell_type": "code",
      "execution_count": null,
      "id": "3ea6539a-b775-46d1-ba71-801d90f9f179",
      "metadata": {
        "trusted": true
      },
      "outputs": [],
      "source": "[x for x in [2,3,6,5,7,8,4] if x > 5]"
    },
    {
      "cell_type": "code",
      "execution_count": null,
      "id": "2ff8395a-6edb-4c27-b0bf-70200f7d2f3c",
      "metadata": {
        "trusted": true
      },
      "outputs": [],
      "source": "wordsNoStopComp = [w for w in words if w not in myStopWords]\nprint(wordsNoStopComp)"
    },
    {
      "cell_type": "markdown",
      "id": "32907fd3-f01d-4a1b-b802-95799f1b4f87",
      "metadata": {},
      "source": "## N-grams"
    },
    {
      "cell_type": "code",
      "execution_count": null,
      "id": "bd64e6ed-e03e-419c-b721-9d513389b23b",
      "metadata": {
        "trusted": true
      },
      "outputs": [],
      "source": "from nltk.collocations import *"
    },
    {
      "cell_type": "code",
      "execution_count": null,
      "id": "3fa06922-df24-4905-9c3e-635a8fdb880f",
      "metadata": {
        "trusted": true
      },
      "outputs": [],
      "source": "finder = BigramCollocationFinder.from_words(wordsNoStop)"
    },
    {
      "cell_type": "code",
      "execution_count": null,
      "id": "5cea51ba-80fb-4fe6-ad24-ca68ebd8467f",
      "metadata": {
        "trusted": true
      },
      "outputs": [],
      "source": "finder"
    },
    {
      "cell_type": "code",
      "execution_count": null,
      "id": "1a37ae9d-b73b-4a8d-8388-365f5caf0cff",
      "metadata": {
        "trusted": true
      },
      "outputs": [],
      "source": "finder.ngram_fd"
    },
    {
      "cell_type": "code",
      "execution_count": null,
      "id": "64ec0f60-b3b3-4d12-87ea-4d6ab6a92976",
      "metadata": {
        "trusted": true
      },
      "outputs": [],
      "source": "finder.ngram_fd.items()"
    },
    {
      "cell_type": "code",
      "execution_count": null,
      "id": "0d059c3f-bbc9-42f7-be5f-ecc77a52033a",
      "metadata": {
        "trusted": true
      },
      "outputs": [],
      "source": "sorted(finder.ngram_fd.items())"
    },
    {
      "cell_type": "markdown",
      "id": "f9f730a2-48ce-4610-bd70-021e6ff9d884",
      "metadata": {},
      "source": "## Stemming and Tagging"
    },
    {
      "cell_type": "code",
      "execution_count": null,
      "id": "1b1d9c82-1f75-4b8c-964b-4d0ec7a71422",
      "metadata": {
        "trusted": true
      },
      "outputs": [],
      "source": "text2 = 'Ishmael sailed because sailing and wanting to sail was in his blood.'"
    },
    {
      "cell_type": "code",
      "execution_count": null,
      "id": "9cf8742b-0f35-40f3-a256-a7a044fcfe86",
      "metadata": {
        "trusted": true
      },
      "outputs": [],
      "source": "from nltk.stem.lancaster import LancasterStemmer\nfrom nltk.stem.porter import PorterStemmer"
    },
    {
      "cell_type": "code",
      "execution_count": null,
      "id": "98952ad0-7d9c-4860-85ef-1d4d76f5b601",
      "metadata": {
        "trusted": true
      },
      "outputs": [],
      "source": "words = word_tokenize(text2)"
    },
    {
      "cell_type": "code",
      "execution_count": null,
      "id": "8ca1c277-be2c-4423-ad2e-df39170294f1",
      "metadata": {
        "trusted": true
      },
      "outputs": [],
      "source": "print(words)"
    },
    {
      "cell_type": "code",
      "execution_count": null,
      "id": "c6d79d46-275b-41eb-ab28-db4439d2f85a",
      "metadata": {
        "trusted": true
      },
      "outputs": [],
      "source": "wordLancasterStems = [LancasterStemmer().stem(w) for w in words]\nwordPorterStems = [PorterStemmer().stem(w) for w in words]"
    },
    {
      "cell_type": "code",
      "execution_count": null,
      "id": "693346f4-813d-4364-bb29-c3590a08f0db",
      "metadata": {
        "trusted": true
      },
      "outputs": [],
      "source": "print(wordLancasterStems)\nprint(wordPorterStems)"
    },
    {
      "cell_type": "code",
      "execution_count": null,
      "id": "a5074e03-bfdf-4bbf-94d3-aab6dbe8187c",
      "metadata": {
        "trusted": true
      },
      "outputs": [],
      "source": "nltk.pos_tag(words)"
    },
    {
      "cell_type": "code",
      "execution_count": null,
      "id": "f95b915c-3326-4007-8e92-048705cd6f23",
      "metadata": {
        "trusted": true
      },
      "outputs": [],
      "source": "nltk.pos_tag(words)"
    },
    {
      "cell_type": "code",
      "execution_count": null,
      "id": "fb61bc07-5271-4533-b865-49368c7c301a",
      "metadata": {
        "trusted": true
      },
      "outputs": [],
      "source": "nltk.pos_tag(word_tokenize('Once upon a time there was a cat.  It was black and fluffy.'))"
    },
    {
      "cell_type": "markdown",
      "id": "89961a5c-df27-46cb-8616-b9690f0210ce",
      "metadata": {},
      "source": "Check out the [Penn Treebank Project list](https://www.ling.upenn.edu/courses/Fall_2003/ling001/penn_treebank_pos.html)"
    },
    {
      "cell_type": "markdown",
      "id": "6e506f81-47c2-43eb-a419-484224a6bacd",
      "metadata": {},
      "source": "## Word sense disambiguation"
    },
    {
      "cell_type": "code",
      "execution_count": null,
      "id": "ecdd4f3b-6045-4e9e-8561-fba1f3d6685b",
      "metadata": {
        "trusted": true
      },
      "outputs": [],
      "source": "from nltk.corpus import wordnet\nfor ss in wordnet.synsets('sail'):\n    print(ss, ss.definition())"
    },
    {
      "cell_type": "code",
      "execution_count": null,
      "id": "27449865-8d15-4cef-8dee-04576cc3c4b4",
      "metadata": {
        "trusted": true
      },
      "outputs": [],
      "source": "from nltk.wsd import lesk"
    },
    {
      "cell_type": "code",
      "execution_count": null,
      "id": "7167125a-6f2c-4b8d-adaa-77b010c18c9b",
      "metadata": {
        "trusted": true
      },
      "outputs": [],
      "source": "print(words)"
    },
    {
      "cell_type": "code",
      "execution_count": null,
      "id": "69969cff-c19d-48c8-b850-0e42818effe8",
      "metadata": {
        "trusted": true
      },
      "outputs": [],
      "source": "wordSense = lesk(words, 'sail')"
    },
    {
      "cell_type": "code",
      "execution_count": null,
      "id": "82581ac0-86ae-42d2-844f-efee455fc747",
      "metadata": {
        "trusted": true
      },
      "outputs": [],
      "source": "print(wordSense, wordSense.definition())"
    },
    {
      "cell_type": "code",
      "execution_count": null,
      "id": "07527854-5e9c-4427-9c99-a5c5fb740e6c",
      "metadata": {
        "trusted": true
      },
      "outputs": [],
      "source": "wordSense = lesk(words, 'sailed')"
    },
    {
      "cell_type": "code",
      "execution_count": null,
      "id": "5d068756-a0cb-4c37-9f8f-485090454aac",
      "metadata": {
        "trusted": true
      },
      "outputs": [],
      "source": "print(wordSense, wordSense.definition())"
    },
    {
      "cell_type": "code",
      "execution_count": null,
      "id": "be1ba474-0478-493e-befd-9f62c0b98fc0",
      "metadata": {
        "trusted": true
      },
      "outputs": [],
      "source": "wordSense = lesk(words, 'wanting to sail')"
    },
    {
      "cell_type": "code",
      "execution_count": null,
      "id": "c2528ff5-714e-436e-99ca-8988b1195be3",
      "metadata": {
        "trusted": true
      },
      "outputs": [],
      "source": "# will give an error\n# because you can only look at a definition of single words\nprint(wordSense, wordSense.definition())"
    },
    {
      "cell_type": "code",
      "execution_count": null,
      "id": "a7a995f3-b334-47e7-9a22-7fcd86861709",
      "metadata": {
        "tags": [],
        "trusted": true
      },
      "outputs": [],
      "source": "t = 'I will sail to Mexico each winter.'\ns = lesk(word_tokenize(t), 'sail')\nprint(s, s.definition())"
    },
    {
      "cell_type": "code",
      "execution_count": null,
      "id": "473285cc-a10b-4840-8818-3d84495148fb",
      "metadata": {
        "tags": [],
        "trusted": true
      },
      "outputs": [],
      "source": "# One can help guide disambiguation by \n# further including the part of speech,\n# though note that the POS specifications\n# are those specific to synsets\n\nfor ss in wordnet.synsets('sail'):\n    print(ss, ss.pos())"
    },
    {
      "cell_type": "code",
      "execution_count": null,
      "id": "7397d2b7-90e7-4b95-bf03-5cf695f653bb",
      "metadata": {
        "tags": [],
        "trusted": true
      },
      "outputs": [],
      "source": "t = 'I will sail to Mexico each winter.'\ns = lesk(word_tokenize(t), 'sail', pos='v')\nprint(s, s.definition())"
    }
  ],
  "metadata": {
    "kernelspec": {
      "display_name": "Python 3 (ipykernel)",
      "language": "python",
      "name": "python3"
    },
    "language_info": {
      "codemirror_mode": {
        "name": "ipython",
        "version": 3
      },
      "file_extension": ".py",
      "mimetype": "text/x-python",
      "name": "python",
      "nbconvert_exporter": "python",
      "pygments_lexer": "ipython3",
      "version": "3.11.6"
    }
  },
  "nbformat": 4,
  "nbformat_minor": 5
}