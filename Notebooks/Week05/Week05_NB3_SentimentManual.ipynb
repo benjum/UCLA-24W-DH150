{
  "cells": [
    {
      "cell_type": "markdown",
      "id": "b469de05-cc72-4ef5-bb6f-cbb65d155aa9",
      "metadata": {},
      "source": "# Sentiment and Classification"
    },
    {
      "cell_type": "markdown",
      "id": "7be77db3-0ce7-471b-a5d2-0e89abf72168",
      "metadata": {},
      "source": "For sentiment, we will look at VADER and NLTK's Sentiwordnet.\n\n* \"VADER (Valence Aware Dictionary and sEntiment Reasoner) is a lexicon and rule-based sentiment analysis tool that is specifically attuned to sentiments expressed in social media.\"\n  * https://github.com/cjhutto/vaderSentiment\n  * nice example: https://rstudio-pubs-static.s3.amazonaws.com/79360_850b2a69980c4488b1db95987a24867a.html\n  \n* Sentiwordnet is a part of the NLTK library that includes sentiment scores for words on top of the information provided by wordnet.\n  * https://www.nltk.org/howto/sentiwordnet.html"
    },
    {
      "cell_type": "markdown",
      "id": "0609e1ea-e96c-4eaf-8d45-cc1e27e93d0f",
      "metadata": {},
      "source": "## VADER"
    },
    {
      "cell_type": "code",
      "execution_count": null,
      "id": "5de7c903-55f3-4a9a-96e7-38cd17271ce1",
      "metadata": {
        "tags": [],
        "trusted": true
      },
      "outputs": [],
      "source": "import nltk\nfrom nltk.sentiment import vader\nnltk.download('vader_lexicon')\nnltk.download('stopwords')"
    },
    {
      "cell_type": "code",
      "execution_count": null,
      "id": "8d539b3e-35fb-4f6a-880d-d93d54c79065",
      "metadata": {
        "trusted": true
      },
      "outputs": [],
      "source": "sia = vader.SentimentIntensityAnalyzer()"
    },
    {
      "cell_type": "code",
      "execution_count": null,
      "id": "8b22e539-160e-408b-affa-aa224743f7b7",
      "metadata": {
        "trusted": true
      },
      "outputs": [],
      "source": "sia.polarity_scores('Luke, I am your father.')"
    },
    {
      "cell_type": "code",
      "execution_count": null,
      "id": "ca8153d0-a7d4-4e15-96df-a2ee7d3ff819",
      "metadata": {
        "trusted": true
      },
      "outputs": [],
      "source": "sia.polarity_scores('NO!!!!!!')"
    },
    {
      "cell_type": "code",
      "execution_count": null,
      "id": "f766b61c-4954-4542-ba9f-8a1517e5c1f8",
      "metadata": {
        "trusted": true
      },
      "outputs": [],
      "source": "sia.polarity_scores('I hate you.')"
    },
    {
      "cell_type": "code",
      "execution_count": null,
      "id": "a1dd71cf-217a-46ae-a6e1-009ad6adb93d",
      "metadata": {
        "trusted": true
      },
      "outputs": [],
      "source": "sia.polarity_scores('I HATE you.')"
    },
    {
      "cell_type": "code",
      "execution_count": null,
      "id": "6d2951e5-3d31-432d-af9c-fba5233e3855",
      "metadata": {
        "trusted": true
      },
      "outputs": [],
      "source": "sia.polarity_scores('I HATE you!!!!')"
    },
    {
      "cell_type": "code",
      "execution_count": null,
      "id": "68b3a5de-7d04-4dd4-99d7-d01a59e10fdc",
      "metadata": {
        "trusted": true
      },
      "outputs": [],
      "source": "sia.polarity_scores('Thank you Dad')"
    },
    {
      "cell_type": "markdown",
      "id": "09d534e5-87e8-4a39-8e8b-d9b630dac246",
      "metadata": {},
      "source": "Try typing in a couple sentences to explore polarity scores"
    },
    {
      "cell_type": "code",
      "execution_count": null,
      "id": "e39dfdde-dd16-4525-90b7-51e89ea8134a",
      "metadata": {
        "trusted": true
      },
      "outputs": [],
      "source": ""
    },
    {
      "cell_type": "markdown",
      "id": "fbe442e1-7b1c-4bd7-aee2-23a9746f7c82",
      "metadata": {},
      "source": "sia.polarity_scores(':D')"
    },
    {
      "cell_type": "code",
      "execution_count": null,
      "id": "1aae029d-df16-49dc-bc80-e2c14fcf982d",
      "metadata": {
        "trusted": true
      },
      "outputs": [],
      "source": "sia.polarity_scores(':D')"
    },
    {
      "cell_type": "code",
      "execution_count": null,
      "id": "4892e59d-cb4b-464d-8fba-3defa42b954c",
      "metadata": {
        "trusted": true
      },
      "outputs": [],
      "source": "sia.polarity_scores(':(')"
    },
    {
      "cell_type": "code",
      "execution_count": null,
      "id": "cb782224-9375-4146-a447-9762ccac6ffa",
      "metadata": {
        "trusted": true
      },
      "outputs": [],
      "source": "sia.polarity_scores('>:(')"
    },
    {
      "cell_type": "markdown",
      "id": "82698a31-c951-46d6-8a41-7c93904f7b8a",
      "metadata": {},
      "source": "Negation"
    },
    {
      "cell_type": "code",
      "execution_count": null,
      "id": "795e7e3e-4eca-443e-8d44-1d43f1141c92",
      "metadata": {
        "trusted": true
      },
      "outputs": [],
      "source": "sia.polarity_scores(\"I don't hate you\")"
    },
    {
      "cell_type": "code",
      "execution_count": null,
      "id": "00f9f15f-256b-4381-bfd5-0fc5b7744f51",
      "metadata": {
        "trusted": true
      },
      "outputs": [],
      "source": "sia.polarity_scores(\"I don't not love you\")"
    },
    {
      "cell_type": "code",
      "execution_count": null,
      "id": "270a909c-2233-478e-ae12-88a607f63b4b",
      "metadata": {
        "trusted": true
      },
      "outputs": [],
      "source": "sia.polarity_scores(\"I love you\")"
    },
    {
      "cell_type": "code",
      "execution_count": null,
      "id": "1844741a-0ebd-49f7-959d-c86c091879ab",
      "metadata": {
        "trusted": true
      },
      "outputs": [],
      "source": "sia.polarity_scores(\"I LOVE you\")"
    },
    {
      "cell_type": "code",
      "execution_count": null,
      "id": "58352a96-85a7-44f1-960d-0644d8ffcb0b",
      "metadata": {
        "trusted": true
      },
      "outputs": [],
      "source": "sia.polarity_scores(\"I really love you\")"
    },
    {
      "cell_type": "code",
      "execution_count": null,
      "id": "6bce382e-f835-409c-a863-f54a638dada7",
      "metadata": {
        "trusted": true
      },
      "outputs": [],
      "source": "sia.polarity_scores(\"I am in love with you\")"
    },
    {
      "cell_type": "code",
      "execution_count": null,
      "id": "44350d97-d710-4242-9902-437095bef368",
      "metadata": {
        "trusted": true
      },
      "outputs": [],
      "source": "sia.polarity_scores(\"I am so in love with you\")"
    },
    {
      "cell_type": "markdown",
      "id": "696d5094-d82c-489e-a71b-c8d4ab1db48a",
      "metadata": {},
      "source": "Contrast"
    },
    {
      "cell_type": "code",
      "execution_count": null,
      "id": "d0f3020e-954e-49b7-aff9-3d097bd1caf2",
      "metadata": {
        "trusted": true
      },
      "outputs": [],
      "source": "sia.polarity_scores(\"I usually hate shrimp but I loved this\")"
    },
    {
      "cell_type": "markdown",
      "id": "8c037ced-16cc-4e9c-9bcf-fab42e7ec0a3",
      "metadata": {},
      "source": "The part after the but takes precendence"
    },
    {
      "cell_type": "code",
      "execution_count": null,
      "id": "bc71d581-078a-471d-b26c-82b75edb7feb",
      "metadata": {
        "trusted": true
      },
      "outputs": [],
      "source": "sia.polarity_scores(\"I usually hate shrimp and I loved this\")"
    },
    {
      "cell_type": "code",
      "execution_count": null,
      "id": "50a31387-3637-4b21-91c7-8b0e2a530fcf",
      "metadata": {
        "trusted": true
      },
      "outputs": [],
      "source": "sia.polarity_scores(\"I usually hate shrimp and I liked this\")"
    },
    {
      "cell_type": "markdown",
      "id": "f1fb6f2d",
      "metadata": {},
      "source": "## Sentiment Classification\n\nUsing NLTK's example movie review dataset, we'll first explore thinking about how to tackle a problem like this manually."
    },
    {
      "cell_type": "code",
      "execution_count": null,
      "id": "4cf09281",
      "metadata": {
        "trusted": true
      },
      "outputs": [],
      "source": "import nltk\n\nnltk.download('movie_reviews')\nfrom nltk.corpus import movie_reviews\n\n# Access the movie reviews dataset\nreviews = movie_reviews.fileids()"
    },
    {
      "cell_type": "code",
      "execution_count": null,
      "id": "d9af77f7",
      "metadata": {
        "trusted": true
      },
      "outputs": [],
      "source": "reviews[0]"
    },
    {
      "cell_type": "code",
      "execution_count": null,
      "id": "73bf2e73",
      "metadata": {
        "trusted": true
      },
      "outputs": [],
      "source": "movie_reviews.raw(reviews[0])"
    },
    {
      "cell_type": "code",
      "execution_count": null,
      "id": "d247571c",
      "metadata": {
        "trusted": true
      },
      "outputs": [],
      "source": "print(movie_reviews.raw(reviews[0]))"
    },
    {
      "cell_type": "code",
      "execution_count": null,
      "id": "7b5337eb",
      "metadata": {
        "trusted": true
      },
      "outputs": [],
      "source": "movie_reviews.categories(reviews[0])"
    },
    {
      "cell_type": "markdown",
      "id": "0b66703e",
      "metadata": {},
      "source": "* There's at least one processing step we should apply right away: get rid of the \"\\n\"\n* Let's also put all reviews into a dataframe"
    },
    {
      "cell_type": "code",
      "execution_count": null,
      "id": "d8229fea",
      "metadata": {
        "trusted": true
      },
      "outputs": [],
      "source": "import pandas as pd\n\n# Create a pandas dataframe\ndf = pd.DataFrame({'review_sentiment': [movie_reviews.categories(review)[0]\n                                        for review in reviews], \n                   'review_text': [movie_reviews.raw(review).replace('\\n','')\n                                   for review in reviews]})\n\n# Display the dataframe\ndf.head()"
    },
    {
      "cell_type": "code",
      "execution_count": null,
      "id": "40ac9bb0",
      "metadata": {
        "trusted": true
      },
      "outputs": [],
      "source": "df.groupby('review_sentiment').count()"
    },
    {
      "cell_type": "markdown",
      "id": "1d8ce838",
      "metadata": {},
      "source": "The following defines a function to return the Sentiment Intensity Analyzer's compound score for any review."
    },
    {
      "cell_type": "code",
      "execution_count": null,
      "id": "e7e9908f",
      "metadata": {
        "trusted": true
      },
      "outputs": [],
      "source": "def getSentiment(review):\n    return sia.polarity_scores(review)['compound']"
    },
    {
      "cell_type": "code",
      "execution_count": null,
      "id": "ab8ebc64",
      "metadata": {
        "trusted": true
      },
      "outputs": [],
      "source": "# Test\nmyreview = 'This movie tries to be Star Wars but fails miserably.'"
    },
    {
      "cell_type": "code",
      "execution_count": null,
      "id": "5ad518a2",
      "metadata": {
        "trusted": true
      },
      "outputs": [],
      "source": "getSentiment(myreview)"
    },
    {
      "cell_type": "markdown",
      "id": "3f0c66c2",
      "metadata": {},
      "source": "We're going to make a new list of the review scores from Vader."
    },
    {
      "cell_type": "markdown",
      "id": "d86aec06",
      "metadata": {},
      "source": "The following makes a list of Vader's review scores for every review and adds the scores into a new column `VaderSentiment`"
    },
    {
      "cell_type": "code",
      "execution_count": null,
      "id": "d3a6aea1",
      "metadata": {
        "trusted": true
      },
      "outputs": [],
      "source": "df['VaderSentiment'] = df['review_text'].apply(getSentiment)"
    },
    {
      "cell_type": "code",
      "execution_count": null,
      "id": "838d3dea",
      "metadata": {
        "trusted": true
      },
      "outputs": [],
      "source": "df.head()"
    },
    {
      "cell_type": "markdown",
      "id": "797c9cd9",
      "metadata": {},
      "source": "Count the number of rows where sentiment is 'pos' and Vader Sentiment is > 0 (that is, where Vader would classify the sentiment as being positive)."
    },
    {
      "cell_type": "code",
      "execution_count": null,
      "id": "cca1ff14",
      "metadata": {
        "trusted": true
      },
      "outputs": [],
      "source": "df.loc[(df['review_sentiment']=='pos') & \n       (df['VaderSentiment']>0),'review_text'].count()"
    },
    {
      "cell_type": "markdown",
      "id": "995ae437",
      "metadata": {},
      "source": "We can quantify the percentage correctly classified by Vader as positive."
    },
    {
      "cell_type": "code",
      "execution_count": null,
      "id": "a4434211",
      "metadata": {
        "trusted": true
      },
      "outputs": [],
      "source": "correct = df.loc[(df['review_sentiment']=='pos') & \n                 (df['VaderSentiment']>0),'review_text'].count()\ntotal = df.loc[(df['review_sentiment']=='pos'),'review_text'].count()\ncorrect/total"
    },
    {
      "cell_type": "markdown",
      "id": "4f4f67bd",
      "metadata": {},
      "source": "And the percentage correctly classified as negative."
    },
    {
      "cell_type": "code",
      "execution_count": null,
      "id": "a50f9d59",
      "metadata": {
        "trusted": true
      },
      "outputs": [],
      "source": "correct = df.loc[(df['review_sentiment']=='neg') & \n                 (df['VaderSentiment']<0),'review_text'].count()\ntotal = df.loc[(df['review_sentiment']=='neg'),'review_text'].count()\ncorrect/total"
    },
    {
      "cell_type": "markdown",
      "id": "2d6bd9b2",
      "metadata": {},
      "source": "Less than 50% correct for the negative sentiments!!  Worse than random chance.\n\nLet's check out a couple examples."
    },
    {
      "cell_type": "code",
      "execution_count": null,
      "id": "fa3840d1",
      "metadata": {
        "trusted": true
      },
      "outputs": [],
      "source": "for i in df.loc[(df['review_sentiment']=='neg')][:5].index:\n    print(df.loc[i,'VaderSentiment'], ':', df.loc[i,'review_text'])"
    },
    {
      "cell_type": "markdown",
      "id": "7c278a8e",
      "metadata": {},
      "source": "Let's look at the distribution of scores to see if that provides any insights."
    },
    {
      "cell_type": "code",
      "execution_count": null,
      "id": "b0aae171",
      "metadata": {
        "trusted": true
      },
      "outputs": [],
      "source": "df.loc[df['review_sentiment']=='pos', 'VaderSentiment'].hist()"
    },
    {
      "cell_type": "code",
      "execution_count": null,
      "id": "6ec60197",
      "metadata": {
        "trusted": true
      },
      "outputs": [],
      "source": "df.loc[df['review_sentiment']=='neg', 'VaderSentiment'].hist()"
    },
    {
      "cell_type": "markdown",
      "id": "495e4bdc",
      "metadata": {},
      "source": "The total accuracy is given by:"
    },
    {
      "cell_type": "code",
      "execution_count": null,
      "id": "b6ebf211",
      "metadata": {
        "trusted": true
      },
      "outputs": [],
      "source": "poscorrect = df.loc[(df['review_sentiment']=='pos') & (df['VaderSentiment']>0),'review_text'].count()\nnegcorrect = df.loc[(df['review_sentiment']=='neg') & (df['VaderSentiment']<0),'review_text'].count()\ntotal = df['review_text'].count()\n(poscorrect + negcorrect)/total"
    },
    {
      "cell_type": "markdown",
      "id": "299f20f9",
      "metadata": {},
      "source": "We can encapsulate the essential code from above into a function to generalize the process."
    },
    {
      "cell_type": "code",
      "execution_count": null,
      "id": "82c68241",
      "metadata": {
        "trusted": true
      },
      "outputs": [],
      "source": "def runScoring(df):\n    poscorrect = df.loc[(df['review_sentiment']=='pos') & \n                        (df['VaderSentiment']>0),'review_text'].count()\n    postotal = df.loc[(df['review_sentiment']=='pos'),'review_text'].count()\n\n    negcorrect = df.loc[(df['review_sentiment']=='neg') & \n                        (df['VaderSentiment']<0),'review_text'].count()\n    negtotal = df.loc[(df['review_sentiment']=='neg'),'review_text'].count()\n\n    total = df['review_text'].count()\n\n    print('The accuracy for positive reviews is: ' + str(poscorrect/postotal*100) + '%')\n    print('The accuracy for negative reviews is: ' + str(negcorrect/negtotal*100) + '%')\n    print('The overall accuracy is: ' + str((poscorrect+negcorrect)/total*100) + '%')"
    },
    {
      "cell_type": "code",
      "execution_count": null,
      "id": "74a588e8",
      "metadata": {
        "trusted": true
      },
      "outputs": [],
      "source": "runScoring(df)"
    },
    {
      "cell_type": "markdown",
      "id": "8f12242d",
      "metadata": {},
      "source": "# Sentiwordnet"
    },
    {
      "cell_type": "markdown",
      "id": "56846965",
      "metadata": {},
      "source": "NLTK includes functionality for using Sentiwordnet, a lexical tool that includes information about words' synsets (words that are like synonyms) and thereby can be used to help assess sentiment."
    },
    {
      "cell_type": "code",
      "execution_count": null,
      "id": "512b5417",
      "metadata": {
        "trusted": true
      },
      "outputs": [],
      "source": "from nltk.corpus import sentiwordnet as swn\nnltk.download('sentiwordnet')\nnltk.download('wordnet')"
    },
    {
      "cell_type": "code",
      "execution_count": null,
      "id": "e93438dd",
      "metadata": {
        "trusted": true
      },
      "outputs": [],
      "source": "list(swn.senti_synsets('funny'))"
    },
    {
      "cell_type": "code",
      "execution_count": null,
      "id": "140a187e",
      "metadata": {
        "trusted": true
      },
      "outputs": [],
      "source": "list(swn.senti_synsets('funny'))[0]"
    },
    {
      "cell_type": "code",
      "execution_count": null,
      "id": "8c2bf825",
      "metadata": {
        "trusted": true
      },
      "outputs": [],
      "source": "list(swn.senti_synsets('funny'))[0].pos_score()"
    },
    {
      "cell_type": "code",
      "execution_count": null,
      "id": "f256e384",
      "metadata": {
        "trusted": true
      },
      "outputs": [],
      "source": "list(swn.senti_synsets('funny'))[0].neg_score()"
    },
    {
      "cell_type": "code",
      "execution_count": null,
      "id": "55d6482a",
      "metadata": {
        "trusted": true
      },
      "outputs": [],
      "source": "list(swn.senti_synsets('funny'))[0].obj_score()"
    },
    {
      "cell_type": "code",
      "execution_count": null,
      "id": "e943c6ad",
      "metadata": {
        "trusted": true
      },
      "outputs": [],
      "source": "for i in list(swn.senti_synsets('funny')):\n    print(i)"
    },
    {
      "cell_type": "markdown",
      "id": "8b235064",
      "metadata": {},
      "source": "`wordnet` allows us to get definitions of the synsets"
    },
    {
      "cell_type": "code",
      "execution_count": null,
      "id": "ba636a88",
      "metadata": {
        "trusted": true
      },
      "outputs": [],
      "source": "from nltk.corpus import wordnet"
    },
    {
      "cell_type": "code",
      "execution_count": null,
      "id": "a1f28337",
      "metadata": {
        "trusted": true
      },
      "outputs": [],
      "source": "for i in wordnet.synsets('funny'):\n    print(i,i.definition())"
    },
    {
      "cell_type": "markdown",
      "id": "8aef704c",
      "metadata": {},
      "source": "Consider one review:"
    },
    {
      "cell_type": "code",
      "execution_count": null,
      "id": "1d3aca07",
      "metadata": {
        "trusted": true
      },
      "outputs": [],
      "source": "df.loc[0,'review_text']"
    },
    {
      "cell_type": "markdown",
      "id": "faea656d",
      "metadata": {},
      "source": "We could use the synset polarity scores of individual words in a sentence to manually score a review's sentiment.\n1. break up a sentence into words\n2. remove stopwords\n3. sum the synset scores of the words\n  * for each word, a simple first attempt is to take all the synsets and (a) add the positive score if the positive score is largest or (b) subtract the negative score if the negative score is largest, and then divide the total sum of all synset scores by the number of synsets."
    },
    {
      "cell_type": "code",
      "execution_count": null,
      "id": "1851feaa",
      "metadata": {
        "trusted": true
      },
      "outputs": [],
      "source": "from nltk.tokenize import sent_tokenize, word_tokenize\nfrom nltk.corpus import stopwords\nfrom string import punctuation\nmyStopWords = list(punctuation) + stopwords.words('english')"
    },
    {
      "cell_type": "markdown",
      "id": "3d134672",
      "metadata": {},
      "source": "Example of breaking a review into a list of individual words:"
    },
    {
      "cell_type": "code",
      "execution_count": null,
      "id": "fc7b4610",
      "metadata": {
        "scrolled": true,
        "tags": [],
        "trusted": true
      },
      "outputs": [],
      "source": "[w for w in word_tokenize(df.loc[0,'review_text'].lower())]"
    },
    {
      "cell_type": "markdown",
      "id": "984c826c",
      "metadata": {},
      "source": "The same list, but with stopwords removed:"
    },
    {
      "cell_type": "code",
      "execution_count": null,
      "id": "b8bbd064",
      "metadata": {
        "scrolled": true,
        "tags": [],
        "trusted": true
      },
      "outputs": [],
      "source": "[w for w in word_tokenize(df.loc[0,'review_text'].lower()) if w not in myStopWords]"
    },
    {
      "cell_type": "markdown",
      "id": "09f051be",
      "metadata": {},
      "source": "Here's our function for getting the average synset scores of words in a review and summing them all up to get a polarity score for the review."
    },
    {
      "cell_type": "code",
      "execution_count": null,
      "id": "eabd63b9",
      "metadata": {
        "trusted": true
      },
      "outputs": [],
      "source": "def naiveSentiment(review):\n    reviewPolarity = 0.0\n    words = [w for w in word_tokenize(review.lower()) if w not in myStopWords]\n    for word in words:\n        sentScore = 0.0\n        if len(list(swn.senti_synsets(word))) > 0:\n            for i in list(swn.senti_synsets(word)):\n                if i.pos_score() > i.neg_score():\n                    sentScore += i.pos_score()\n                else:\n                    sentScore -= i.neg_score()\n            reviewPolarity += sentScore / len(list(swn.senti_synsets(word)))\n    \n    return reviewPolarity"
    },
    {
      "cell_type": "code",
      "execution_count": null,
      "id": "8474e871",
      "metadata": {
        "trusted": true
      },
      "outputs": [],
      "source": "naiveSentiment(df.loc[0,'review_text'])"
    },
    {
      "cell_type": "markdown",
      "id": "47776853",
      "metadata": {},
      "source": "Make a new column in our main dataframe that uses our sentiwordnet-based scoring system."
    },
    {
      "cell_type": "code",
      "execution_count": null,
      "id": "f7be1c7b",
      "metadata": {
        "trusted": true
      },
      "outputs": [],
      "source": "df['naiveSentiment'] = df['review_text'].apply(naiveSentiment)"
    },
    {
      "cell_type": "markdown",
      "id": "916f8d5a",
      "metadata": {},
      "source": "Copy the above `runScoring` for a final method assessment, but now add an extra variable for specifying the particular sentiment column to use."
    },
    {
      "cell_type": "code",
      "execution_count": null,
      "id": "413a25f6",
      "metadata": {
        "trusted": true
      },
      "outputs": [],
      "source": "def runScoring(dfall,sentimentMethod):\n    poscorrect = df.loc[(df['review_sentiment']=='pos') & \n                        (df[sentimentMethod]>0),'review_text'].count()\n    postotal = df.loc[(df['review_sentiment']=='pos'),'review_text'].count()\n\n    negcorrect = df.loc[(df['review_sentiment']=='neg') & \n                        (df[sentimentMethod]<0),'review_text'].count()\n    negtotal = df.loc[(df['review_sentiment']=='neg'),'review_text'].count()\n\n    total = df['review_text'].count()\n\n    print('The accuracy for positive reviews is: ' + str(poscorrect/postotal*100) + '%')\n    print('The accuracy for negative reviews is: ' + str(negcorrect/negtotal*100) + '%')\n    print('The overall accuracy is: ' + str((poscorrect+negcorrect)/total*100) + '%')"
    },
    {
      "cell_type": "code",
      "execution_count": null,
      "id": "4dec0a30",
      "metadata": {
        "trusted": true
      },
      "outputs": [],
      "source": "runScoring(df, 'VaderSentiment')"
    },
    {
      "cell_type": "code",
      "execution_count": null,
      "id": "49b33b98",
      "metadata": {
        "trusted": true
      },
      "outputs": [],
      "source": "runScoring(df, 'naiveSentiment')"
    },
    {
      "cell_type": "markdown",
      "id": "1702f4bc",
      "metadata": {},
      "source": "This method with synset scoring does a slightly worse job at classification, though admittedly its method of approach is relatively simplistic.\n\nLet's again look at the distribution of scores for the reviews that have a real positive or negative polarity."
    },
    {
      "cell_type": "code",
      "execution_count": null,
      "id": "01d8ad55",
      "metadata": {
        "trusted": true
      },
      "outputs": [],
      "source": "df.loc[df['review_sentiment']=='pos', 'naiveSentiment'].hist()"
    },
    {
      "cell_type": "code",
      "execution_count": null,
      "id": "3e875ded",
      "metadata": {
        "trusted": true
      },
      "outputs": [],
      "source": "df.loc[df['review_sentiment']=='neg', 'naiveSentiment'].hist()"
    },
    {
      "cell_type": "markdown",
      "id": "fd0f9433",
      "metadata": {},
      "source": "There are many shortcomings.  But actually, one shortcoming is very easy to spot:  Vader properly accounts for negation while our naive sentiment scorer with synset averaging does not. "
    },
    {
      "cell_type": "code",
      "execution_count": null,
      "id": "0ffd8193",
      "metadata": {
        "trusted": true
      },
      "outputs": [],
      "source": "getSentiment('this restaurant is lousy')"
    },
    {
      "cell_type": "code",
      "execution_count": null,
      "id": "c89a730f",
      "metadata": {
        "trusted": true
      },
      "outputs": [],
      "source": "getSentiment('this restaurant is not lousy')"
    },
    {
      "cell_type": "code",
      "execution_count": null,
      "id": "e4da6e0f",
      "metadata": {
        "trusted": true
      },
      "outputs": [],
      "source": "naiveSentiment('this restaurant is lousy')"
    },
    {
      "cell_type": "code",
      "execution_count": null,
      "id": "a77e19bf",
      "metadata": {
        "trusted": true
      },
      "outputs": [],
      "source": "naiveSentiment('this restaurant is not lousy')"
    },
    {
      "cell_type": "markdown",
      "id": "556beccf",
      "metadata": {},
      "source": "Why is this?"
    },
    {
      "cell_type": "code",
      "execution_count": null,
      "id": "686a6992",
      "metadata": {
        "trusted": true
      },
      "outputs": [],
      "source": "print(myStopWords)"
    },
    {
      "cell_type": "markdown",
      "id": "4e5eb371",
      "metadata": {},
      "source": "Note that \"not\" is in the stopwords -> it's been completely dropped before our naiveSentiment scorer ran."
    },
    {
      "cell_type": "markdown",
      "id": "1844e90b",
      "metadata": {},
      "source": "What happens if we.... completely ignore the sentiment connotations of individual words?  Does it make sense to completely ignore meaning and look at statistical occurrences of words across a given set of texts?\n* this will be studied in our part-2 notebook"
    }
  ],
  "metadata": {
    "kernelspec": {
      "display_name": "Python 3 (ipykernel)",
      "language": "python",
      "name": "python3"
    },
    "language_info": {
      "codemirror_mode": {
        "name": "ipython",
        "version": 3
      },
      "file_extension": ".py",
      "mimetype": "text/x-python",
      "name": "python",
      "nbconvert_exporter": "python",
      "pygments_lexer": "ipython3",
      "version": "3.11.6"
    }
  },
  "nbformat": 4,
  "nbformat_minor": 5
}