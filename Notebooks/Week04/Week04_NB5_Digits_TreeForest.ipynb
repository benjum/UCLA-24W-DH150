{
  "cells": [
    {
      "cell_type": "markdown",
      "id": "702a52d0-2806-4a93-8243-2e488aec74be",
      "metadata": {},
      "source": "## Example of ML on Images:  Classifying Handwritten Digits\n\nThis extends the logistic regression example, and we'll abbreviate some of the code/cells at the beginning."
    },
    {
      "cell_type": "code",
      "execution_count": null,
      "id": "14c49eba-4984-4d7c-852c-9f3315b8d649",
      "metadata": {
        "trusted": true
      },
      "outputs": [],
      "source": "import matplotlib.pyplot as plt\nimport sklearn.datasets\nimport sklearn.model_selection\nimport sklearn.metrics\nimport sklearn.preprocessing"
    },
    {
      "cell_type": "code",
      "execution_count": null,
      "id": "4483ce3b-9f1a-4c95-8d8c-584a4e0bbbb1",
      "metadata": {
        "trusted": true
      },
      "outputs": [],
      "source": "d = sklearn.datasets.load_digits()\n\nx = d.data\ny = d.target\n\nx_train, x_test, y_train, y_test = sklearn.model_selection.train_test_split(\n        x, y, test_size=0.2, random_state=42, stratify=y)\n\nscaler = sklearn.preprocessing.StandardScaler()\nx_scaled = scaler.fit_transform(x_train)\nx_test_scaled = scaler.transform(x_test)"
    },
    {
      "cell_type": "markdown",
      "id": "a4a78858-15da-4bfe-bc09-a8a1b444109b",
      "metadata": {},
      "source": "## Logistic Regression"
    },
    {
      "cell_type": "code",
      "execution_count": null,
      "id": "cb964029-aee4-4d0e-b9bb-cd7017cf59d5",
      "metadata": {
        "trusted": true
      },
      "outputs": [],
      "source": "import sklearn.linear_model\nlr_classifier = sklearn.linear_model.LogisticRegression()"
    },
    {
      "cell_type": "code",
      "execution_count": null,
      "id": "7dc8bca1-5d79-4b59-b65a-5a716b282fbe",
      "metadata": {
        "trusted": true
      },
      "outputs": [],
      "source": "lr_classifier.fit(x_scaled, y_train)"
    },
    {
      "cell_type": "code",
      "execution_count": null,
      "id": "e7bb8fca-4de4-4b3d-898b-b06e53cbe97b",
      "metadata": {
        "trusted": true
      },
      "outputs": [],
      "source": "y_pred = lr_classifier.predict(x_test_scaled)"
    },
    {
      "cell_type": "code",
      "execution_count": null,
      "id": "49e25ef5",
      "metadata": {
        "trusted": true
      },
      "outputs": [],
      "source": "print(f\"Accuracy: {sklearn.metrics.accuracy_score(y_test, y_pred):.2%}\")"
    },
    {
      "cell_type": "code",
      "execution_count": null,
      "id": "52f6f814-d655-4855-8e8c-7f7039ed4158",
      "metadata": {
        "trusted": true
      },
      "outputs": [],
      "source": "cm = sklearn.metrics.confusion_matrix(y_test, y_pred)\ncm"
    },
    {
      "cell_type": "markdown",
      "id": "5c606835",
      "metadata": {},
      "source": "# Decision tree"
    },
    {
      "cell_type": "code",
      "execution_count": null,
      "id": "514f07dd",
      "metadata": {
        "trusted": true
      },
      "outputs": [],
      "source": "from sklearn.tree import DecisionTreeClassifier\ntree_clf = DecisionTreeClassifier()"
    },
    {
      "cell_type": "code",
      "execution_count": null,
      "id": "7cbe7b70",
      "metadata": {
        "trusted": true
      },
      "outputs": [],
      "source": "tree_clf.fit(x_train, y_train)"
    },
    {
      "cell_type": "code",
      "execution_count": null,
      "id": "49300de4",
      "metadata": {
        "trusted": true
      },
      "outputs": [],
      "source": "tree_clf.classes_"
    },
    {
      "cell_type": "code",
      "execution_count": null,
      "id": "831835a2",
      "metadata": {
        "trusted": true
      },
      "outputs": [],
      "source": "y_pred = tree_clf.predict(x_test)"
    },
    {
      "cell_type": "code",
      "execution_count": null,
      "id": "bbb18979",
      "metadata": {
        "trusted": true
      },
      "outputs": [],
      "source": "cm = sklearn.metrics.confusion_matrix(y_test, y_pred)\ncm"
    },
    {
      "cell_type": "code",
      "execution_count": null,
      "id": "31d489f5",
      "metadata": {
        "trusted": true
      },
      "outputs": [],
      "source": "print(f\"Accuracy: {sklearn.metrics.accuracy_score(y_test, y_pred):.2%}\")"
    },
    {
      "cell_type": "markdown",
      "id": "c49f9abe",
      "metadata": {},
      "source": "# Random Forest"
    },
    {
      "cell_type": "code",
      "execution_count": null,
      "id": "3036a3f8",
      "metadata": {
        "trusted": true
      },
      "outputs": [],
      "source": "from sklearn.ensemble import RandomForestClassifier\nrf_clf = RandomForestClassifier()"
    },
    {
      "cell_type": "code",
      "execution_count": null,
      "id": "13778b4f",
      "metadata": {
        "trusted": true
      },
      "outputs": [],
      "source": "rf_clf.fit(x_train, y_train)"
    },
    {
      "cell_type": "code",
      "execution_count": null,
      "id": "3e4ae641",
      "metadata": {
        "trusted": true
      },
      "outputs": [],
      "source": "rf_clf.classes_"
    },
    {
      "cell_type": "code",
      "execution_count": null,
      "id": "edc6d3cf",
      "metadata": {
        "trusted": true
      },
      "outputs": [],
      "source": "y_pred = rf_clf.predict(x_test)"
    },
    {
      "cell_type": "code",
      "execution_count": null,
      "id": "beb47ca1",
      "metadata": {
        "trusted": true
      },
      "outputs": [],
      "source": "cm = sklearn.metrics.confusion_matrix(y_test, y_pred)\ncm"
    },
    {
      "cell_type": "code",
      "execution_count": null,
      "id": "0f4cd959",
      "metadata": {
        "trusted": true
      },
      "outputs": [],
      "source": "print(f\"Accuracy: {sklearn.metrics.accuracy_score(y_test, lr_classifier.predict(x_test_scaled)):.2%}\")\nprint(f\"Accuracy: {sklearn.metrics.accuracy_score(y_test, tree_clf.predict(x_test)):.2%}\")\nprint(f\"Accuracy: {sklearn.metrics.accuracy_score(y_test, rf_clf.predict(x_test)):.2%}\")"
    },
    {
      "cell_type": "markdown",
      "id": "3c87b6d4",
      "metadata": {},
      "source": "Can we improve the Random Forest accuracy?\n\nActually, what parameters does it currently have?"
    },
    {
      "cell_type": "code",
      "execution_count": null,
      "id": "1529b3fc",
      "metadata": {
        "trusted": true
      },
      "outputs": [],
      "source": "rf_clf.get_params()"
    },
    {
      "cell_type": "code",
      "execution_count": null,
      "id": "6c998ebb",
      "metadata": {
        "trusted": true
      },
      "outputs": [],
      "source": "from sklearn.model_selection import GridSearchCV"
    },
    {
      "cell_type": "code",
      "execution_count": null,
      "id": "f6abb815",
      "metadata": {
        "trusted": true
      },
      "outputs": [],
      "source": "cv_grid = GridSearchCV(RandomForestClassifier(n_jobs=-1,random_state=42),\n                       param_grid = {\n                           'max_depth' : [None,10,20],\n                           'n_estimators' : [50,100,200],\n                           'max_leaf_nodes' : [None,5,10]\n                       })\ncv_grid.fit(x_train, y_train)\ncv_grid.best_params_"
    },
    {
      "cell_type": "code",
      "execution_count": null,
      "id": "efc9bff9",
      "metadata": {
        "trusted": true
      },
      "outputs": [],
      "source": "y_pred = cv_grid.predict(x_test)"
    },
    {
      "cell_type": "code",
      "execution_count": null,
      "id": "c6ae8e4e",
      "metadata": {
        "trusted": true
      },
      "outputs": [],
      "source": "cm = sklearn.metrics.confusion_matrix(y_test, y_pred)\ncm"
    },
    {
      "cell_type": "code",
      "execution_count": null,
      "id": "466dee9b",
      "metadata": {
        "trusted": true
      },
      "outputs": [],
      "source": "print(f\"Accuracy: {sklearn.metrics.accuracy_score(y_test, y_pred):.2%}\")"
    },
    {
      "cell_type": "code",
      "execution_count": null,
      "id": "6044eb92",
      "metadata": {
        "trusted": true
      },
      "outputs": [],
      "source": "rf_clf.feature_importances_"
    },
    {
      "cell_type": "code",
      "execution_count": null,
      "id": "7ce4c3e4",
      "metadata": {
        "trusted": true
      },
      "outputs": [],
      "source": "plt.imshow(rf_clf.feature_importances_.reshape(8,8),\n           cmap='binary')"
    }
  ],
  "metadata": {
    "kernelspec": {
      "display_name": "Python 3 (ipykernel)",
      "language": "python",
      "name": "python3"
    },
    "language_info": {
      "codemirror_mode": {
        "name": "ipython",
        "version": 3
      },
      "file_extension": ".py",
      "mimetype": "text/x-python",
      "name": "python",
      "nbconvert_exporter": "python",
      "pygments_lexer": "ipython3",
      "version": "3.11.6"
    }
  },
  "nbformat": 4,
  "nbformat_minor": 5
}