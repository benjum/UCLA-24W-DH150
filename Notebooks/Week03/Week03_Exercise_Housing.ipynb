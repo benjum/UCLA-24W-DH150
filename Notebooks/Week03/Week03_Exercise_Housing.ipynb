{
  "cells": [
    {
      "cell_type": "markdown",
      "id": "5bba29b1",
      "metadata": {},
      "source": "# Your turn to try out Linear Regression with Test/Train Split & Regularization\n\nIf you get stuck at any step, please ask others or ask me!"
    },
    {
      "cell_type": "markdown",
      "id": "42b1275b",
      "metadata": {},
      "source": "Execute the following cell to import our libraries:"
    },
    {
      "cell_type": "code",
      "execution_count": null,
      "id": "0f3ad090",
      "metadata": {
        "trusted": true
      },
      "outputs": [],
      "source": "import numpy as np\nimport pandas as pd\nimport matplotlib.pyplot as plt\nfrom sklearn.model_selection import train_test_split\nfrom sklearn.linear_model import LinearRegression, Ridge, Lasso, ElasticNet\nfrom sklearn.metrics import mean_squared_error"
    },
    {
      "cell_type": "markdown",
      "id": "e8425a62",
      "metadata": {},
      "source": "We'll use a dataset from Scikit-Learn:  [California Housing Dataset](https://scikit-learn.org/stable/datasets/real_world.html#california-housing-dataset)"
    },
    {
      "cell_type": "code",
      "execution_count": null,
      "id": "680cf5f8",
      "metadata": {
        "trusted": true
      },
      "outputs": [],
      "source": "# Execute this cell to import the data\n# print a description\n# and initialize the Pandas dataframe \"ca_housing_df\"\n\nfrom sklearn.datasets import fetch_california_housing\n\ncalifornia_housing = fetch_california_housing(as_frame=True)\n\nprint(california_housing.DESCR)\n\nca_housing_df = california_housing.frame"
    },
    {
      "cell_type": "markdown",
      "id": "bd4e2934",
      "metadata": {},
      "source": "Use the cell below to look at some sample rows of the `ca_housing_df` dataframe:"
    },
    {
      "cell_type": "code",
      "execution_count": null,
      "id": "edda4cd7",
      "metadata": {
        "trusted": true
      },
      "outputs": [],
      "source": ""
    },
    {
      "cell_type": "markdown",
      "id": "577dbca0",
      "metadata": {},
      "source": "Use the `info` method to look at the number of rows & columns, and see whether there are any null values:"
    },
    {
      "cell_type": "code",
      "execution_count": null,
      "id": "10635233",
      "metadata": {
        "trusted": true
      },
      "outputs": [],
      "source": ""
    },
    {
      "cell_type": "markdown",
      "id": "8b31bd5e",
      "metadata": {},
      "source": "Make simple histogram plots of all variables (e.g. with `ca_housing_df.hist()`).\n* Are they normally distributed? Bi-modal?  mostly normal with a couple outliers?  uniformly distributed with obvious caps to the allowable range of values?\n* If you'd like, tinker with the number of bins for the histogram, zoom in on the ranges, etc\n* You may also find it useful to change the figure size (e.g. `figsize=(12, 10)` as an input parameter to `hist`) or use `plt.tight_layout()` after the plotting command to keep multiple plots from overlapping"
    },
    {
      "cell_type": "code",
      "execution_count": null,
      "id": "40f57ed1",
      "metadata": {
        "trusted": true
      },
      "outputs": [],
      "source": ""
    },
    {
      "cell_type": "markdown",
      "id": "233e6f10",
      "metadata": {},
      "source": "You can get a matrix of correlation coefficients by using the dataframe's `corr()` method.\n* Check that out in the cell below\n* Which variables are most correlated with the target variable of `MedHouseVal`?\n* Which pairs of variables are highly correlated with each other?"
    },
    {
      "cell_type": "code",
      "execution_count": null,
      "id": "e856ceec",
      "metadata": {
        "trusted": true
      },
      "outputs": [],
      "source": ""
    },
    {
      "cell_type": "markdown",
      "id": "4dca6344",
      "metadata": {},
      "source": "Use `train_test_split` to make a training set and test set, where `MedHouseVal` is your target variable and all other variables are your feature variables.\n* You can use `california_housing.data` and `california_housing.target` to get your features and target, or you can use `ca_housing_df.loc[:, ca_housing_df.columns != 'MedHouseVal']` and `ca_housing_df.loc[:, 'MedHouseVal']`  (or other options too)"
    },
    {
      "cell_type": "code",
      "execution_count": null,
      "id": "d90cd04c",
      "metadata": {
        "trusted": true
      },
      "outputs": [],
      "source": ""
    },
    {
      "cell_type": "markdown",
      "id": "bd57da54",
      "metadata": {},
      "source": "In the next cell:\n* train `Linear_Regression` on your training set\n* assess the learned model's performance on the test data using `mean_squared_error`\n* make a plot of the coefficient amplitudes\n  * the coefficient values are stored in the `coef_` attribute of the variable for your `LinearRegression` object"
    },
    {
      "cell_type": "code",
      "execution_count": null,
      "id": "bfca20a5",
      "metadata": {
        "trusted": true
      },
      "outputs": [],
      "source": ""
    },
    {
      "cell_type": "markdown",
      "id": "94bf6a33",
      "metadata": {},
      "source": "Do the same thing, only now use Ridge regularization by using `Ridge(alpha=1000)`."
    },
    {
      "cell_type": "code",
      "execution_count": null,
      "id": "435d2345",
      "metadata": {
        "trusted": true
      },
      "outputs": [],
      "source": ""
    },
    {
      "cell_type": "markdown",
      "id": "5c55138c",
      "metadata": {},
      "source": "Repeat again using Lasso with `Lasso(alpha=0.05)`"
    },
    {
      "cell_type": "code",
      "execution_count": null,
      "id": "23c2a339",
      "metadata": {
        "trusted": true
      },
      "outputs": [],
      "source": ""
    },
    {
      "cell_type": "markdown",
      "id": "5e96c083",
      "metadata": {},
      "source": "Check the following:\n* Is it easy to see differences in coefficient amplitudes on the same plot?  between the separate plots?\n* Does Ridge reduce the coefficient amplitudes?\n* Does Lasso reduce the coefficient amplitudes?\n* What is the difference in coefficients resulting from Lasso vs Ridge?\n* Look at the pairs of variables that you previously identified as being highly correlated with each other -- has regularization had more of an effect on the coefficient amplitude of one variable from your pair than the other?"
    },
    {
      "cell_type": "markdown",
      "id": "d30f74a1",
      "metadata": {},
      "source": "If you get this far, try some of the following:\n* Try out Elastic Net with `ElasticNet(alpha=0.05)` and compare\n* Scaling of feature values can be useful for machine learning.\n  * Look up Scikit-Learn's `StandardScaler`\n  * Use this to scale your feature variables\n  * Repeat one of the above ML trainings and look at what effect it has on the coefficients\n* Make a bar plot that compares coefficient amplitudes for all your models\n* Use cross-validation to find an optimum `alpha` value among some set of possible `alpha` values for one of your regularization models"
    },
    {
      "cell_type": "code",
      "execution_count": null,
      "id": "424dc76b",
      "metadata": {
        "trusted": true
      },
      "outputs": [],
      "source": ""
    },
    {
      "cell_type": "code",
      "execution_count": null,
      "id": "b92ab2ae",
      "metadata": {
        "trusted": true
      },
      "outputs": [],
      "source": ""
    },
    {
      "cell_type": "code",
      "execution_count": null,
      "id": "e7d4f9b1",
      "metadata": {
        "trusted": true
      },
      "outputs": [],
      "source": ""
    }
  ],
  "metadata": {
    "kernelspec": {
      "display_name": "Python 3 (ipykernel)",
      "language": "python",
      "name": "python3"
    },
    "language_info": {
      "codemirror_mode": {
        "name": "ipython",
        "version": 3
      },
      "file_extension": ".py",
      "mimetype": "text/x-python",
      "name": "python",
      "nbconvert_exporter": "python",
      "pygments_lexer": "ipython3",
      "version": "3.11.6"
    }
  },
  "nbformat": 4,
  "nbformat_minor": 5
}