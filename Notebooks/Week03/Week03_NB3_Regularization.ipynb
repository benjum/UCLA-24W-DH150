{
  "cells": [
    {
      "cell_type": "markdown",
      "id": "04bfa1b8-7c3a-4fdc-bb21-a42ef07591e0",
      "metadata": {},
      "source": "# ML training:  Regularization"
    },
    {
      "cell_type": "markdown",
      "id": "5dc3c951-3a28-4187-b7f5-7c92ff1d3886",
      "metadata": {},
      "source": "Acknowledgements go to A. Geron and https://github.com/ageron/handson-ml2/blob/master/04_training_linear_models.ipynb"
    },
    {
      "cell_type": "code",
      "execution_count": null,
      "id": "c8d00c71-08b2-4eb6-8d92-aa0481ba60a8",
      "metadata": {
        "trusted": true
      },
      "outputs": [],
      "source": "import numpy as np\nimport matplotlib.pyplot as plt"
    },
    {
      "cell_type": "markdown",
      "id": "de08088e-0e3e-42d8-8ca9-b888dac52e9e",
      "metadata": {},
      "source": "### Get the data\nHere we're manufacturing it."
    },
    {
      "cell_type": "markdown",
      "id": "904a6333-8acf-48bf-9453-f05a1e36d98e",
      "metadata": {},
      "source": "We're going to keep this simple:\n\n$$ y(x) = 4 + 2x + \\text{noise}$$"
    },
    {
      "cell_type": "code",
      "execution_count": null,
      "id": "87be26f7-dce8-440e-941d-a9c898d4da36",
      "metadata": {
        "trusted": true
      },
      "outputs": [],
      "source": "np.random.seed(42)\nnoise = np.random.normal(0,1.5,50)\n\nx = np.linspace(0, 10, 50)\n\n# this y is the theoretical value + noise\ny = 4 + 2*x + noise\n\n# this y is the underlying linear function\ny_underlying = 4 + 2*x"
    },
    {
      "cell_type": "code",
      "execution_count": null,
      "id": "6a13fe04-d510-484d-ae23-15d61cbd52f6",
      "metadata": {
        "trusted": true
      },
      "outputs": [],
      "source": "# plot our theory curve\nplt.plot(x,y_underlying,'k')\n\n# plot our data generated from the theory curve + noise\nplt.scatter(x,y,color='k',marker='o')\n\nplt.show()"
    },
    {
      "cell_type": "markdown",
      "id": "1ea90737-b5a5-4a33-9994-478ce6f1ca58",
      "metadata": {},
      "source": "## Exact solution"
    },
    {
      "cell_type": "markdown",
      "id": "05c26735-69bd-4eef-8457-8d88b93f35ed",
      "metadata": {},
      "source": "* To get the bias term, we make array elements whose first term is 1 (for the bias) and whose second term is x (for the x-value)\n* We also reshape and assign y_with_noise back into y"
    },
    {
      "cell_type": "code",
      "execution_count": null,
      "id": "d038fe35-aab9-4843-815e-77cca8c09af5",
      "metadata": {
        "trusted": true
      },
      "outputs": [],
      "source": "X_b = np.c_[np.ones((50, 1)), x] \ny = y.reshape(-1,1)"
    },
    {
      "cell_type": "markdown",
      "id": "14e77e3c-0726-404a-951d-d222bd7f98ca",
      "metadata": {},
      "source": "## Regularization"
    },
    {
      "cell_type": "markdown",
      "id": "07f2f3c0-7b5e-45c0-84a8-3d7f27a30104",
      "metadata": {},
      "source": "### Ridge"
    },
    {
      "cell_type": "code",
      "execution_count": null,
      "id": "574d5abc-331d-4fa2-94e2-29a1910ed796",
      "metadata": {
        "trusted": true
      },
      "outputs": [],
      "source": "x = x.reshape(-1,1)\ny = y.ravel()"
    },
    {
      "cell_type": "code",
      "execution_count": null,
      "id": "916ddfab-636b-430a-8337-f76ab88b5d6a",
      "metadata": {
        "trusted": true
      },
      "outputs": [],
      "source": "from sklearn.linear_model import Ridge"
    },
    {
      "cell_type": "code",
      "execution_count": null,
      "id": "0c9e3e21-985a-4ccc-9e3f-e87c3e8f5a54",
      "metadata": {
        "trusted": true
      },
      "outputs": [],
      "source": "ridge_reg = Ridge(alpha=1, solver=\"cholesky\", random_state=42)\nridge_reg.fit(x, y)\nridge_reg.intercept_, ridge_reg.coef_"
    },
    {
      "cell_type": "code",
      "execution_count": null,
      "id": "69099b57-8dbc-4462-8eee-3d6ca2e83a56",
      "metadata": {
        "trusted": true
      },
      "outputs": [],
      "source": "plt.plot(x,y,'ko')\n\nfor i in [0,10,20]:\n    ridge_reg = Ridge(alpha=i, solver=\"cholesky\", random_state=42)\n    ridge_reg.fit(x, y)\n    X_new = np.array([[0], [10]])\n    y_predict = ridge_reg.predict(X_new)\n    plt.plot(X_new, y_predict, \"r-\")\n    \nplt.plot()"
    },
    {
      "cell_type": "code",
      "execution_count": null,
      "id": "3de95536-4f45-40d9-8580-5ccf9647d56c",
      "metadata": {
        "trusted": true
      },
      "outputs": [],
      "source": "plt.plot(x,y,'ko')\n\nfor i in [0,100,1000]:\n    ridge_reg = Ridge(alpha=i, solver=\"cholesky\", random_state=42)\n    ridge_reg.fit(x, y)\n    X_new = np.array([[0], [10]])\n    y_predict = ridge_reg.predict(X_new)\n    plt.plot(X_new, y_predict, \"r-\")\n    \nplt.plot()"
    },
    {
      "cell_type": "markdown",
      "id": "24fbd161-c277-4f5f-9281-3c369b232aae",
      "metadata": {},
      "source": "## Lasso"
    },
    {
      "cell_type": "code",
      "execution_count": null,
      "id": "fc21040c-8880-41a1-8389-df05e5288fb1",
      "metadata": {
        "trusted": true
      },
      "outputs": [],
      "source": "from sklearn.linear_model import Lasso"
    },
    {
      "cell_type": "code",
      "execution_count": null,
      "id": "4daf13cc-dc0f-4bc0-99b9-4a8ce0b03be2",
      "metadata": {
        "trusted": true
      },
      "outputs": [],
      "source": "plt.plot(x,y,'ko')\n\nfor i in [1,10,20]:\n    lasso_reg = Lasso(alpha=i, random_state=42)\n    lasso_reg.fit(x, y)\n    X_new = np.array([[0], [10]])\n    y_predict = lasso_reg.predict(X_new)\n    plt.plot(X_new, y_predict, \"r-\")\n    \nplt.plot()"
    },
    {
      "cell_type": "markdown",
      "id": "938627b8-a196-4a55-b763-7586512443e2",
      "metadata": {},
      "source": "## ElasticNet"
    },
    {
      "cell_type": "code",
      "execution_count": null,
      "id": "b12bc855-7389-4217-b400-31885c75ee9a",
      "metadata": {
        "trusted": true
      },
      "outputs": [],
      "source": "from sklearn.linear_model import ElasticNet"
    },
    {
      "cell_type": "code",
      "execution_count": null,
      "id": "298930f0-c41d-4016-82d9-04abd2133f83",
      "metadata": {
        "trusted": true
      },
      "outputs": [],
      "source": "plt.plot(x,y,'ko')\n\nfor i in [1,10,20]:\n    elasticnet_reg = ElasticNet(alpha=i, l1_ratio=0.5, random_state=42)\n    elasticnet_reg.fit(x, y)\n    X_new = np.array([[0], [10]])\n    y_predict = elasticnet_reg.predict(X_new)\n    plt.plot(X_new, y_predict, \"r-\")\n    \nplt.plot()"
    }
  ],
  "metadata": {
    "kernelspec": {
      "display_name": "Python 3 (ipykernel)",
      "language": "python",
      "name": "python3"
    },
    "language_info": {
      "codemirror_mode": {
        "name": "ipython",
        "version": 3
      },
      "file_extension": ".py",
      "mimetype": "text/x-python",
      "name": "python",
      "nbconvert_exporter": "python",
      "pygments_lexer": "ipython3",
      "version": "3.11.6"
    }
  },
  "nbformat": 4,
  "nbformat_minor": 5
}