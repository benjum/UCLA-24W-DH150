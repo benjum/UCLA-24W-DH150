{
 "cells": [
  {
   "cell_type": "markdown",
   "id": "a8426921-300c-44be-b3f3-e3e36425dd6d",
   "metadata": {},
   "source": [
    "# This is for the tensorboard demo"
   ]
  },
  {
   "cell_type": "code",
   "execution_count": null,
   "id": "27466833-cca5-4011-919c-34ef7bbb6d48",
   "metadata": {},
   "outputs": [],
   "source": [
    "%load_ext tensorboard\n",
    "%tensorboard --logdir ./tf_logs"
   ]
  }
 ],
 "metadata": {
  "kernelspec": {
   "display_name": "Python 3 (ipykernel)",
   "language": "python",
   "name": "python3"
  },
  "language_info": {
   "codemirror_mode": {
    "name": "ipython",
    "version": 3
   },
   "file_extension": ".py",
   "mimetype": "text/x-python",
   "name": "python",
   "nbconvert_exporter": "python",
   "pygments_lexer": "ipython3",
   "version": "3.10.13"
  }
 },
 "nbformat": 4,
 "nbformat_minor": 5
}
