{
  "cells": [
    {
      "cell_type": "markdown",
      "id": "b039f1bc-0248-49ed-8621-8ced013eecd9",
      "metadata": {},
      "source": "# Movie Recommendations"
    },
    {
      "cell_type": "markdown",
      "id": "ff995c60-4a6d-45cc-ba1e-189427257d03",
      "metadata": {},
      "source": "This notebook uses the [MovieLens dataset](https://grouplens.org/datasets/movielens/latest/)\nas well as content information that is linked through the respective movie pages on [TMDB](https://www.themoviedb.org/)\n\n* I have included csv files under our class repo on GitHub\n* License info is included in the file https://raw.githubusercontent.com/benjum/UCLA-24W-DH150/main/Data/movielens-data/README.txt"
    },
    {
      "cell_type": "code",
      "execution_count": null,
      "id": "00ac591a-d933-4e84-850a-ab1fdcb30cc7",
      "metadata": {
        "trusted": true
      },
      "outputs": [],
      "source": "import pandas as pd"
    },
    {
      "cell_type": "code",
      "execution_count": null,
      "id": "817f7464-df3b-4a9c-bf3e-c4c0438fa816",
      "metadata": {
        "trusted": true
      },
      "outputs": [],
      "source": "ratings = pd.read_csv('https://raw.githubusercontent.com/benjum/UCLA-24W-DH150/main/Data/movielens-data/ratings.csv')\nmovies = pd.read_csv('https://raw.githubusercontent.com/benjum/UCLA-24W-DH150/main/Data/movielens-data/movies.csv')"
    },
    {
      "cell_type": "code",
      "execution_count": null,
      "id": "075c3113-c389-4dad-a0a2-d49517b90b50",
      "metadata": {
        "trusted": true
      },
      "outputs": [],
      "source": "ratings"
    },
    {
      "cell_type": "code",
      "execution_count": null,
      "id": "25f37fd8-5c81-453b-9b3a-a015754a84bc",
      "metadata": {
        "trusted": true
      },
      "outputs": [],
      "source": "movies"
    },
    {
      "cell_type": "markdown",
      "id": "430ce195-d241-4195-87ba-c39481c65a0f",
      "metadata": {},
      "source": "610 users and 9724 movies"
    },
    {
      "cell_type": "code",
      "execution_count": null,
      "id": "3a4f5d06-f952-4d7f-a875-ac890521f3f1",
      "metadata": {
        "trusted": true
      },
      "outputs": [],
      "source": "len(ratings['userId'].unique())"
    },
    {
      "cell_type": "code",
      "execution_count": null,
      "id": "9049c417-41db-4a96-a3ad-e485cbf4918b",
      "metadata": {
        "trusted": true
      },
      "outputs": [],
      "source": "len(ratings['movieId'].unique())"
    },
    {
      "cell_type": "code",
      "execution_count": null,
      "id": "1b0738b7-198f-48ba-8e99-9259307e361b",
      "metadata": {
        "trusted": true
      },
      "outputs": [],
      "source": "ratings['rating'].unique()"
    },
    {
      "cell_type": "markdown",
      "id": "c0f3ab93-fa5f-4c5c-a0fa-327569fd794f",
      "metadata": {},
      "source": "# Idea 2: Recommend based on Collaborative Filtering"
    },
    {
      "cell_type": "code",
      "execution_count": null,
      "id": "6b5f66de-2a0e-4e47-81b3-b809087c38b3",
      "metadata": {
        "trusted": true
      },
      "outputs": [],
      "source": "people = ['Alice','Ben','Charlie','Dan','Evelyn']"
    },
    {
      "cell_type": "code",
      "execution_count": null,
      "id": "347bfd24-59bb-4df3-a2c2-ec6a4b3d0e7a",
      "metadata": {
        "trusted": true
      },
      "outputs": [],
      "source": "import random"
    },
    {
      "cell_type": "code",
      "execution_count": null,
      "id": "183ab7d6-d2ef-4afd-84b2-2d96f242f998",
      "metadata": {
        "trusted": true
      },
      "outputs": [],
      "source": "random.seed(3)"
    },
    {
      "cell_type": "code",
      "execution_count": null,
      "id": "a771fda2-4a40-4f37-b036-07f262e8edbc",
      "metadata": {
        "trusted": true
      },
      "outputs": [],
      "source": "random.randint(1,5)"
    },
    {
      "cell_type": "code",
      "execution_count": null,
      "id": "a49060b9-11b0-4309-b71a-a22a0a5051aa",
      "metadata": {
        "trusted": true
      },
      "outputs": [],
      "source": "movies['title'][:5]"
    },
    {
      "cell_type": "code",
      "execution_count": null,
      "id": "8cf6619e-607b-465d-9411-16f09e64db78",
      "metadata": {
        "trusted": true
      },
      "outputs": [],
      "source": "m10 = list(movies['title'][:10])"
    },
    {
      "cell_type": "code",
      "execution_count": null,
      "id": "7f3c0ac2-e113-455a-86c1-8639641130f7",
      "metadata": {
        "trusted": true
      },
      "outputs": [],
      "source": "m10"
    },
    {
      "cell_type": "code",
      "execution_count": null,
      "id": "7eaca500-44ba-4dc7-936f-83b72651adbc",
      "metadata": {
        "trusted": true
      },
      "outputs": [],
      "source": "m = []\np = []\nr = []\nfor i in m10[:5]:\n    for j in people:\n        m.append(i)\n        p.append(j)\n        r.append(random.randint(1,5))\nfor i in m10[5:10]:\n    for j in people:\n        if j != 'Ben':\n            m.append(i)\n            p.append(j)\n            r.append(random.randint(1,5))            \n\ndf = pd.DataFrame({'people':p, 'movie':m, 'rating':r})"
    },
    {
      "cell_type": "code",
      "execution_count": null,
      "id": "1a5bbd70-b6e7-4263-85c6-aa02fc25b8e7",
      "metadata": {
        "trusted": true
      },
      "outputs": [],
      "source": "df"
    },
    {
      "cell_type": "code",
      "execution_count": null,
      "id": "d2e333c5-0f8e-4878-b604-9e64b3ffda60",
      "metadata": {
        "trusted": true
      },
      "outputs": [],
      "source": "df[df['people']=='Evelyn']"
    },
    {
      "cell_type": "code",
      "execution_count": null,
      "id": "49096893-8fd0-4859-9abe-27a951236771",
      "metadata": {
        "trusted": true
      },
      "outputs": [],
      "source": "df[df['people']=='Dan']"
    },
    {
      "cell_type": "code",
      "execution_count": null,
      "id": "675fe65f-11e5-4bf1-8fbc-6f2883e8c007",
      "metadata": {
        "trusted": true
      },
      "outputs": [],
      "source": "import matplotlib.pyplot as plt"
    },
    {
      "cell_type": "code",
      "execution_count": null,
      "id": "ff1a075d-a556-4893-8e7d-069cf3451ce7",
      "metadata": {
        "trusted": true
      },
      "outputs": [],
      "source": "plt.scatter(df.loc[df['people']=='Ben', 'rating'], df.loc[df['people']=='Alice', 'rating'][:5])\nplt.xlim([0,6])\nplt.ylim([0,6])\nplt.show()"
    },
    {
      "cell_type": "code",
      "execution_count": null,
      "id": "5576cd80-8d9c-48e3-852c-914f212c0e23",
      "metadata": {
        "trusted": true
      },
      "outputs": [],
      "source": "plt.scatter(df.loc[df['people']=='Ben', 'rating'], df.loc[df['people']=='Charlie', 'rating'][:5])\nplt.xlim([0,6])\nplt.ylim([0,6])\nplt.show()"
    },
    {
      "cell_type": "code",
      "execution_count": null,
      "id": "722de61c-b67c-4676-82ff-48e5758d458f",
      "metadata": {
        "trusted": true
      },
      "outputs": [],
      "source": "plt.scatter(df.loc[df['people']=='Ben', 'rating'], df.loc[df['people']=='Dan', 'rating'][:5])\nplt.xlim([0,6])\nplt.ylim([0,6])\nplt.show()"
    },
    {
      "cell_type": "code",
      "execution_count": null,
      "id": "9db75937-7edb-49ea-8b7c-a98157da6278",
      "metadata": {
        "trusted": true
      },
      "outputs": [],
      "source": "plt.scatter(df.loc[df['people']=='Ben', 'rating'], df.loc[df['people']=='Evelyn', 'rating'][:5])\nplt.xlim([0,6])\nplt.ylim([0,6])\nplt.show()"
    },
    {
      "cell_type": "code",
      "execution_count": null,
      "id": "419a9841-6574-47a0-a215-962ee054824d",
      "metadata": {
        "trusted": true
      },
      "outputs": [],
      "source": "import scipy.spatial\nimport scipy.stats"
    },
    {
      "cell_type": "code",
      "execution_count": null,
      "id": "69685041-2f22-47f4-b1c0-4b859cdad0d7",
      "metadata": {
        "trusted": true
      },
      "outputs": [],
      "source": "def d1(a):\n    b = df.loc[df['people']=='Ben', 'rating']\n    person_a = df.loc[df['people']==a, 'rating'][:5]\n    return 1 / (1 + scipy.spatial.distance.euclidean(b, person_a))"
    },
    {
      "cell_type": "code",
      "execution_count": null,
      "id": "eb9b1348-ada5-400d-bb9f-369b2e731b30",
      "metadata": {
        "trusted": true
      },
      "outputs": [],
      "source": "d1('Evelyn')"
    },
    {
      "cell_type": "code",
      "execution_count": null,
      "id": "755f510c-44d6-48e3-b1a0-7a056dcf997b",
      "metadata": {
        "trusted": true
      },
      "outputs": [],
      "source": "for i in people:\n    if i != 'Ben':\n        print(i,':',d1(i))"
    },
    {
      "cell_type": "code",
      "execution_count": null,
      "id": "bd281e11-c73d-44e9-a394-8fa7eb1de04d",
      "metadata": {
        "trusted": true
      },
      "outputs": [],
      "source": "def topsim(a):\n    best = {}\n    for i in people:\n        if i != 'Ben':\n            best[i] = a(i)\n    return dict(sorted(best.items(), key=lambda item: -item[1]))"
    },
    {
      "cell_type": "code",
      "execution_count": null,
      "id": "a9e7ced2-e34e-45b4-a95a-719ce299159c",
      "metadata": {
        "trusted": true
      },
      "outputs": [],
      "source": "topsim(d1)"
    },
    {
      "cell_type": "code",
      "execution_count": null,
      "id": "3b6e5719-8a33-4ab4-b072-ff4478c73842",
      "metadata": {
        "trusted": true
      },
      "outputs": [],
      "source": "def d_euclidean(a):\n    b = df.loc[df['people']=='Ben', 'rating']\n    person_a = df.loc[df['people']==a, 'rating'][:5]\n    return 1 / (1 + scipy.spatial.distance.euclidean(b, person_a))"
    },
    {
      "cell_type": "code",
      "execution_count": null,
      "id": "5d8a2a54-ec57-4d98-aeea-67cded5052ea",
      "metadata": {
        "trusted": true
      },
      "outputs": [],
      "source": "def d_cosine(a):\n    b = df.loc[df['people']=='Ben', 'rating']\n    person_a = df.loc[df['people']==a, 'rating'][:5]\n    return 1 / (1 + scipy.spatial.distance.cosine(b, person_a))"
    },
    {
      "cell_type": "code",
      "execution_count": null,
      "id": "9160eddc-0a28-47a5-bf0d-6d6bd6d80014",
      "metadata": {
        "trusted": true
      },
      "outputs": [],
      "source": "topsim(d_euclidean)"
    },
    {
      "cell_type": "code",
      "execution_count": null,
      "id": "aada9025-8225-4233-b884-25cbe076ad7f",
      "metadata": {
        "trusted": true
      },
      "outputs": [],
      "source": "topsim(d_cosine)"
    },
    {
      "cell_type": "code",
      "execution_count": null,
      "id": "3100ba65-7c4b-4686-a626-35b3b3201ee6",
      "metadata": {
        "trusted": true
      },
      "outputs": [],
      "source": "scipy.stats.pearsonr(df.loc[df['people']=='Ben', 'rating'], df.loc[df['people']=='Dan', 'rating'][:5])"
    },
    {
      "cell_type": "code",
      "execution_count": null,
      "id": "93fc099d-4b83-47f9-9906-16794134a1df",
      "metadata": {
        "trusted": true
      },
      "outputs": [],
      "source": "def d_pearson(a):\n    b = df.loc[df['people']=='Ben', 'rating']\n    person_a = df.loc[df['people']==a, 'rating'][:5]\n    return scipy.stats.pearsonr(b, person_a)[0]"
    },
    {
      "cell_type": "code",
      "execution_count": null,
      "id": "8a207a3f-798f-4ec1-a15d-b347329e6444",
      "metadata": {
        "trusted": true
      },
      "outputs": [],
      "source": "def d_spearman(a):\n    b = df.loc[df['people']=='Ben', 'rating']\n    person_a = df.loc[df['people']==a, 'rating'][:5]\n    return scipy.stats.spearmanr(b, person_a)[0]"
    },
    {
      "cell_type": "code",
      "execution_count": null,
      "id": "c780fbe6-a731-4c7d-a388-63bbc0882d5d",
      "metadata": {
        "trusted": true
      },
      "outputs": [],
      "source": "topsim(d_pearson)"
    },
    {
      "cell_type": "code",
      "execution_count": null,
      "id": "b90e23dc-13ae-49fd-8207-93ef464ebd14",
      "metadata": {
        "trusted": true
      },
      "outputs": [],
      "source": "topsim(d_spearman)"
    },
    {
      "cell_type": "code",
      "execution_count": null,
      "id": "0aa89808-ad07-4312-b030-c5a665a07754",
      "metadata": {
        "trusted": true
      },
      "outputs": [],
      "source": "# To get rankings of my unseen movies, I could just look at Alice's ratings, since she's closest to me.\n\nalice_ratings = df.loc[df['people'] == 'Alice', ['movie','rating']][5:]\nalice_ratings.sort_values(by='rating',ascending=False)"
    },
    {
      "cell_type": "code",
      "execution_count": null,
      "id": "1dcb9300-14a3-4791-b837-c313c6f9f24c",
      "metadata": {
        "trusted": true
      },
      "outputs": [],
      "source": "df"
    },
    {
      "cell_type": "code",
      "execution_count": null,
      "id": "754d3484-6039-40b0-a4b8-65b6a7faef15",
      "metadata": {
        "trusted": true
      },
      "outputs": [],
      "source": "people"
    },
    {
      "cell_type": "code",
      "execution_count": null,
      "id": "ac2aa07a-ebc4-4f9b-b409-b2b78faa5cf4",
      "metadata": {
        "trusted": true
      },
      "outputs": [],
      "source": "# Better is to look at weighted average over all people\n# with weights equal to the similarity scores\n# and divide the total by the sum of all the similarity scores\n\nmovie_predictions = {}\nweights = topsim(d_euclidean)\n\n# Get my unseen 5 movies and assign an initial score of 0\nfor i in movies['title'][5:10]:\n    \n    # Calculate the weighted score based on my similarity with others\n    total_weight = 0\n    weighted_rating = 0\n    for person in people:\n        if person != 'Ben':\n            weight = weights[person]\n            weighted_rating += weight * df.loc[(df['people'] == person) & (df['movie'] == i), 'rating'].iloc[0]\n            total_weight += weight\n    movie_predictions[i] = weighted_rating / total_weight\n    \npreds_sorted = dict(sorted(movie_predictions.items(), key=lambda item: -item[1]))\nprint(preds_sorted)"
    },
    {
      "cell_type": "code",
      "execution_count": null,
      "id": "203173e8-8458-4727-81b2-8690b6038cbe",
      "metadata": {
        "trusted": true
      },
      "outputs": [],
      "source": "# Better is to look at weighted average over all people\n# with weights equal to the similarity scores\n# and divide the total by the sum of all the similarity scores\n\nmovie_predictions = {}\nweights = topsim(d_spearman)\n\n# Get my unseen 5 movies and assign an initial score of 0\nfor i in movies['title'][5:10]:\n    \n    # Calculate the weighted score based on my similarity with others\n    total_weight = 0\n    weighted_rating = 0\n    for person in people:\n        if person != 'Ben':\n            weight = weights[person]\n            weighted_rating += weight * df.loc[(df['people'] == person) & (df['movie'] == i), 'rating'].iloc[0]\n            total_weight += weight\n    movie_predictions[i] = weighted_rating / total_weight\n    \npreds_sorted = dict(sorted(movie_predictions.items(), key=lambda item: -item[1]))\nprint(preds_sorted)"
    },
    {
      "cell_type": "code",
      "execution_count": null,
      "id": "c2bc4268-2d2a-4d24-827a-be902af4cd34",
      "metadata": {
        "trusted": true
      },
      "outputs": [],
      "source": "preds_sorted"
    },
    {
      "cell_type": "code",
      "execution_count": null,
      "id": "2541c9e0-0f70-480f-8cf1-041532cb7a0f",
      "metadata": {
        "trusted": true
      },
      "outputs": [],
      "source": "pd.DataFrame.from_dict(preds_sorted, orient='index').plot.barh()"
    },
    {
      "cell_type": "markdown",
      "id": "e21e04e2-17ff-48b1-adb9-c752b7d602fe",
      "metadata": {},
      "source": "## Item-based vs user-based collaborative filtering\n\nWhat if we look not at the similarity between people, but the similarity between movies?"
    },
    {
      "cell_type": "markdown",
      "id": "4ed963a6-f8e0-4633-9007-d2ccd3e4cfa6",
      "metadata": {},
      "source": "... effectively, conceptually, this is just switching the places of people and movies."
    },
    {
      "cell_type": "code",
      "execution_count": null,
      "id": "329d650f-a389-4ddf-8408-afba92bfa7ed",
      "metadata": {
        "trusted": true
      },
      "outputs": [],
      "source": "m10"
    },
    {
      "cell_type": "code",
      "execution_count": null,
      "id": "eadc83b9-0257-4803-9684-4161c84e163c",
      "metadata": {
        "trusted": true
      },
      "outputs": [],
      "source": "def topsim2(movie, method):\n    best = {}\n    for i in m10:\n        if i != movie:\n            best[i] = method(movie, i)\n    return dict(sorted(best.items(), key=lambda item: -item[1]))"
    },
    {
      "cell_type": "code",
      "execution_count": null,
      "id": "3969dcd5-30e4-486b-bb17-26d4522868ff",
      "metadata": {
        "trusted": true
      },
      "outputs": [],
      "source": "def d_euclidean2(movie1, movie2):\n    rating1 = []\n    rating2 = []\n    for i in people:\n        if movie1 in df.loc[df['people']==i, 'movie'].unique() and movie2 in df.loc[df['people']==i, 'movie'].unique():\n            rating1.append(df.loc[(df['people']==i) & (df['movie']==movie1), 'rating'].iloc[0])\n            rating2.append(df.loc[(df['people']==i) & (df['movie']==movie2), 'rating'].iloc[0])\n    return 1 / (1 + scipy.spatial.distance.euclidean(rating1, rating2))"
    },
    {
      "cell_type": "code",
      "execution_count": null,
      "id": "827eff37-f011-4162-8780-370c326edac6",
      "metadata": {
        "trusted": true
      },
      "outputs": [],
      "source": "topsim2('Toy Story (1995)', d_euclidean2)"
    },
    {
      "cell_type": "code",
      "execution_count": null,
      "id": "2a8b60da-009f-4827-847a-b4c6ef4d67ee",
      "metadata": {
        "trusted": true
      },
      "outputs": [],
      "source": "# For movies that I haven't seen, we follow a similar procedure to calculate a weighted average\n\nmovie_predictions = {}\n\n# Get my unseen 5 movies and assign an initial score of 0\nfor i in m10[5:10]:\n\n    # now the weights change for every movie pair\n    weights = topsim2(i, d_euclidean2)\n\n    # Calculate the weighted score based on my movie ratings\n    total_weight = 0\n    weighted_rating = 0\n    for m in m10[:5]:\n        weight = weights[m]\n        weighted_rating += weight * df.loc[(df['people'] == 'Ben') & (df['movie'] == m), 'rating'].iloc[0]\n        total_weight += weight\n    movie_predictions[i] = weighted_rating / total_weight\n    \npreds_sorted = dict(sorted(movie_predictions.items(), key=lambda item: -item[1]))\nprint(preds_sorted)"
    },
    {
      "cell_type": "code",
      "execution_count": null,
      "id": "6264e3cb-672f-4a36-8ef0-9353f6f00d91",
      "metadata": {
        "trusted": true
      },
      "outputs": [],
      "source": "pd.DataFrame.from_dict(preds_sorted, orient='index').plot.barh()"
    }
  ],
  "metadata": {
    "kernelspec": {
      "display_name": "Python 3 (ipykernel)",
      "language": "python",
      "name": "python3"
    },
    "language_info": {
      "codemirror_mode": {
        "name": "ipython",
        "version": 3
      },
      "file_extension": ".py",
      "mimetype": "text/x-python",
      "name": "python",
      "nbconvert_exporter": "python",
      "pygments_lexer": "ipython3",
      "version": "3.11.6"
    }
  },
  "nbformat": 4,
  "nbformat_minor": 5
}