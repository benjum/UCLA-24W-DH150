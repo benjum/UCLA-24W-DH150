{
  "cells": [
    {
      "cell_type": "markdown",
      "id": "b039f1bc-0248-49ed-8621-8ced013eecd9",
      "metadata": {},
      "source": "# Movie Recommendations"
    },
    {
      "cell_type": "markdown",
      "id": "ff995c60-4a6d-45cc-ba1e-189427257d03",
      "metadata": {},
      "source": "This notebook uses the [MovieLens dataset](https://grouplens.org/datasets/movielens/latest/)\nas well as content information that is linked through the respective movie pages on [TMDB](https://www.themoviedb.org/)\n\n* I have included csv files under our class repo on GitHub\n* License info is included in the file https://raw.githubusercontent.com/benjum/UCLA-24W-DH150/main/Data/movielens-data/README.txt"
    },
    {
      "cell_type": "code",
      "execution_count": null,
      "id": "00ac591a-d933-4e84-850a-ab1fdcb30cc7",
      "metadata": {
        "trusted": true
      },
      "outputs": [],
      "source": "import pandas as pd"
    },
    {
      "cell_type": "code",
      "execution_count": null,
      "id": "817f7464-df3b-4a9c-bf3e-c4c0438fa816",
      "metadata": {
        "trusted": true
      },
      "outputs": [],
      "source": "ratings = pd.read_csv('https://raw.githubusercontent.com/benjum/UCLA-24W-DH150/main/Data/movielens-data/ratings.csv')\nmovies = pd.read_csv('https://raw.githubusercontent.com/benjum/UCLA-24W-DH150/main/Data/movielens-data/movies.csv')"
    },
    {
      "cell_type": "code",
      "execution_count": null,
      "id": "075c3113-c389-4dad-a0a2-d49517b90b50",
      "metadata": {
        "trusted": true
      },
      "outputs": [],
      "source": "ratings"
    },
    {
      "cell_type": "code",
      "execution_count": null,
      "id": "25f37fd8-5c81-453b-9b3a-a015754a84bc",
      "metadata": {
        "trusted": true
      },
      "outputs": [],
      "source": "movies"
    },
    {
      "cell_type": "markdown",
      "id": "430ce195-d241-4195-87ba-c39481c65a0f",
      "metadata": {},
      "source": "610 users and 9724 movies"
    },
    {
      "cell_type": "code",
      "execution_count": null,
      "id": "3a4f5d06-f952-4d7f-a875-ac890521f3f1",
      "metadata": {
        "trusted": true
      },
      "outputs": [],
      "source": "len(ratings['userId'].unique())"
    },
    {
      "cell_type": "code",
      "execution_count": null,
      "id": "9049c417-41db-4a96-a3ad-e485cbf4918b",
      "metadata": {
        "trusted": true
      },
      "outputs": [],
      "source": "len(ratings['movieId'].unique())"
    },
    {
      "cell_type": "code",
      "execution_count": null,
      "id": "1b0738b7-198f-48ba-8e99-9259307e361b",
      "metadata": {
        "trusted": true
      },
      "outputs": [],
      "source": "ratings['rating'].unique()"
    },
    {
      "cell_type": "markdown",
      "id": "11c5d402-fbe5-439e-b9a4-54b087bcdda7",
      "metadata": {},
      "source": "# Idea 1:  Recommend the most popular movie"
    },
    {
      "cell_type": "code",
      "execution_count": null,
      "id": "c18bf4a0-4b51-443b-bb9f-d10e342e9316",
      "metadata": {
        "trusted": true
      },
      "outputs": [],
      "source": "movies['R'] = 0.0\nmovies['v'] = 0\nmovies['WR'] = 0.0"
    },
    {
      "cell_type": "code",
      "execution_count": null,
      "id": "2ffcaa6c-2390-4fbd-84f0-08b0cf32c06b",
      "metadata": {
        "trusted": true
      },
      "outputs": [],
      "source": "for i in movies.index:\n    movies.loc[i,'R'] = ratings.loc[ratings['movieId'] == movies.iloc[i]['movieId']]['rating'].mean()"
    },
    {
      "cell_type": "code",
      "execution_count": null,
      "id": "af7f539c-1dbb-41f9-99e0-51214ac7d1e9",
      "metadata": {
        "trusted": true
      },
      "outputs": [],
      "source": "movies.sort_values(by='R',ascending=False)[:10]"
    },
    {
      "cell_type": "markdown",
      "id": "2288f1c8-658b-43c7-80f6-cb161b6266e3",
      "metadata": {},
      "source": "According to the IMDB website https://help.imdb.com/article/imdb/track-movies-tv/ratings-faq/G67Y87TFYYP6TWAV#\n:\n\n<i>\nThe following formula is used to calculate the Top Rated 250 titles. This formula provides a true 'Bayesian estimate', which takes into account the number of votes each title has received, minimum votes required to be on the list, and the mean vote for all titles:\n\nweighted rating (WR) = (v ÷ (v+m)) × R + (m ÷ (v+m)) × C\n\nWhere:\n\nR = average for the movie (mean) = (rating)\n\nv = number of votes for the movie = (votes)\n\nm = minimum votes required to be listed in the Top Rated 250 list (currently 25,000)\n\nC = the mean vote across the whole report\n\n \n\nPlease be aware the Top 250 Movie list only includes feature films: shorts, TV movies, miniseries and documentaries are not included in the Top 250 Movies Chart. The Top 250 TV Shows Chart includes TV Series, but not TV episodes or Movies.\n</i>"
    },
    {
      "cell_type": "code",
      "execution_count": null,
      "id": "d81c8600-4f19-49be-9933-e80651f76371",
      "metadata": {
        "trusted": true
      },
      "outputs": [],
      "source": "m_id = 1\nmovies.loc[movies['movieId']==m_id, 'title'][0]"
    },
    {
      "cell_type": "code",
      "execution_count": null,
      "id": "a443f13d-a53e-4ce4-8166-7e9b33d332fa",
      "metadata": {
        "trusted": true
      },
      "outputs": [],
      "source": "ratings.loc[ratings['movieId'] == m_id, 'rating'].count()"
    },
    {
      "cell_type": "code",
      "execution_count": null,
      "id": "0c679586-1b40-49db-809a-829913ca2a07",
      "metadata": {
        "trusted": true
      },
      "outputs": [],
      "source": "ratings.loc[ratings['movieId'] == m_id, 'rating'].mean()"
    },
    {
      "cell_type": "code",
      "execution_count": null,
      "id": "19a32640-9560-4ba1-b760-d13481108872",
      "metadata": {
        "trusted": true
      },
      "outputs": [],
      "source": "ratings['rating'].mean()"
    },
    {
      "cell_type": "code",
      "execution_count": null,
      "id": "ea71d0dc-a1db-4379-ba53-de0fb836c614",
      "metadata": {
        "trusted": true
      },
      "outputs": [],
      "source": "m_id = 1\n\nR = ratings.loc[ratings['movieId'] == m_id, 'rating'].mean()\nv = ratings.loc[ratings['movieId'] == m_id, 'rating'].count()\nm = 1\nC = ratings['rating'].mean()\n\nWR = (v*R + m*C) / (v+m)\nprint(WR)"
    },
    {
      "cell_type": "code",
      "execution_count": null,
      "id": "1312662c-9685-4720-adc7-d801027a8bdd",
      "metadata": {
        "trusted": true
      },
      "outputs": [],
      "source": "for i in movies.index:\n    movies.loc[i,'v'] = ratings.loc[ratings['movieId'] == movies.iloc[i]['movieId']]['rating'].count()"
    },
    {
      "cell_type": "code",
      "execution_count": null,
      "id": "99ba364a-2c05-432d-98fc-afd26f294485",
      "metadata": {
        "trusted": true
      },
      "outputs": [],
      "source": "movies.sort_values(by='R',ascending=False)[:10]"
    },
    {
      "cell_type": "code",
      "execution_count": null,
      "id": "16f87655-3e43-4746-b8d7-762d7e61233c",
      "metadata": {
        "trusted": true
      },
      "outputs": [],
      "source": "C = ratings['rating'].mean()\nprint(C)"
    },
    {
      "cell_type": "code",
      "execution_count": null,
      "id": "b4c3c753-832e-4594-9d5c-4483a798d0a5",
      "metadata": {
        "trusted": true
      },
      "outputs": [],
      "source": "# WR = (v*R + m*C) / (v+m)\nfor i in movies.index:\n    movies.loc[i,'WR'] = (movies.loc[i,'v'] * movies.loc[i,'R'] + 1*C) / (movies.loc[i,'v'] + 1)"
    },
    {
      "cell_type": "code",
      "execution_count": null,
      "id": "347d7cb2-93c4-40f8-98f3-90a2412af5d2",
      "metadata": {
        "trusted": true
      },
      "outputs": [],
      "source": "movies.sort_values(by='WR',ascending=False)[:10]"
    },
    {
      "cell_type": "code",
      "execution_count": null,
      "id": "58ffcda3-b9e2-4bd9-8636-75187221fc7c",
      "metadata": {
        "trusted": true
      },
      "outputs": [],
      "source": "# WR = (v*R + m*C) / (v+m)\nm = 250\nmovies['WR'] = (movies['v'] * movies['R'] + m*C) / (movies['v'] + m)"
    },
    {
      "cell_type": "code",
      "execution_count": null,
      "id": "58c088c2-5dd2-48ae-8a91-11931a09dd85",
      "metadata": {
        "trusted": true
      },
      "outputs": [],
      "source": "movies.sort_values(by='WR',ascending=False)[:10]"
    }
  ],
  "metadata": {
    "kernelspec": {
      "display_name": "Python 3 (ipykernel)",
      "language": "python",
      "name": "python3"
    },
    "language_info": {
      "codemirror_mode": {
        "name": "ipython",
        "version": 3
      },
      "file_extension": ".py",
      "mimetype": "text/x-python",
      "name": "python",
      "nbconvert_exporter": "python",
      "pygments_lexer": "ipython3",
      "version": "3.11.6"
    }
  },
  "nbformat": 4,
  "nbformat_minor": 5
}