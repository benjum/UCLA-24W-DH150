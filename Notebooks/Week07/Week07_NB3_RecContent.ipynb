{
  "cells": [
    {
      "cell_type": "markdown",
      "id": "b039f1bc-0248-49ed-8621-8ced013eecd9",
      "metadata": {},
      "source": "# Movie Recommendations"
    },
    {
      "cell_type": "markdown",
      "id": "ff995c60-4a6d-45cc-ba1e-189427257d03",
      "metadata": {},
      "source": "This notebook uses the [MovieLens dataset](https://grouplens.org/datasets/movielens/latest/)\nas well as content information that is linked through the respective movie pages on [TMDB](https://www.themoviedb.org/)\n\n* I have included csv files under our class repo on GitHub\n* License info is included in the file https://raw.githubusercontent.com/benjum/UCLA-24W-DH150/main/Data/movielens-data/README.txt\n\n**NOTE:** Running this on the JupyterHub will result in the kernel dying part-way through, due to RAM constraints.  If you want to follow along with this notebook, please download it and run it on your local system."
    },
    {
      "cell_type": "code",
      "execution_count": null,
      "id": "00ac591a-d933-4e84-850a-ab1fdcb30cc7",
      "metadata": {
        "tags": [],
        "trusted": true
      },
      "outputs": [],
      "source": "import pandas as pd"
    },
    {
      "cell_type": "code",
      "execution_count": null,
      "id": "817f7464-df3b-4a9c-bf3e-c4c0438fa816",
      "metadata": {
        "tags": [],
        "trusted": true
      },
      "outputs": [],
      "source": "ratings = pd.read_csv('https://raw.githubusercontent.com/benjum/UCLA-24W-DH150/main/Data/movielens-data/ratings.csv')\nmovies = pd.read_csv('https://raw.githubusercontent.com/benjum/UCLA-24W-DH150/main/Data/movielens-data/movies.csv')"
    },
    {
      "cell_type": "code",
      "execution_count": null,
      "id": "075c3113-c389-4dad-a0a2-d49517b90b50",
      "metadata": {
        "tags": [],
        "trusted": true
      },
      "outputs": [],
      "source": "ratings"
    },
    {
      "cell_type": "code",
      "execution_count": null,
      "id": "25f37fd8-5c81-453b-9b3a-a015754a84bc",
      "metadata": {
        "tags": [],
        "trusted": true
      },
      "outputs": [],
      "source": "movies"
    },
    {
      "cell_type": "markdown",
      "id": "430ce195-d241-4195-87ba-c39481c65a0f",
      "metadata": {},
      "source": "610 users and 9724 movies"
    },
    {
      "cell_type": "code",
      "execution_count": null,
      "id": "3a4f5d06-f952-4d7f-a875-ac890521f3f1",
      "metadata": {
        "tags": [],
        "trusted": true
      },
      "outputs": [],
      "source": "len(ratings['userId'].unique())"
    },
    {
      "cell_type": "code",
      "execution_count": null,
      "id": "9049c417-41db-4a96-a3ad-e485cbf4918b",
      "metadata": {
        "tags": [],
        "trusted": true
      },
      "outputs": [],
      "source": "len(ratings['movieId'].unique())"
    },
    {
      "cell_type": "code",
      "execution_count": null,
      "id": "1b0738b7-198f-48ba-8e99-9259307e361b",
      "metadata": {
        "tags": [],
        "trusted": true
      },
      "outputs": [],
      "source": "ratings['rating'].unique()"
    },
    {
      "cell_type": "markdown",
      "id": "e7072057-9cc6-40ff-b7f1-37141e742d4d",
      "metadata": {},
      "source": "# Idea 3: Recommend based on Content"
    },
    {
      "cell_type": "markdown",
      "id": "18713c76-b32d-417e-ab35-edd1c48ffd79",
      "metadata": {},
      "source": "Here's an opportunity to use some of our text-based algorithms!\n\nAlthough here we won't use NLTK or Gensim, just the good ole Scikit-Learn.\n\n[This notebook was motivated by DataCamp's [\"Beginner Tutorial: Recommender Systems in Python\"](https://www.datacamp.com/tutorial/recommender-systems-python) ]"
    },
    {
      "cell_type": "code",
      "execution_count": null,
      "id": "efd08bf7-842d-451e-8f2e-34a9d155a174",
      "metadata": {
        "tags": [],
        "trusted": true
      },
      "outputs": [],
      "source": "# We're going to use the \"Overviews\" column first:\n\nmovies['overview'][0]"
    },
    {
      "cell_type": "code",
      "execution_count": null,
      "id": "d66dc9bc-4113-4860-82bf-29d1272f50e6",
      "metadata": {
        "tags": [],
        "trusted": true
      },
      "outputs": [],
      "source": "# Some entries are NaNs.  We don't want those, so replace with empty strings:\n\nmovies['overview'] = movies['overview'].fillna('')"
    },
    {
      "cell_type": "code",
      "execution_count": null,
      "id": "c1c4c387-22ff-484e-9ad4-bd381bc888bf",
      "metadata": {
        "tags": [],
        "trusted": true
      },
      "outputs": [],
      "source": "# sklearn already has a method to get word counts\n\nfrom sklearn.feature_extraction.text import CountVectorizer"
    },
    {
      "cell_type": "code",
      "execution_count": null,
      "id": "c5bdc06c-d795-4bdd-86d4-4581561d9e39",
      "metadata": {
        "tags": [],
        "trusted": true
      },
      "outputs": [],
      "source": "# and conveniently it will get rid of stopwords\n\ncount = CountVectorizer(stop_words='english')"
    },
    {
      "cell_type": "code",
      "execution_count": null,
      "id": "840c800b-a067-47f5-8451-f525df5e1644",
      "metadata": {
        "tags": [],
        "trusted": true
      },
      "outputs": [],
      "source": "count_matrix = count.fit_transform(movies['overview'])"
    },
    {
      "cell_type": "code",
      "execution_count": null,
      "id": "dd09a0f8-f5cc-4923-a9eb-a123347bf966",
      "metadata": {
        "tags": [],
        "trusted": true
      },
      "outputs": [],
      "source": "count_matrix.shape"
    },
    {
      "cell_type": "code",
      "execution_count": null,
      "id": "341ea433-1370-4253-b276-4ff17c6c1813",
      "metadata": {
        "tags": [],
        "trusted": true
      },
      "outputs": [],
      "source": "count_matrix[0,:]"
    },
    {
      "cell_type": "markdown",
      "id": "073c482c-3b73-426c-92d8-3f2f576a2d84",
      "metadata": {},
      "source": "Sparse arrays.... we can use 'nonzero()' to get the nonzero elements."
    },
    {
      "cell_type": "code",
      "execution_count": null,
      "id": "45cf7964-8299-4a38-8f18-0acbdb95d47e",
      "metadata": {
        "tags": [],
        "trusted": true
      },
      "outputs": [],
      "source": "doc = 0\nfeature_names = count.get_feature_names_out()\nfeature_index = count_matrix[doc,:].nonzero()[1]\nfor i in feature_index:\n    print(feature_names[i], count_matrix[doc,i])"
    },
    {
      "cell_type": "code",
      "execution_count": null,
      "id": "99b1c142-ac76-4b64-ba1d-6ba658a3298a",
      "metadata": {
        "tags": [],
        "trusted": true
      },
      "outputs": [],
      "source": "count_matrix.shape"
    },
    {
      "cell_type": "code",
      "execution_count": null,
      "id": "d0a1597b-4dc9-4f73-a29c-6682ea4d754d",
      "metadata": {
        "tags": [],
        "trusted": true
      },
      "outputs": [],
      "source": "from sklearn.metrics.pairwise import cosine_similarity\n\ncosine_sim = cosine_similarity(count_matrix, count_matrix)"
    },
    {
      "cell_type": "code",
      "execution_count": null,
      "id": "b15143d4-61bb-4ae8-9d77-77f391d4de41",
      "metadata": {
        "tags": [],
        "trusted": true
      },
      "outputs": [],
      "source": "cosine_sim.shape"
    },
    {
      "cell_type": "code",
      "execution_count": null,
      "id": "6906aa10-ee08-453c-85fb-898c73413ced",
      "metadata": {
        "tags": [],
        "trusted": true
      },
      "outputs": [],
      "source": "cosine_sim[1]"
    },
    {
      "cell_type": "code",
      "execution_count": null,
      "id": "99cd8b9a-02af-4263-b761-e4d0327fe7d5",
      "metadata": {
        "tags": [],
        "trusted": true
      },
      "outputs": [],
      "source": "# Construct a reverse map of indices and movie titles\n\nindices = pd.Series(movies.index, index=movies['title']).drop_duplicates()"
    },
    {
      "cell_type": "code",
      "execution_count": null,
      "id": "21e22aa7-b8d4-4513-8e5f-596a225de5c9",
      "metadata": {
        "tags": [],
        "trusted": true
      },
      "outputs": [],
      "source": "indices[0:2]"
    },
    {
      "cell_type": "code",
      "execution_count": null,
      "id": "26a96af3-0a01-447f-8a3a-ff693b5ab9c0",
      "metadata": {
        "tags": [],
        "trusted": true
      },
      "outputs": [],
      "source": "# Function that takes in movie title as input and outputs most similar movies\ndef get_recommendations(title, method):\n    \n    # Get the index of the movie that matches the title\n    idx = indices[title]\n\n    # Get the pairwsie similarity scores of all movies with that movie\n    sim_scores = list(enumerate(method[idx]))\n\n    # Sort the movies based on the similarity scores\n    sim_scores = sorted(sim_scores, key=lambda x: -x[1])\n\n    # Get the scores of the 10 most similar movies\n    sim_scores = sim_scores[1:11]\n\n    # Get the movie indices\n    movie_indices = [i[0] for i in sim_scores]\n\n    # Return the top 10 most similar movies\n    return movies['title'].iloc[movie_indices]"
    },
    {
      "cell_type": "code",
      "execution_count": null,
      "id": "a6007470-64e8-4e56-93f5-14913d61cb00",
      "metadata": {
        "tags": [],
        "trusted": true
      },
      "outputs": [],
      "source": "get_recommendations('Toy Story (1995)', cosine_sim)"
    },
    {
      "cell_type": "markdown",
      "id": "b6e06461-4df2-4539-a8d1-64c33f2c3534",
      "metadata": {},
      "source": "If you know these movies, you'll know that this is a rather ridiculous set of suggestions.\n\nChild's Play 2????  Um.... no."
    },
    {
      "cell_type": "markdown",
      "id": "910bb484-13fc-459c-a829-a8ca2761e87b",
      "metadata": {},
      "source": "* The quality of your recommender would be increased with the usage of better metadata and by capturing more of the finer details. \n* First, let's try an alternative metric for assigning importance to words.  Instead of count, use Term Frequency - Inverse Document Frequency."
    },
    {
      "cell_type": "markdown",
      "id": "19af6bac-d6ba-4020-851d-21984a54365d",
      "metadata": {},
      "source": "Special Note:  If your kernel runs out of memory, the execution here may die and you'll get a note about the kernel dieing.  If that happens, restart the kernel, re-run from the top up to (but not including) the countvectorizer import, and resume here."
    },
    {
      "cell_type": "code",
      "execution_count": null,
      "id": "f53d8dfa-b6ef-4e7a-a3bf-e00c8b8440fb",
      "metadata": {
        "tags": [],
        "trusted": true
      },
      "outputs": [],
      "source": "# Use the TF-IDF algorithm from sklearn\n\nfrom sklearn.feature_extraction.text import TfidfVectorizer"
    },
    {
      "cell_type": "code",
      "execution_count": null,
      "id": "730b57d7-8671-4ccd-b52d-79c68d6d8a91",
      "metadata": {
        "tags": [],
        "trusted": true
      },
      "outputs": [],
      "source": "# Initialize the TF-IDF Vectorizer, and set it to remove stopwords.\n\ntfidf = TfidfVectorizer(stop_words='english')"
    },
    {
      "cell_type": "code",
      "execution_count": null,
      "id": "39d050f8-0239-4572-ab60-52a8c4160015",
      "metadata": {
        "tags": [],
        "trusted": true
      },
      "outputs": [],
      "source": "# Create the array of words with TF-IDF probability scores using the array of overviews\n\ntfidf_matrix = tfidf.fit_transform(movies['overview'])"
    },
    {
      "cell_type": "code",
      "execution_count": null,
      "id": "4ff74768-c8e6-4516-9dca-8bb2be44ed7f",
      "metadata": {
        "tags": [],
        "trusted": true
      },
      "outputs": [],
      "source": "tfidf_matrix.shape"
    },
    {
      "cell_type": "code",
      "execution_count": null,
      "id": "df02b251-2b2f-4334-a875-8f4992b0de93",
      "metadata": {
        "tags": [],
        "trusted": true
      },
      "outputs": [],
      "source": "tfidf_matrix[0,:]"
    },
    {
      "cell_type": "code",
      "execution_count": null,
      "id": "e086b769-e9fc-46a7-aacb-a36c7792a59c",
      "metadata": {
        "tags": [],
        "trusted": true
      },
      "outputs": [],
      "source": "doc = 0\nfeature_names = tfidf.get_feature_names_out()\nfeature_index = tfidf_matrix[doc,:].nonzero()[1]\nfor i in feature_index:\n    print(feature_names[i], tfidf_matrix[doc,i])"
    },
    {
      "cell_type": "code",
      "execution_count": null,
      "id": "41dc23d0-84a2-46d3-a971-87fec081f0bf",
      "metadata": {
        "tags": [],
        "trusted": true
      },
      "outputs": [],
      "source": "doc = 0\nfeature_names = tfidf.get_feature_names_out()\nfeature_index = tfidf_matrix[doc,:].nonzero()[1]\ntfidf_toystory_scores = {}\nfor i in feature_index:\n    tfidf_toystory_scores[feature_names[i]] = tfidf_matrix[doc,i]\nsorted(tfidf_toystory_scores.items(), key=lambda x: -x[1])"
    },
    {
      "cell_type": "code",
      "execution_count": null,
      "id": "7a644c8c-93c0-4ab6-9bd5-2a25ae208ed5",
      "metadata": {
        "tags": [],
        "trusted": true
      },
      "outputs": [],
      "source": "# To get a cosine similarity score, we can use vector multiplication here using linear_kernel\n\nfrom sklearn.metrics.pairwise import linear_kernel"
    },
    {
      "cell_type": "code",
      "execution_count": null,
      "id": "233daa73-dcd1-4557-81bf-beed43ce67a0",
      "metadata": {
        "tags": [],
        "trusted": true
      },
      "outputs": [],
      "source": "# Compute the cosine similarity matrix\n\ncosine_sim2 = linear_kernel(tfidf_matrix, tfidf_matrix)"
    },
    {
      "cell_type": "code",
      "execution_count": null,
      "id": "7feebe6b-ef30-46d7-aec5-80728d479419",
      "metadata": {
        "tags": [],
        "trusted": true
      },
      "outputs": [],
      "source": "cosine_sim2.shape"
    },
    {
      "cell_type": "code",
      "execution_count": null,
      "id": "ea4a3477-3d9d-45c4-b39d-92e6720e0d17",
      "metadata": {
        "tags": [],
        "trusted": true
      },
      "outputs": [],
      "source": "cosine_sim2[1]"
    },
    {
      "cell_type": "code",
      "execution_count": null,
      "id": "df836553-fab7-454f-b25c-5b1d3aa3dbde",
      "metadata": {
        "tags": [],
        "trusted": true
      },
      "outputs": [],
      "source": "# Construct a reverse map of indices and movie titles\n\nindices = pd.Series(movies.index, index=movies['title']).drop_duplicates()"
    },
    {
      "cell_type": "code",
      "execution_count": null,
      "id": "220aa6d1-2deb-4147-b669-9ffe43d070fe",
      "metadata": {
        "tags": [],
        "trusted": true
      },
      "outputs": [],
      "source": "indices[0:2]"
    },
    {
      "cell_type": "code",
      "execution_count": null,
      "id": "8161ab14-ae11-43bd-b32f-5b4f822d40dd",
      "metadata": {
        "tags": [],
        "trusted": true
      },
      "outputs": [],
      "source": "# Function that takes in movie title as input and outputs most similar movies\ndef get_recommendations(title, method):\n    \n    # Get the index of the movie that matches the title\n    idx = indices[title]\n\n    # Get the pairwsie similarity scores of all movies with that movie\n    sim_scores = list(enumerate(method[idx]))\n\n    # Sort the movies based on the similarity scores\n    sim_scores = sorted(sim_scores, key=lambda x: -x[1])\n\n    # Get the scores of the 10 most similar movies\n    sim_scores = sim_scores[1:11]\n\n    # Get the movie indices\n    movie_indices = [i[0] for i in sim_scores]\n\n    # Return the top 10 most similar movies\n    return movies['title'].iloc[movie_indices]"
    },
    {
      "cell_type": "code",
      "execution_count": null,
      "id": "a356b024-5651-4ad7-a89b-0965303fd995",
      "metadata": {
        "tags": [],
        "trusted": true
      },
      "outputs": [],
      "source": "get_recommendations('Toy Story (1995)', cosine_sim2)"
    },
    {
      "cell_type": "markdown",
      "id": "0427cc36-4fa6-47ad-8065-792f40f2f81c",
      "metadata": {},
      "source": "Still gives us a rather ridiculous set of movies."
    },
    {
      "cell_type": "markdown",
      "id": "a1f516c3-92df-4a75-8e66-312febd271e3",
      "metadata": {},
      "source": "* Now we'll try improving the quality of our recommender with the usage of better metadata and by capturing more of the finer details. "
    },
    {
      "cell_type": "code",
      "execution_count": null,
      "id": "7eeeedd0-6de6-430a-b99d-0594a8df426d",
      "metadata": {
        "tags": [],
        "trusted": true
      },
      "outputs": [],
      "source": "# Use combo of director and keywords to get another content-based rating\n\nmovies['dir_and_keys'] = movies['director'] + ' ' + movies['keywords']"
    },
    {
      "cell_type": "code",
      "execution_count": null,
      "id": "dd709f4f-69b3-45f1-ade0-347d0b9e25f4",
      "metadata": {
        "tags": [],
        "trusted": true
      },
      "outputs": [],
      "source": "movies.head()"
    },
    {
      "cell_type": "code",
      "execution_count": null,
      "id": "e070ba67-ab0f-4666-b57a-dd1f383b5d3e",
      "metadata": {
        "tags": [],
        "trusted": true
      },
      "outputs": [],
      "source": "from sklearn.feature_extraction.text import CountVectorizer\n\ncount = CountVectorizer(stop_words='english')\nmovies['dir_and_keys'] = movies['dir_and_keys'].fillna('')\ncount_matrix = count.fit_transform(movies['dir_and_keys'])"
    },
    {
      "cell_type": "code",
      "execution_count": null,
      "id": "2769471a-f131-445f-8212-7e3e6d4ecc51",
      "metadata": {
        "tags": [],
        "trusted": true
      },
      "outputs": [],
      "source": "count_matrix.shape"
    },
    {
      "cell_type": "code",
      "execution_count": null,
      "id": "1db6158d-64ac-4953-a44d-07dcf234862b",
      "metadata": {
        "tags": [],
        "trusted": true
      },
      "outputs": [],
      "source": "from sklearn.metrics.pairwise import cosine_similarity\n\ncosine_sim = cosine_similarity(count_matrix, count_matrix)"
    },
    {
      "cell_type": "code",
      "execution_count": null,
      "id": "465ac1ff-fe87-49a4-bc1e-4e37a587ee03",
      "metadata": {
        "tags": [],
        "trusted": true
      },
      "outputs": [],
      "source": "# Reset index of your main DataFrame and construct reverse mapping as before\nmetadata = movies.reset_index()\nindices = pd.Series(movies.index, index=movies['title'])"
    },
    {
      "cell_type": "code",
      "execution_count": null,
      "id": "1afe7957-afab-4166-810d-fefe696d6960",
      "metadata": {
        "tags": [],
        "trusted": true
      },
      "outputs": [],
      "source": "# Function that takes in movie title as input and outputs most similar movies\ndef get_recommendations(title, method):\n    \n    # Get the index of the movie that matches the title\n    idx = indices[title]\n\n    # Get the pairwsie similarity scores of all movies with that movie\n    sim_scores = list(enumerate(method[idx]))\n\n    # Sort the movies based on the similarity scores\n    sim_scores = sorted(sim_scores, key=lambda x: -x[1])\n\n    # Get the scores of the 10 most similar movies\n    sim_scores = sim_scores[1:11]\n\n    # Get the movie indices\n    movie_indices = [i[0] for i in sim_scores]\n\n    # Return the top 10 most similar movies\n    return movies['title'].iloc[movie_indices]"
    },
    {
      "cell_type": "code",
      "execution_count": null,
      "id": "19aceee1-2c83-474d-9915-b66825f093df",
      "metadata": {
        "tags": [],
        "trusted": true
      },
      "outputs": [],
      "source": "get_recommendations('Toy Story (1995)', cosine_sim)"
    },
    {
      "cell_type": "code",
      "execution_count": null,
      "id": "6fa28116-9919-4fa5-9a39-f0e23539bf8e",
      "metadata": {
        "tags": [],
        "trusted": true
      },
      "outputs": [],
      "source": "get_recommendations('40-Year-Old Virgin, The (2005)', cosine_sim)"
    },
    {
      "cell_type": "markdown",
      "id": "92e2568f-8944-46b0-a8ea-ebb94f3c3981",
      "metadata": {},
      "source": "Okay, this is looking better."
    }
  ],
  "metadata": {
    "kernelspec": {
      "display_name": "Python 3 (ipykernel)",
      "language": "python",
      "name": "python3"
    },
    "language_info": {
      "codemirror_mode": {
        "name": "ipython",
        "version": 3
      },
      "file_extension": ".py",
      "mimetype": "text/x-python",
      "name": "python",
      "nbconvert_exporter": "python",
      "pygments_lexer": "ipython3",
      "version": "3.11.6"
    }
  },
  "nbformat": 4,
  "nbformat_minor": 5
}